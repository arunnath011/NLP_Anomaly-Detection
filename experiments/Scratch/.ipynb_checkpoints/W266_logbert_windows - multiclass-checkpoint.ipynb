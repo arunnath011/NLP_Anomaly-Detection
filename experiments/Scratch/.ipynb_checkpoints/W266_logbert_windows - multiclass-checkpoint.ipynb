{
 "cells": [
  {
   "cell_type": "markdown",
   "metadata": {
    "id": "NK2xTV-Xisrl"
   },
   "source": [
    "### 1. Setup\n",
    "\n",
    "Lets get all our libraries and download and process our data."
   ]
  },
  {
   "cell_type": "code",
   "execution_count": null,
   "metadata": {},
   "outputs": [],
   "source": [
    "\n",
    "from google.colab import files\n",
    " \n",
    " \n",
    "uploaded = files.upload()"
   ]
  },
  {
   "cell_type": "code",
   "execution_count": 1,
   "metadata": {
    "colab": {
     "base_uri": "https://localhost:8080/"
    },
    "id": "3gzOXaFdmgO8",
    "outputId": "89326452-59d3-40b8-e7db-9e1e1d6d5c47"
   },
   "outputs": [
    {
     "name": "stdout",
     "output_type": "stream",
     "text": [
      "\u001b[K     |████████████████████████████████| 5.3 MB 27.2 MB/s \n",
      "\u001b[K     |████████████████████████████████| 163 kB 38.4 MB/s \n",
      "\u001b[K     |████████████████████████████████| 7.6 MB 63.5 MB/s \n",
      "\u001b[?25h"
     ]
    }
   ],
   "source": [
    "!pip install -q transformers"
   ]
  },
  {
   "cell_type": "code",
   "execution_count": 2,
   "metadata": {
    "id": "ULcKJUjHmkZT"
   },
   "outputs": [],
   "source": [
    "!pip install pydot --quiet"
   ]
  },
  {
   "cell_type": "code",
   "execution_count": 3,
   "metadata": {
    "id": "aTq7Qjqbmkfv"
   },
   "outputs": [],
   "source": [
    "from sklearn.datasets import fetch_20newsgroups\n",
    "from sklearn.model_selection import train_test_split\n",
    "from sklearn.metrics import classification_report"
   ]
  },
  {
   "cell_type": "code",
   "execution_count": 4,
   "metadata": {
    "id": "-6E-xzDawK0Q"
   },
   "outputs": [],
   "source": [
    "from collections import Counter\n",
    "import numpy as np\n",
    "import tensorflow as tf\n",
    "from tensorflow import keras\n",
    "\n",
    "import seaborn as sns\n",
    "import matplotlib.pyplot as plt\n",
    "from pprint import pprint "
   ]
  },
  {
   "cell_type": "code",
   "execution_count": 5,
   "metadata": {
    "id": "99yIOuqFXMwU"
   },
   "outputs": [],
   "source": [
    "from transformers import BertTokenizer, TFBertModel"
   ]
  },
  {
   "cell_type": "code",
   "execution_count": 6,
   "metadata": {
    "id": "Rdg4Hpbu9ItX"
   },
   "outputs": [],
   "source": [
    "# 4-window plot. Small modification from matplotlib examples.\n",
    "\n",
    "def make_plot(axs, history1, \n",
    "              history2, \n",
    "              y_lim_loss_lower=0.4, \n",
    "              y_lim_loss_upper=1.6,\n",
    "              y_lim_accuracy_lower=0.4, \n",
    "              y_lim_accuracy_upper=0.9,\n",
    "              model_1_name='model 1',\n",
    "              model_2_name='model 2',\n",
    "              \n",
    "             ):\n",
    "    box = dict(facecolor='yellow', pad=5, alpha=0.2)\n",
    "\n",
    "    ax1 = axs[0, 0]\n",
    "    ax1.plot(history1.history['loss'])\n",
    "    ax1.plot(history1.history['val_loss'])\n",
    "    ax1.set_title('loss - ' + model_1_name)\n",
    "    ax1.set_ylabel('loss', bbox=box)\n",
    "    ax1.set_ylim(y_lim_loss_lower, y_lim_loss_upper)\n",
    "\n",
    "    ax3 = axs[1, 0]\n",
    "    ax3.set_title('accuracy - ' + model_1_name)\n",
    "    ax3.plot(history1.history['accuracy'])\n",
    "    ax3.plot(history1.history['val_accuracy'])\n",
    "    ax3.set_ylabel('accuracy', bbox=box)\n",
    "    ax3.set_ylim(y_lim_accuracy_lower, y_lim_accuracy_upper)\n",
    "\n",
    "\n",
    "    ax2 = axs[0, 1]\n",
    "    ax2.set_title('loss - ' + model_2_name)\n",
    "    ax2.plot(history2.history['loss'])\n",
    "    ax2.plot(history2.history['val_loss'])\n",
    "    ax2.set_ylim(y_lim_loss_lower, y_lim_loss_upper)\n",
    "\n",
    "    ax4 = axs[1, 1]\n",
    "    ax4.set_title('accuracy - ' + model_2_name)\n",
    "    ax4.plot(history2.history['accuracy'])\n",
    "    ax4.plot(history2.history['val_accuracy'])\n",
    "    ax4.set_ylim(y_lim_accuracy_lower, y_lim_accuracy_upper)"
   ]
  },
  {
   "cell_type": "code",
   "execution_count": 7,
   "metadata": {
    "id": "UWk_PZ9hmkk0"
   },
   "outputs": [],
   "source": [
    "df=pd.read_csv('Windows_log_labeled.csv')\n",
    "\n",
    "train_ratio = 0.80\n",
    "test_ratio = 0.10\n",
    "validation_ratio = 0.10\n",
    "\n",
    "\n",
    "\n",
    "\n",
    "train_texts, test_texts, train_labels, test_labels = train_test_split(X_train, y_train, test_size=validation_ratio/(train_ratio+test_ratio))\n",
    "\n",
    "print(\"Train Size:\",len(X_train))\n",
    "print(\"Test Size:\",len(X_test))\n",
    "print(\"Valid Size:\",len(X_valid))\n",
    "\n",
    "\n",
    "\n",
    "def read_20newsgroups(test_size=0.1):\n",
    "  # download & load 20newsgroups dataset from sklearn's repos\n",
    "  dataset = fetch_20newsgroups(subset=\"all\", shuffle=True, remove=(\"headers\", \"footers\", \"quotes\"))\n",
    "  documents = dataset.data\n",
    "  labels = dataset.target\n",
    "  # split into training & testing a return data as well as label names\n",
    "  return train_test_split(documents, labels, test_size=test_size), dataset.target_names\n",
    "  \n",
    "# call the function\n",
    "(train_texts, test_texts, train_labels, test_labels), target_names = read_20newsgroups()"
   ]
  },
  {
   "cell_type": "markdown",
   "metadata": {
    "id": "8Ocyl9dnb1OM"
   },
   "source": [
    "Take a look at the records.  We basically have a long string of text and an associated label.  That label is the Usenet group where the posting occured. The records are the raw text.  They vary significantly in size."
   ]
  },
  {
   "cell_type": "code",
   "execution_count": 8,
   "metadata": {
    "colab": {
     "base_uri": "https://localhost:8080/"
    },
    "id": "O7Akxu2Umkpo",
    "outputId": "b5ff6079-af37-4332-cd8e-9bc4780e25ac"
   },
   "outputs": [
    {
     "data": {
      "text/plain": [
       "[\" A cash award is OK. A time limit would be nice. You can't give away\\nmining rights (assuming there's anything to mine) because you don't own\\nthem.\\n -----------------------------------------------------------------\\n .sig files are like strings ... every yo-yo's got one.\",\n",
       " '\\n\\nCan anyone figure out what kind of deranged parent was stupid enough to\\nbring their infant on a rock throwing crusade (or jihad, sorry)?  18-month\\nold infants certainly don\\'t walk around the streets on their own.  That would\\nlead me to believe that some nimrod of a \"parent\" brought them along for a \\nlittle terrorism.\\n\\n\\nthats what happened.\\n\\n\\n\\nUhm, last I heard, the territories were disputed.  Israel\\'s occupation is not\\nillegal.  They are legally allowed to remain there until a settlement is reached\\nwith the arabs which, from the behavior of the Palestinian negotitating team,\\nwill probably be never.\\n\\n\\n\\nhuh?  they were buying vegetables.\\n\\n\\n',\n",
       " '\\nWow, what did you use it for?  Single-tasked word processing?\\nI have 8 files loaded right now and a 29-MB virtual machine (12MB of\\nRAM). My friend down the street gripes that he can\\'t even format a\\nfloppy in the background.  Many unix people love OS/2 because they are\\nused to multi-tasking systems. \\n\\n\\n\\nToo bad they hold a gun to the mouse piper while they\\nthrow mice at their \"new\" trap, trying to get it to work. :)\\n\\n ---------------------------------------------',\n",
       " '\\n\\n\\nfc> Exactly what fraction of current research is done on the big, \\nfc> visable light telescopes? From what I\\'ve seen, 10% or less \\nfc> (down from amlost 100% 25 years ago.) That sounds like \"dying\"\\nfc> to me...\\n\\n That doesn\\'t seem like a fair comparison.  Infrared astronomy \\n didn\\'t really get started until something like 25 yrs. ago; it\\n didn\\'t explode until IRAS in 1983.  Gamma-ray (and I think \\n X-ray) observations didn\\'t really get started until the \\'70s.\\n I believe the same is true of ultraviolet observations in \\n general, and I know that extreme UV (short of 1000 Angstroms)\\n observations, until the EUVE (launched last year) had almost \\n no history except a few observations on Skylab in the \\'70s.\\n\\n Twenty-five years ago, the vast majority of astronomers only \\n had access to optical or radio instruments.  Now, with far more\\n instruments available, growth in some of these new fields has\\n resulted in optical work representing a smaller fraction of \\n total astronomical work.\\n\\n\\n\\nfc> That would be true, if adaptive optics worked well in the visable.\\nfc> But take a look at the papers on the subject: They refer to anything\\nfc> up to 100 microns as \"visable\". I don\\'t know about you, but most\\nfc> people have trouble seeing beyond 7 microns or so... There are\\nfc> reasons to think adaptive optics will not work at shorter \\nfc> wavelengths without truely radical improvements in technology.\\n\\n Hmm, some of the folks in this department planning on using \\n adaptive optics at the 5 m at Palomar for near-infrared \\n observations (1 and 2 microns) might be surprised to hear this.\\n\\n And isn\\'t the NTT already pushing toward 0.1 arcsecond resolution, \\n from a ground-based site (remember 0.1 arcseconds was one of the \\n selling points of HST).\\n\\n\\n\\n\\n',\n",
       " '\\nEvery bit as fast as a dirtbike, in the right terrain.  And we eat\\nflies, thank you.\\n\\n\\nthen why does it go down?\\n\\n\\nSo do most helmetless motorcyclists.\\n\\n\\nhelmetless != goggleless\\n',\n",
       " \"Attention hardware hackers and bargain seekers!\\n\\nI just bought a 640x200 pixel LCD panel for 25 UK pounds.  I have\\na datasheet for a similar panel, but I'm looking for proper data.\\n\\nIf anyone can help with locating data for this device (before I start\\nwith the routine on the phone to Hitachi and rummaging through the\\nlibrary), then I'll pass on the source.\\n\\n\\tType: LM225 (Hitachi)\\n\\tResolution: 640W x 200H (so can do 80x25 chars on 8x8 matrix)\\n\\nBought from:\\n\\n\\tGreenweld Electronics Ltd\\n\\t27 Park Rd\\n\\tSouthampton SO1 3TB, UK\\n\\n\\tTel. +44 703 23 63 63\\n\\tFax. +44 703 23 63 07\\n\\tEmail: Compuserve [100014,1463]\\n\\nNB: I only just bought this!  I don't even know if it works!\\n\\n\\tPrice was 25 UK pounds including VAT (17.5%), which isn't\\n\\tpayable if you're outside the EC.\\n\\nThanks for any info!\\n\\n\\nChris\\n\",\n",
       " '\\nOh! For a second I thought this was a posting by Ed Green!',\n",
       " '\\n\\n\\n\\n\\n\\n\\n\\nYou should be aware that the US Army was called to \"fight\"\\n(and did) WW I veterans (bonus marchers) who marched on\\nDC demanding bonuses they were promised for service.\\nBecaues of the depression, they wanted them early.',\n",
       " \"\\n\\nDenmark, eh?  Should have taken a short sword and cleaved his car\\nin half.  Since I assume you didn't have a short sword on you,\\nI certainly have no problems with your choice of substitute action.\",\n",
       " 'I just hooked up my Mac IIsi to a relatively old (1 year?) Asante EN/SC\\nadapter. The 10Base-T connection works like a charm. I installed the\\nnewest drivers from Asante\\'s ftp server.\\n\\nThe problem begins when I attach one more device to the SCSI chain -\\nspecifically a 50MB drive. I power up the drive, then the Mac. The Mac\\ntests memory, etc. Just before the \"happy Mac face\" normally shows up, the\\npower light on the EN/SC goes out, and the boot process stops. So I can use\\nthe network, or the external drive, but not both at once. This makes the\\nAsante box pretty much unusable.\\n\\nIt doesn\\'t look like a purely electrical SCSI problem, because if I turn\\non the drive just a second or so too late, so that it doesn\\'t get noticed\\nduring the initial SCSI polling, the Mac boots normally and the adapter\\nworks, even though the hard disk is powered on and connected. The Mac has\\n*never* once failed to boot from its internal drive up to now (and I\\'ve had\\nit for over a year).\\n\\nHere is what I tried: changing the SCSI ID\\'s of the EN/SC and the disk --\\nseveral permutations; changing the order of devices, i.e. the EN/SC at the\\nhead or tail of the chain; overterminating with an external terminator\\n(both devices have internal ones); underterminating, i.e. removing internal\\nresistors from the hard disk; trying another EN/SC box; trying another\\nidentical drive; trying several different SCSI cables.\\n\\nHas anybody seen this? More importantly, does anyone have a solution?\\nThanks a lot.    E.\\n']"
      ]
     },
     "execution_count": 8,
     "metadata": {},
     "output_type": "execute_result"
    }
   ],
   "source": [
    "train_texts[:10]"
   ]
  },
  {
   "cell_type": "markdown",
   "metadata": {
    "id": "1eKIgSBdcHy9"
   },
   "source": [
    "Notice the \"labels\" are just integers that are an offset into the list of target names."
   ]
  },
  {
   "cell_type": "code",
   "execution_count": 9,
   "metadata": {
    "colab": {
     "base_uri": "https://localhost:8080/"
    },
    "id": "KRnu9CSQnMNN",
    "outputId": "51d5d274-2539-4ec0-8e74-34cd3136d5df"
   },
   "outputs": [
    {
     "data": {
      "text/plain": [
       "array([14, 17])"
      ]
     },
     "execution_count": 9,
     "metadata": {},
     "output_type": "execute_result"
    }
   ],
   "source": [
    "train_labels[:2]"
   ]
  },
  {
   "cell_type": "markdown",
   "metadata": {
    "id": "F-ksEnmbcWBt"
   },
   "source": [
    "The variable ''target_names'' stores all of the names of the labels."
   ]
  },
  {
   "cell_type": "code",
   "execution_count": 10,
   "metadata": {
    "colab": {
     "base_uri": "https://localhost:8080/"
    },
    "id": "qvNAnCstx-3S",
    "outputId": "7b9a01e2-aeac-496a-f972-528718b76494"
   },
   "outputs": [
    {
     "name": "stdout",
     "output_type": "stream",
     "text": [
      "['alt.atheism', 'comp.graphics', 'comp.os.ms-windows.misc', 'comp.sys.ibm.pc.hardware', 'comp.sys.mac.hardware', 'comp.windows.x', 'misc.forsale', 'rec.autos', 'rec.motorcycles', 'rec.sport.baseball', 'rec.sport.hockey', 'sci.crypt', 'sci.electronics', 'sci.med', 'sci.space', 'soc.religion.christian', 'talk.politics.guns', 'talk.politics.mideast', 'talk.politics.misc', 'talk.religion.misc']\n"
     ]
    }
   ],
   "source": [
    "print(target_names)"
   ]
  },
  {
   "cell_type": "markdown",
   "metadata": {
    "id": "m1SmEVYOcwP6"
   },
   "source": [
    "We already have a test set and a train set.  Let's explicitly set aside part of our training set for validation purposes."
   ]
  },
  {
   "cell_type": "code",
   "execution_count": 11,
   "metadata": {
    "id": "H1toWirQAAZ8"
   },
   "outputs": [],
   "source": [
    "len(train_texts)\n",
    "valid_texts = train_texts[16000:]\n",
    "valid_labels = train_labels[16000:]\n",
    "train_texts = train_texts[:16000]\n",
    "train_labels = train_labels[:16000]"
   ]
  },
  {
   "cell_type": "markdown",
   "metadata": {
    "id": "aBMiGVwHc76-"
   },
   "source": [
    "The validation set will always have 961 records."
   ]
  },
  {
   "cell_type": "code",
   "execution_count": 12,
   "metadata": {
    "colab": {
     "base_uri": "https://localhost:8080/"
    },
    "id": "bzuXsJjwAAOr",
    "outputId": "23352f2c-bcbf-462e-afad-d0155a1e8ae3"
   },
   "outputs": [
    {
     "data": {
      "text/plain": [
       "961"
      ]
     },
     "execution_count": 12,
     "metadata": {},
     "output_type": "execute_result"
    }
   ],
   "source": [
    "len(valid_texts)"
   ]
  },
  {
   "cell_type": "markdown",
   "metadata": {
    "id": "SBy5EKYwdBcZ"
   },
   "source": [
    "The training set will always have 16000 records."
   ]
  },
  {
   "cell_type": "code",
   "execution_count": 13,
   "metadata": {
    "colab": {
     "base_uri": "https://localhost:8080/"
    },
    "id": "MMVgiD8SCHUk",
    "outputId": "30ac67fc-1a00-45d5-bb90-c2a4513088cc"
   },
   "outputs": [
    {
     "data": {
      "text/plain": [
       "16000"
      ]
     },
     "execution_count": 13,
     "metadata": {},
     "output_type": "execute_result"
    }
   ],
   "source": [
    "len(train_texts)"
   ]
  },
  {
   "cell_type": "markdown",
   "metadata": {
    "id": "LGVOwMBKu2OW"
   },
   "source": [
    "**NOTE:** Each time you rerun the data you will draw a *different* set of train and test documents even though the numbers 961 and 16000 will always be the same."
   ]
  },
  {
   "cell_type": "code",
   "execution_count": 14,
   "metadata": {
    "id": "mFISqjoM335H"
   },
   "outputs": [],
   "source": [
    "#get the labels in a needed data format for validation\n",
    "npvalid_labels = np.asarray(valid_labels)"
   ]
  },
  {
   "cell_type": "markdown",
   "metadata": {
    "id": "d3T5uytRdK7I"
   },
   "source": [
    "* train_texts - an array of text strings for training\n",
    "* test_texts - an array of text strings for testing \n",
    "* valid texts - an array of text strings for validation\n",
    "* train_labels - an array of integers representing the labels associated with train_texts\n",
    "* test_labels - an array of integers representing the labels associated with test_texts\n",
    "* valid_labels - an array of integers representing the labels associated with valid_texts\n",
    "* target_names - an array of label strings that correspond to the integers in the *_labels arrays\n",
    "\n",
    "### 2. Classification with a fine tuned BERT model\n",
    "\n",
    "Let's pick our BERT model.  We'll start with the base BERT model and we'll use the cased version since our data has capital and lower case letters."
   ]
  },
  {
   "cell_type": "code",
   "execution_count": 15,
   "metadata": {
    "id": "zjFWaM2ZnMIC"
   },
   "outputs": [],
   "source": [
    "#make it easier to use a variety of BERT subword models\n",
    "model_checkpoint = 'bert-base-cased'"
   ]
  },
  {
   "cell_type": "code",
   "execution_count": 16,
   "metadata": {
    "colab": {
     "base_uri": "https://localhost:8080/",
     "height": 252,
     "referenced_widgets": [
      "dc2521343ed14f19b5b4f54a426dc0b2",
      "ba4f0cebe58a4d0488f3304eb29b88f0",
      "08fec05149c447e1a6bd3e4c960b2952",
      "892baf415b3b43899246d02531daa9d6",
      "5e8787c495604337a1921a534ff23f6a",
      "97de3c494af14d36bbc4be106ddec741",
      "aa5bf45dafeb4db68a8713253299dc30",
      "3d7d143f6a194a82ae5af7d23cc33de7",
      "52d9505159e241109f0a952e5413f96e",
      "b9fdf0452ae548cb815dbd6354d71e63",
      "07cff3ba353140ba8b3c826466843a52",
      "b21725b0a93b4ec0bd3da8a82f160cc7",
      "620151458527449fb25494fdf4f4454f",
      "b35274a36ceb45a2acac8353aa19401b",
      "bb87306a5f4b407aa7539dad83004cd1",
      "5e6b964b5dc74a7fae031671af582b17",
      "dad38b84c7234078b978e86d875e8822",
      "a8f1119d4e0f41159944a2252f8d57e0",
      "84f588ecfc0249b39a5e2cef6030d5f4",
      "6654e46e736344e181cc8a0b2aa0faeb",
      "85ee0f41ff12426b955330c46dd8973b",
      "8461d4c73a9d42608c7e535b89ddf42a",
      "17c528f7bd114268975047ca0b43747b",
      "c80cd4c4feaf42de90f55af30f322b32",
      "fc96ef0213804fe3aa27662f70280c7a",
      "31fe96123d9f4b8db583fd5642ec6bd9",
      "29c8d87cb8cc45c98845bbb8e00e7152",
      "9dd9dd13a01542d7a524e61b0e8011ac",
      "247cb6c76e16448082cbfc637e8c9ea2",
      "ac7afb3da22a43469ccc2ef9ed9f9902",
      "0dd90cebee4143a88b7f2ab53fd47010",
      "f6e9c14ded7a4210a9c993c6d9bab819",
      "e7e8c017439e4d53b27886f69c5bfc5d",
      "6e473206c92c4abface8f1257db57f36",
      "987275e24d814403913688d3932d040a",
      "ffee5eff74a34bfbbd00db6295044c16",
      "cc355e47736140fc8b1ae3c65d073c88",
      "b90afc63a810427f962f40d5e984bdf0",
      "5f2b9dcf05fa45f5976c8291ae269824",
      "976f3962ed7747a69e0fb9446f37b422",
      "d85fb17ddd88417fa00142d57d2094b6",
      "050ae2d544cc481aad283f7aa014d4af",
      "84e23fe60d8347feab973b5c3d99f165",
      "59dd5919a6d84f5d97caaf7cb0874236"
     ]
    },
    "id": "-7gV_GUdn9Ck",
    "outputId": "1bca4045-4794-49cf-add7-4ac6b10e5f52"
   },
   "outputs": [
    {
     "data": {
      "application/vnd.jupyter.widget-view+json": {
       "model_id": "dc2521343ed14f19b5b4f54a426dc0b2",
       "version_major": 2,
       "version_minor": 0
      },
      "text/plain": [
       "Downloading:   0%|          | 0.00/213k [00:00<?, ?B/s]"
      ]
     },
     "metadata": {},
     "output_type": "display_data"
    },
    {
     "data": {
      "application/vnd.jupyter.widget-view+json": {
       "model_id": "b21725b0a93b4ec0bd3da8a82f160cc7",
       "version_major": 2,
       "version_minor": 0
      },
      "text/plain": [
       "Downloading:   0%|          | 0.00/29.0 [00:00<?, ?B/s]"
      ]
     },
     "metadata": {},
     "output_type": "display_data"
    },
    {
     "data": {
      "application/vnd.jupyter.widget-view+json": {
       "model_id": "17c528f7bd114268975047ca0b43747b",
       "version_major": 2,
       "version_minor": 0
      },
      "text/plain": [
       "Downloading:   0%|          | 0.00/570 [00:00<?, ?B/s]"
      ]
     },
     "metadata": {},
     "output_type": "display_data"
    },
    {
     "data": {
      "application/vnd.jupyter.widget-view+json": {
       "model_id": "6e473206c92c4abface8f1257db57f36",
       "version_major": 2,
       "version_minor": 0
      },
      "text/plain": [
       "Downloading:   0%|          | 0.00/527M [00:00<?, ?B/s]"
      ]
     },
     "metadata": {},
     "output_type": "display_data"
    },
    {
     "name": "stderr",
     "output_type": "stream",
     "text": [
      "Some layers from the model checkpoint at bert-base-cased were not used when initializing TFBertModel: ['mlm___cls', 'nsp___cls']\n",
      "- This IS expected if you are initializing TFBertModel from the checkpoint of a model trained on another task or with another architecture (e.g. initializing a BertForSequenceClassification model from a BertForPreTraining model).\n",
      "- This IS NOT expected if you are initializing TFBertModel from the checkpoint of a model that you expect to be exactly identical (initializing a BertForSequenceClassification model from a BertForSequenceClassification model).\n",
      "All the layers of TFBertModel were initialized from the model checkpoint at bert-base-cased.\n",
      "If your task is similar to the task the model of the checkpoint was trained on, you can already use TFBertModel for predictions without further training.\n"
     ]
    }
   ],
   "source": [
    "bert_tokenizer = BertTokenizer.from_pretrained(model_checkpoint)\n",
    "bert_model = TFBertModel.from_pretrained(model_checkpoint)"
   ]
  },
  {
   "cell_type": "markdown",
   "metadata": {
    "id": "ZJGkIHSHdilH"
   },
   "source": [
    "We're setting our maximum training record length to 200.  BERT models can handle more and after you've completed the assignment you're welcome to try larger and small sized records."
   ]
  },
  {
   "cell_type": "code",
   "execution_count": 17,
   "metadata": {
    "id": "h_59AaVznMCV"
   },
   "outputs": [],
   "source": [
    "max_length = 200"
   ]
  },
  {
   "cell_type": "markdown",
   "metadata": {
    "id": "n6d54_bqd58L"
   },
   "source": [
    "Now we'll tokenize our three data slices.  This will take a minute or two."
   ]
  },
  {
   "cell_type": "code",
   "execution_count": 18,
   "metadata": {
    "id": "bgv0nftinL6z"
   },
   "outputs": [],
   "source": [
    "# tokenize the dataset, truncate when passed `max_length`, \n",
    "# and pad with 0's when less than `max_length` and return a tf Tensor\n",
    "train_encodings = bert_tokenizer(train_texts, truncation=True, padding=True, max_length=max_length, return_tensors='tf')\n",
    "valid_encodings = bert_tokenizer(valid_texts, truncation=True, padding=True, max_length=max_length, return_tensors='tf')\n",
    "test_encodings = bert_tokenizer(test_texts, truncation=True, padding=True, max_length=max_length, return_tensors='tf')"
   ]
  },
  {
   "cell_type": "markdown",
   "metadata": {
    "id": "2gNS0Fi0emN8"
   },
   "source": [
    "Notice our input_ids for the first training record and their padding. The train_encodings also includes an array of token_type_ids and an attention_mask array. "
   ]
  },
  {
   "cell_type": "code",
   "execution_count": 19,
   "metadata": {
    "colab": {
     "base_uri": "https://localhost:8080/"
    },
    "id": "XFEXxgAmnLve",
    "outputId": "d0cef7da-0e0d-4de0-d640-61b4bce12a8b"
   },
   "outputs": [
    {
     "data": {
      "text/plain": [
       "<tf.Tensor: shape=(1, 200), dtype=int32, numpy=\n",
       "array([[  101,   138,  5948,  2574,  1110, 10899,   119,   138,  1159,\n",
       "         5310,  1156,  1129,  3505,   119,  1192,  1169,   112,   189,\n",
       "         1660,  1283,  5463,  2266,   113, 11577,  1175,   112,   188,\n",
       "         1625,  1106,  2317,   114,  1272,  1128,  1274,   112,   189,\n",
       "         1319,  1172,   119,   118,   118,   118,   118,   118,   118,\n",
       "          118,   118,   118,   118,   118,   118,   118,   118,   118,\n",
       "          118,   118,   118,   118,   118,   118,   118,   118,   118,\n",
       "          118,   118,   118,   118,   118,   118,   118,   118,   118,\n",
       "          118,   118,   118,   118,   118,   118,   118,   118,   118,\n",
       "          118,   118,   118,   118,   118,   118,   118,   118,   118,\n",
       "          118,   118,   118,   118,   118,   118,   118,   118,   118,\n",
       "          118,   118,   118,   118,   118,   119, 27466,  1403,  7004,\n",
       "         1132,  1176,  8409,   119,   119,   119,  1451, 26063,   118,\n",
       "        26063,   112,   188,  1400,  1141,   119,   102,     0,     0,\n",
       "            0,     0,     0,     0,     0,     0,     0,     0,     0,\n",
       "            0,     0,     0,     0,     0,     0,     0,     0,     0,\n",
       "            0,     0,     0,     0,     0,     0,     0,     0,     0,\n",
       "            0,     0,     0,     0,     0,     0,     0,     0,     0,\n",
       "            0,     0,     0,     0,     0,     0,     0,     0,     0,\n",
       "            0,     0,     0,     0,     0,     0,     0,     0,     0,\n",
       "            0,     0,     0,     0,     0,     0,     0,     0,     0,\n",
       "            0,     0,     0,     0,     0,     0,     0,     0,     0,\n",
       "            0,     0]], dtype=int32)>"
      ]
     },
     "execution_count": 19,
     "metadata": {},
     "output_type": "execute_result"
    }
   ],
   "source": [
    "train_encodings.input_ids[:1]"
   ]
  },
  {
   "cell_type": "markdown",
   "metadata": {
    "id": "23lwfDw2T6gI"
   },
   "source": [
    "Write a function to create this multiclass bert model.\n",
    "\n",
    "Keep in mind the following:\n",
    "* Each record can have one of n labels where n = the size of target_names.\n",
    "* We'll still want a hidden size layer of size 201\n",
    "* We'll also want dropout\n",
    "* Our classification layer will need to be appropriately sized and use the correct non-linearity for a multi-class problem.\n",
    "* Since we have multiple labels we can no longer use binary cross entropy.  Instead we need to change our loss metric to a categorical cross entropy.  Which of the two categorical cross entropy metrics will work best here? \n",
    "* Make sure that training affects all of the layers in BERT.\n"
   ]
  },
  {
   "cell_type": "code",
   "execution_count": 20,
   "metadata": {
    "id": "RtWMrLi4tIun"
   },
   "outputs": [],
   "source": [
    "def create_bert_multiclass_model(checkpoint = model_checkpoint,\n",
    "                                hidden_size = 201, \n",
    "                                dropout=0.3,\n",
    "                                learning_rate=0.00005):\n",
    "    \"\"\"\n",
    "    Build a simple classification model with BERT. Use the Pooled Output for classification purposes.\n",
    "    \"\"\"\n",
    "    bert_model = TFBertModel.from_pretrained(checkpoint)                                              \n",
    "\n",
    "    ### YOUR CODE HERE\n",
    "    \n",
    "\n",
    "    input_ids = tf.keras.layers.Input(shape=(max_length,), dtype=tf.int64, name='input_ids_layer')\n",
    "    token_type_ids = tf.keras.layers.Input(shape=(max_length,), dtype=tf.int64, name='token_type_ids_layer')\n",
    "    attention_mask = tf.keras.layers.Input(shape=(max_length,), dtype=tf.int64, name='attention_mask_layer')\n",
    "\n",
    "    bert_inputs = {'input_ids': input_ids,\n",
    "                   'token_type_ids': token_type_ids,\n",
    "                   'attention_mask': attention_mask}      \n",
    "\n",
    "    bert_out = bert_model(bert_inputs)\n",
    "\n",
    "    pooled_token = bert_out[1]\n",
    "\n",
    "    hidden = tf.keras.layers.Dense(hidden_size, activation='relu', name='hidden_layer')(pooled_token)\n",
    "\n",
    "\n",
    "    hidden = tf.keras.layers.Dropout(dropout)(hidden)  \n",
    "\n",
    "\n",
    "    classification = tf.keras.layers.Dense(20, activation='softmax',name='classification_layer')(hidden)\n",
    "    \n",
    "    classification_model = tf.keras.Model(inputs=[input_ids, token_type_ids, attention_mask], outputs=[classification])\n",
    "    \n",
    "    classification_model.compile(optimizer=tf.keras.optimizers.Adam(learning_rate=learning_rate),\n",
    "                                 loss=tf.keras.losses.SparseCategoricalCrossentropy(from_logits=False), \n",
    "                                 metrics='accuracy')\n",
    "\n",
    "    ### END YOUR CODE\n",
    "    return classification_model"
   ]
  },
  {
   "cell_type": "code",
   "execution_count": 21,
   "metadata": {
    "colab": {
     "base_uri": "https://localhost:8080/"
    },
    "id": "uR-Id158tIlH",
    "outputId": "a391697a-1399-48a0-a077-6df1405877dd"
   },
   "outputs": [
    {
     "name": "stderr",
     "output_type": "stream",
     "text": [
      "Some layers from the model checkpoint at bert-base-cased were not used when initializing TFBertModel: ['mlm___cls', 'nsp___cls']\n",
      "- This IS expected if you are initializing TFBertModel from the checkpoint of a model trained on another task or with another architecture (e.g. initializing a BertForSequenceClassification model from a BertForPreTraining model).\n",
      "- This IS NOT expected if you are initializing TFBertModel from the checkpoint of a model that you expect to be exactly identical (initializing a BertForSequenceClassification model from a BertForSequenceClassification model).\n",
      "All the layers of TFBertModel were initialized from the model checkpoint at bert-base-cased.\n",
      "If your task is similar to the task the model of the checkpoint was trained on, you can already use TFBertModel for predictions without further training.\n"
     ]
    }
   ],
   "source": [
    "pooled_bert_model = create_bert_multiclass_model(checkpoint = model_checkpoint)"
   ]
  },
  {
   "cell_type": "code",
   "execution_count": 22,
   "metadata": {
    "colab": {
     "base_uri": "https://localhost:8080/"
    },
    "id": "bMxpO16-tIaE",
    "outputId": "b88a2f6d-36d0-48b5-8d3f-c1f4b1b1898c"
   },
   "outputs": [
    {
     "name": "stdout",
     "output_type": "stream",
     "text": [
      "Model: \"model\"\n",
      "__________________________________________________________________________________________________\n",
      " Layer (type)                   Output Shape         Param #     Connected to                     \n",
      "==================================================================================================\n",
      " attention_mask_layer (InputLay  [(None, 200)]       0           []                               \n",
      " er)                                                                                              \n",
      "                                                                                                  \n",
      " input_ids_layer (InputLayer)   [(None, 200)]        0           []                               \n",
      "                                                                                                  \n",
      " token_type_ids_layer (InputLay  [(None, 200)]       0           []                               \n",
      " er)                                                                                              \n",
      "                                                                                                  \n",
      " tf_bert_model_1 (TFBertModel)  TFBaseModelOutputWi  108310272   ['attention_mask_layer[0][0]',   \n",
      "                                thPoolingAndCrossAt               'input_ids_layer[0][0]',        \n",
      "                                tentions(last_hidde               'token_type_ids_layer[0][0]']   \n",
      "                                n_state=(None, 200,                                               \n",
      "                                 768),                                                            \n",
      "                                 pooler_output=(Non                                               \n",
      "                                e, 768),                                                          \n",
      "                                 past_key_values=No                                               \n",
      "                                ne, hidden_states=N                                               \n",
      "                                one, attentions=Non                                               \n",
      "                                e, cross_attentions                                               \n",
      "                                =None)                                                            \n",
      "                                                                                                  \n",
      " hidden_layer (Dense)           (None, 201)          154569      ['tf_bert_model_1[0][1]']        \n",
      "                                                                                                  \n",
      " dropout_74 (Dropout)           (None, 201)          0           ['hidden_layer[0][0]']           \n",
      "                                                                                                  \n",
      " classification_layer (Dense)   (None, 20)           4040        ['dropout_74[0][0]']             \n",
      "                                                                                                  \n",
      "==================================================================================================\n",
      "Total params: 108,468,881\n",
      "Trainable params: 108,468,881\n",
      "Non-trainable params: 0\n",
      "__________________________________________________________________________________________________\n"
     ]
    }
   ],
   "source": [
    "pooled_bert_model.summary()"
   ]
  },
  {
   "cell_type": "markdown",
   "metadata": {
    "id": "5chyZZnHdlf9"
   },
   "source": [
    "**QUESTION:** 2.1 How many trainable parameters are in your dense hidden layer?\n",
    "\n",
    "**QUESTION:** 2.2 How many trainable parameters are in your classification layer?"
   ]
  },
  {
   "cell_type": "code",
   "execution_count": 23,
   "metadata": {
    "colab": {
     "base_uri": "https://localhost:8080/",
     "height": 338
    },
    "id": "xe3tTWX6FVZL",
    "outputId": "82bb47a6-c661-4c55-fdb6-68c70d1dbf72"
   },
   "outputs": [
    {
     "data": {
      "image/png": "[encoded data removed]",
      "text/plain": [
       "<IPython.core.display.Image object>"
      ]
     },
     "execution_count": 23,
     "metadata": {},
     "output_type": "execute_result"
    }
   ],
   "source": [
    "keras.utils.plot_model(pooled_bert_model, show_shapes=True, dpi=90)"
   ]
  },
  {
   "cell_type": "code",
   "execution_count": 24,
   "metadata": {
    "colab": {
     "base_uri": "https://localhost:8080/"
    },
    "id": "aLLjb3mOtICy",
    "outputId": "0da5f3ae-1ab5-40af-e9af-53fdb76e6775"
   },
   "outputs": [
    {
     "name": "stdout",
     "output_type": "stream",
     "text": [
      "2000/2000 [==============================] - 727s 359ms/step - loss: 1.4104 - accuracy: 0.5842 - val_loss: 1.0903 - val_accuracy: 0.6785\n"
     ]
    }
   ],
   "source": [
    "#It takes 10 to 14 minutes to complete an epoch when using a GPU\n",
    "pooled_bert_model_history = pooled_bert_model.fit([train_encodings.input_ids, train_encodings.token_type_ids, train_encodings.attention_mask], \n",
    "                                                  train_labels,   \n",
    "                                                  validation_data=([valid_encodings.input_ids, valid_encodings.token_type_ids, valid_encodings.attention_mask], \n",
    "                                                  npvalid_labels),    \n",
    "                                                  batch_size=8, \n",
    "                                                  epochs=1)  "
   ]
  },
  {
   "cell_type": "markdown",
   "metadata": {
    "id": "rdHlOd4LJUOH"
   },
   "source": [
    "Now we need to run evaluate against our fine-tuned model.  This will give us an overall accuracy based on the test set."
   ]
  },
  {
   "cell_type": "code",
   "execution_count": 25,
   "metadata": {
    "colab": {
     "base_uri": "https://localhost:8080/"
    },
    "id": "dPQn2tJPEGdU",
    "outputId": "50d8e9d8-f282-47ee-cdf7-dfaf54d5d854"
   },
   "outputs": [
    {
     "name": "stdout",
     "output_type": "stream",
     "text": [
      "59/59 [==============================] - 27s 453ms/step - loss: 1.0972 - accuracy: 0.6589\n",
      "Test loss: 1.0971646308898926\n",
      "Test accuracy: 0.6588859558105469\n"
     ]
    }
   ],
   "source": [
    "#batch 8, ML=201\n",
    "score = pooled_bert_model.evaluate([test_encodings.input_ids, test_encodings.token_type_ids, test_encodings.attention_mask], \n",
    "                                                  test_labels) \n",
    "\n",
    "print('Test loss:', score[0]) \n",
    "print('Test accuracy:', score[1])"
   ]
  },
  {
   "cell_type": "markdown",
   "metadata": {
    "id": "3CnyZsXLfLJt"
   },
   "source": [
    "**QUESTION:** 2.3 What is the Test accuracy score you get from your model with a batch size of 8? (Just copy and paste the value into the answers sheet and round to five significant digits.)"
   ]
  },
  {
   "cell_type": "code",
   "execution_count": 26,
   "metadata": {
    "colab": {
     "base_uri": "https://localhost:8080/"
    },
    "id": "NS7Gp_IYEiJ_",
    "outputId": "81c9f563-0a22-42c3-888d-937d83857ecd"
   },
   "outputs": [
    {
     "name": "stdout",
     "output_type": "stream",
     "text": [
      "1/1 [==============================] - 3s 3s/step\n"
     ]
    }
   ],
   "source": [
    "#run predict for the first three elements in the test data set\n",
    "predictions = pooled_bert_model.predict([test_encodings.input_ids[:3], test_encodings.token_type_ids[:3], test_encodings.attention_mask[:3]])"
   ]
  },
  {
   "cell_type": "code",
   "execution_count": 27,
   "metadata": {
    "colab": {
     "base_uri": "https://localhost:8080/"
    },
    "id": "ymGM8QnpchnC",
    "outputId": "39d7570d-414d-434d-97a5-2b7a3f1e97ab"
   },
   "outputs": [
    {
     "data": {
      "text/plain": [
       "array([[5.6135491e-04, 3.7225892e-04, 3.3612607e-05, 1.7085674e-04,\n",
       "        1.2062695e-04, 1.0305723e-04, 8.4007095e-04, 1.9630741e-03,\n",
       "        9.9184167e-01, 1.9004740e-04, 1.2601801e-04, 3.9649018e-05,\n",
       "        8.3186215e-04, 5.3883932e-04, 1.9587653e-03, 4.8055404e-05,\n",
       "        2.4522657e-05, 6.1068589e-05, 1.0266456e-04, 7.1925315e-05],\n",
       "       [2.1261975e-02, 5.7221239e-04, 2.0583367e-04, 1.6016971e-04,\n",
       "        4.7197781e-04, 2.0716216e-04, 4.9195217e-04, 6.1240082e-04,\n",
       "        1.1756555e-03, 1.1166180e-03, 9.0500031e-04, 9.2213292e-04,\n",
       "        7.3527539e-04, 9.6979743e-04, 3.6836273e-04, 9.1489929e-01,\n",
       "        1.6247502e-03, 7.2805805e-04, 4.8442981e-03, 4.7727138e-02],\n",
       "       [5.1127184e-02, 3.3245675e-02, 8.1557147e-02, 5.5231910e-02,\n",
       "        8.4152818e-02, 1.2426426e-02, 4.9935490e-02, 8.4026709e-02,\n",
       "        8.6087629e-02, 2.1866109e-02, 2.3118213e-02, 8.1560716e-02,\n",
       "        5.4009095e-02, 2.9003214e-02, 7.7073961e-02, 4.6670716e-02,\n",
       "        2.8227618e-02, 3.5534497e-02, 3.4774385e-02, 3.0370519e-02]],\n",
       "      dtype=float32)"
      ]
     },
     "execution_count": 27,
     "metadata": {},
     "output_type": "execute_result"
    }
   ],
   "source": [
    "predictions"
   ]
  },
  {
   "cell_type": "code",
   "execution_count": 28,
   "metadata": {
    "colab": {
     "base_uri": "https://localhost:8080/"
    },
    "id": "-ahMJ-zwEiCs",
    "outputId": "008f55f3-3bf4-4ec8-bef6-f1d47f489b16"
   },
   "outputs": [
    {
     "name": "stdout",
     "output_type": "stream",
     "text": [
      "59/59 [==============================] - 27s 454ms/step\n"
     ]
    },
    {
     "data": {
      "text/plain": [
       "<tf.Tensor: shape=(1885,), dtype=int64, numpy=array([ 8, 15,  8, ..., 11,  0, 13])>"
      ]
     },
     "execution_count": 28,
     "metadata": {},
     "output_type": "execute_result"
    }
   ],
   "source": [
    "#run and capture all predictions from our test set using model.predict\n",
    "### YOUR CODE HERE\n",
    "predictions = pooled_bert_model.predict([test_encodings.input_ids, test_encodings.token_type_ids, test_encodings.attention_mask])\n",
    "### END YOUR CODE\n",
    "\n",
    "#now we need to get the highest probability in the distribution for each prediction\n",
    "#and store that in a tf.Tensor\n",
    "predictions = tf.argmax(predictions, axis=-1)\n",
    "predictions"
   ]
  },
  {
   "cell_type": "markdown",
   "metadata": {
    "id": "LGI8oA6fMWTI"
   },
   "source": [
    "There are two ways to see what's going on with our classifier.  Overall accuracy is interesting but it can be misleading.  We need to make sure that each of our categories' prediction performance is operating at an equal or higher level than the overall.\n",
    "\n",
    "Here we'll use the classification report from scikit learn.  It expects two inputs as arrays.  One is the ground truth (y_true) and the other is the associated prediction (y_pred).  This is based on gethering all the predictions from our our test set."
   ]
  },
  {
   "cell_type": "code",
   "execution_count": 29,
   "metadata": {
    "colab": {
     "base_uri": "https://localhost:8080/"
    },
    "id": "wPqioIbh2XIE",
    "outputId": "93bc8361-4538-4bd4-bb52-2a654aee4b8e"
   },
   "outputs": [
    {
     "name": "stdout",
     "output_type": "stream",
     "text": [
      "                          precision    recall  f1-score   support\n",
      "\n",
      "             alt.atheism       0.44      0.55      0.48        88\n",
      "           comp.graphics       0.74      0.56      0.64        93\n",
      " comp.os.ms-windows.misc       0.63      0.44      0.52       109\n",
      "comp.sys.ibm.pc.hardware       0.42      0.73      0.54       100\n",
      "   comp.sys.mac.hardware       0.78      0.63      0.70       119\n",
      "          comp.windows.x       0.76      0.81      0.78        80\n",
      "            misc.forsale       0.71      0.81      0.76        94\n",
      "               rec.autos       0.56      0.58      0.57       103\n",
      "         rec.motorcycles       0.83      0.58      0.68        91\n",
      "      rec.sport.baseball       0.93      0.70      0.80        92\n",
      "        rec.sport.hockey       0.95      0.84      0.89        93\n",
      "               sci.crypt       0.51      0.79      0.62        91\n",
      "         sci.electronics       0.74      0.62      0.68       108\n",
      "                 sci.med       0.82      0.79      0.81        95\n",
      "               sci.space       0.74      0.78      0.76        93\n",
      "  soc.religion.christian       0.58      0.78      0.66        97\n",
      "      talk.politics.guns       0.49      0.80      0.61        75\n",
      "   talk.politics.mideast       0.86      0.82      0.84       117\n",
      "      talk.politics.misc       0.50      0.40      0.45        72\n",
      "      talk.religion.misc       1.00      0.03      0.05        75\n",
      "\n",
      "                accuracy                           0.66      1885\n",
      "               macro avg       0.70      0.65      0.64      1885\n",
      "            weighted avg       0.70      0.66      0.65      1885\n",
      "\n"
     ]
    }
   ],
   "source": [
    "print(classification_report(test_labels, predictions.numpy(), target_names=target_names))"
   ]
  },
  {
   "cell_type": "markdown",
   "metadata": {
    "id": "ddMMQ2vBOJKj"
   },
   "source": [
    "**QUESTION:** 2.4 What is the macro average f1 score you get from the classification report for batch size 8?\n",
    "\n",
    "Now we'll generate another very valuable visualization of what's happening with our classifier -- a confusion matrix."
   ]
  },
  {
   "cell_type": "code",
   "execution_count": 30,
   "metadata": {
    "id": "udwdL6iKEh7b"
   },
   "outputs": [],
   "source": [
    "cm = tf.math.confusion_matrix(test_labels, predictions)\n",
    "cm = cm/cm.numpy().sum(axis=1)[:, tf.newaxis]\n"
   ]
  },
  {
   "cell_type": "markdown",
   "metadata": {
    "id": "_9YL2AlQOY4Y"
   },
   "source": [
    "And now we'll display it!"
   ]
  },
  {
   "cell_type": "code",
   "execution_count": 31,
   "metadata": {
    "colab": {
     "base_uri": "https://localhost:8080/",
     "height": 584
    },
    "id": "gh0Bxg-8EhzZ",
    "outputId": "056d1e58-1fa4-4406-dcc2-9c5b8b770e2a"
   },
   "outputs": [
    {
     "data": {
      "text/plain": [
       "Text(159.0, 0.5, 'True')"
      ]
     },
     "execution_count": 31,
     "metadata": {},
     "output_type": "execute_result"
    },
    {
     "data": {
      "image/png": "[encoded data removed]",
      "text/plain": [
       "<Figure size 1440x504 with 2 Axes>"
      ]
     },
     "metadata": {
      "needs_background": "light"
     },
     "output_type": "display_data"
    }
   ],
   "source": [
    "plt.figure(figsize=(20,7))\n",
    "sns.heatmap(\n",
    "    cm, annot=True,\n",
    "    xticklabels=target_names,\n",
    "    yticklabels=target_names)\n",
    "plt.xlabel(\"Predicted\")\n",
    "plt.ylabel(\"True\")\n"
   ]
  },
  {
   "cell_type": "markdown",
   "metadata": {
    "id": "6OKhCGVDOgdl"
   },
   "source": [
    "### 3. Classification with some preprocessed data and the BERT model\n",
    "\n",
    "Okay, not bad.  As you saw there are a lot of odd characters in our input so maybe cleaning some of those out and forcing everything to lower case while running a bert-base-uncased model will give us some imporvement in our prediciotns.  Let's give that a shot.  First let's clean out our text a bit.  Remember, it is critical that we preform identical preprocessing on our training, text, and validation sets."
   ]
  },
  {
   "cell_type": "code",
   "execution_count": 32,
   "metadata": {
    "id": "b0rAv6nLmrwN"
   },
   "outputs": [],
   "source": [
    "from string import digits\n",
    "def preprocess(sentence):\n",
    "    sentence=str(sentence)\n",
    "    sentence = sentence.lower()\n",
    "    sentence = sentence.replace('\\n', ' ')\n",
    "    #what other characters or strings might you replace to clean up this data\n",
    "    #we don't expect a full set.  Please enter six of them here.\n",
    "    ### YOUR CODE HERE\n",
    "    sentence = sentence.replace('-', '')\n",
    "    sentence = sentence.replace('\"', '')\n",
    "    sentence = sentence.replace('(', '')\n",
    "    sentence = sentence.replace(')', '')\n",
    "    sentence = sentence.replace('..', '.')\n",
    "    sentence = sentence.replace('..', '.')\n",
    "    sentence = sentence.replace('\\t', ' ')\n",
    "    sentence = sentence.replace('  ', '')\n",
    "    remove_digits = str.maketrans('', '', digits)\n",
    "    sentence = sentence.translate(remove_digits)\n",
    "    ### END YOUR CODE\n",
    "    return sentence\n",
    "\n",
    "cleantrain_texts = list(map(preprocess, train_texts))\n",
    "\n",
    "\n",
    "#you need to make sure you apply the same preprocessing to the test and validation sets\n",
    "### YOUR CODE HERE\n",
    "cleantest_texts = list(map(preprocess, test_texts))\n",
    "cleanvalid_texts = list(map(preprocess, valid_texts))\n",
    "\n",
    "### END YOUR CODE"
   ]
  },
  {
   "cell_type": "code",
   "execution_count": 33,
   "metadata": {
    "colab": {
     "base_uri": "https://localhost:8080/"
    },
    "id": "qbsCtKK3mrny",
    "outputId": "c01a72a0-c3e2-4e9b-ee6b-05dd1574b1dc"
   },
   "outputs": [
    {
     "data": {
      "text/plain": [
       "[\" a cash award is ok. a time limit would be nice. you can't give away mining rights assuming there's anything to mine because you don't own them..sig files are like strings . every yoyo's got one.\",\n",
       " \"can anyone figure out what kind of deranged parent was stupid enough to bring their infant on a rock throwing crusade or jihad, sorry?month old infants certainly don't walk around the streets on their own.that would lead me to believe that some nimrod of a parent brought them along for alittle terrorism. thats what happened.uhm, last i heard, the territories were disputed.israel's occupation is not illegal.they are legally allowed to remain there until a settlement is reached with the arabs which, from the behavior of the palestinian negotitating team, will probably be never.huh?they were buying vegetables. \"]"
      ]
     },
     "execution_count": 33,
     "metadata": {},
     "output_type": "execute_result"
    }
   ],
   "source": [
    "cleantrain_texts[:2]"
   ]
  },
  {
   "cell_type": "code",
   "execution_count": 34,
   "metadata": {
    "colab": {
     "base_uri": "https://localhost:8080/"
    },
    "id": "TJD-PasK6RIp",
    "outputId": "0f43935a-c1da-4085-f2dd-febb82897c6e"
   },
   "outputs": [
    {
     "data": {
      "text/plain": [
       "[\" : i have seen these numbers quoted before, and i have seen very specific : refutation of them quoted as well.if someone will be so kind as to : email the relevant information, i will write a letter to the editor of : the co. daily which might get published and send a copy to usn&wr as : well.thanks to all who responded.the letter has been written making liberal use of info provided by various net.folks and handed to the paper.i'll post if it gets into the paper!dan dod # / loki@acca.nmsu.edu / liberty or death / taylordf@ucsu.colorado.edu send me something even you can't read. begin pgp public key block version: .\",\n",
       " \"i have a question for you all related to this.jesus condemns divorce several times in the new testament, and i have a hard time with this. the catholic church as far as i can tell does grant annulments with the statement that the marriage never really existed in god's eyes. please, if i am mistinterpreting, correct me.however, i have witnessed marriages where two people were very much in love but recognized that they were destroying themselves and each other by staying in a marriage, and that the problems were due to personal childhood issues that had never been resolved.i ask you, is divorce justified in such a case?they knew who they were, what they were doing, they were deeply in love, but in the end, it did not work out. i must admit that i don't see jesus forcing them to live together, or even condemning that they go and seek happiness with someone else later on.opinions?vera ******************************************************************************* i am your clock! |i bind unto myself today| vera noyes i am your religion!|the strong name of the | noye@midway.uchicago.edu i own you!|trinity.| no disclaimerwhat lard|st. patrick's breastplate | is there to disclaim? *******************************************************************************\"]"
      ]
     },
     "execution_count": 34,
     "metadata": {},
     "output_type": "execute_result"
    }
   ],
   "source": [
    "cleantest_texts[:2]"
   ]
  },
  {
   "cell_type": "code",
   "execution_count": 35,
   "metadata": {
    "colab": {
     "base_uri": "https://localhost:8080/",
     "height": 252,
     "referenced_widgets": [
      "b5846b5c74f54b8ab22d8c74c5b6fa68",
      "21596ada756146eea5adb74b56583204",
      "27fb532f684945a09a9518829b915a19",
      "29487477e7794f788cf038a3a0deb98a",
      "2a67890b0ec5462aa024e710a1e8e747",
      "4830618402014a04b83f544fe611a2e5",
      "0873336e312e485fb45e550512518330",
      "200ad1650bde4e3f889541baf376ee88",
      "c0266e9b5727428cb63fe1e91e39685b",
      "1135462f0bb946188ba9d1270ba10fd3",
      "893ce365f1ff4e0d90c86ca20d1ae9d4",
      "9308012cae84431d8340af892a204449",
      "73142fc877a84be7b79df58d3d89c210",
      "8861f3cb4ddf46689940a1e57d5e05e8",
      "48cf36afa9b84885ba9643951fdbb02f",
      "64ead1c9d10b48c59f03eb92fcc6c090",
      "15d863385e8944c98e8acdf261b01e38",
      "c840f231e6884b7d89802cd060bc5961",
      "e4f8e078dd97449fb6601143be8ef484",
      "bcb86c1f7b10408db8faf1174274bd30",
      "e411b1732ebf4e0e891f513149235898",
      "e9f7ee8463ba4a47a7c7c91e20287a3a",
      "2661e49356904028873b9c1c0c5239ca",
      "d249ad43ba3146e3a05eb2a02caa34fc",
      "d6ba716c6af04a3ea79eca2798a0670c",
      "ea2ac9987548441dbfa4b0179ba961ec",
      "421b30518e44483aa9aac44e8db58df2",
      "0e0e46fc31764e9199df1afd00fc173c",
      "5433de634cf2483080887c36c2f200a3",
      "09f61e6095c64cfdadbfc9a0d0888164",
      "a082300f9c474763b1c4308e74576885",
      "855e4cc0e6fa4555a8d51a7b4948c0d0",
      "41d9f7c5c2674664939d66ffce647073",
      "9ef69be1e99e4d1ebf6061c583304aae",
      "817ab37ac1a74ab8ba4625f4f67f482a",
      "8cd745c018714e6fbf74ce88576c99cf",
      "6f01251b030946e593b7a8fabed7b201",
      "4d6e46479c324717a2edfc82b17f50f8",
      "36ebe93ad60746a4a2ae107aca44b1f6",
      "0a56159b97d14b048dc560c581153ec0",
      "37bf85eb6efb4d92baf318c3adbe3253",
      "04be7c10ce4641129d83470b1b6faa6f",
      "69c117b555824e6691963c2b90211188",
      "c99b9fdcc70e41c6ab2a04caaff42a8c"
     ]
    },
    "id": "zHe5qG5hKGwF",
    "outputId": "049df33f-ac71-4059-fefc-faec6b7c96f0"
   },
   "outputs": [
    {
     "data": {
      "application/vnd.jupyter.widget-view+json": {
       "model_id": "b5846b5c74f54b8ab22d8c74c5b6fa68",
       "version_major": 2,
       "version_minor": 0
      },
      "text/plain": [
       "Downloading:   0%|          | 0.00/232k [00:00<?, ?B/s]"
      ]
     },
     "metadata": {},
     "output_type": "display_data"
    },
    {
     "data": {
      "application/vnd.jupyter.widget-view+json": {
       "model_id": "9308012cae84431d8340af892a204449",
       "version_major": 2,
       "version_minor": 0
      },
      "text/plain": [
       "Downloading:   0%|          | 0.00/28.0 [00:00<?, ?B/s]"
      ]
     },
     "metadata": {},
     "output_type": "display_data"
    },
    {
     "data": {
      "application/vnd.jupyter.widget-view+json": {
       "model_id": "2661e49356904028873b9c1c0c5239ca",
       "version_major": 2,
       "version_minor": 0
      },
      "text/plain": [
       "Downloading:   0%|          | 0.00/570 [00:00<?, ?B/s]"
      ]
     },
     "metadata": {},
     "output_type": "display_data"
    },
    {
     "data": {
      "application/vnd.jupyter.widget-view+json": {
       "model_id": "9ef69be1e99e4d1ebf6061c583304aae",
       "version_major": 2,
       "version_minor": 0
      },
      "text/plain": [
       "Downloading:   0%|          | 0.00/536M [00:00<?, ?B/s]"
      ]
     },
     "metadata": {},
     "output_type": "display_data"
    },
    {
     "name": "stderr",
     "output_type": "stream",
     "text": [
      "Some layers from the model checkpoint at bert-base-uncased were not used when initializing TFBertModel: ['mlm___cls', 'nsp___cls']\n",
      "- This IS expected if you are initializing TFBertModel from the checkpoint of a model trained on another task or with another architecture (e.g. initializing a BertForSequenceClassification model from a BertForPreTraining model).\n",
      "- This IS NOT expected if you are initializing TFBertModel from the checkpoint of a model that you expect to be exactly identical (initializing a BertForSequenceClassification model from a BertForSequenceClassification model).\n",
      "All the layers of TFBertModel were initialized from the model checkpoint at bert-base-uncased.\n",
      "If your task is similar to the task the model of the checkpoint was trained on, you can already use TFBertModel for predictions without further training.\n"
     ]
    }
   ],
   "source": [
    "model_checkpoint = 'bert-base-uncased'\n",
    "bert_uctokenizer = BertTokenizer.from_pretrained(model_checkpoint)\n",
    "bert_model = TFBertModel.from_pretrained(model_checkpoint)"
   ]
  },
  {
   "cell_type": "code",
   "execution_count": 36,
   "metadata": {
    "id": "PtmIllK0mrf5"
   },
   "outputs": [],
   "source": [
    "# tokenize the dataset, truncate when passed `max_length`, \n",
    "# and pad with 0's when less than `max_length`\n",
    "cleantrain_encodings = bert_uctokenizer(cleantrain_texts, truncation=True, padding=True, max_length=max_length, return_tensors='tf')\n",
    "cleanvalid_encodings = bert_uctokenizer(cleanvalid_texts, truncation=True, padding=True, max_length=max_length, return_tensors='tf')\n",
    "cleantest_encodings = bert_uctokenizer(cleantest_texts, truncation=True, padding=True, max_length=max_length, return_tensors='tf')"
   ]
  },
  {
   "cell_type": "code",
   "execution_count": 37,
   "metadata": {
    "colab": {
     "base_uri": "https://localhost:8080/"
    },
    "id": "KuYEEO3xLDXG",
    "outputId": "0ec196a5-a1cb-4b0a-b954-36323413df29"
   },
   "outputs": [
    {
     "data": {
      "text/plain": [
       "<tf.Tensor: shape=(2, 200), dtype=int32, numpy=\n",
       "array([[  101,  1999, 14120,  2000,  1996,  2695,  2917,  1045,  2031,\n",
       "         2641,  3314,  2521,  2648,  1996,  9531,  1997, 13921,  2964,\n",
       "         1998, 16552,  2031,  2641,  1996,  2576, 13494,  1997,  1037,\n",
       "        16939, 13165,  1998,  2049, 13418,  9560,  1012,  2947,  2009,\n",
       "         2003, 27250,  4818,  2135,  7882,  2000, 27084,  1012,  2381,\n",
       "         1998, 12456,  1012, 13921,  2964,  2021,  1045,  2031,  2856,\n",
       "         3582, 22264,  2000,  1056,  1012,  1052,  1012,  1049,  2144,\n",
       "         2009,  2003, 16552,  9584,  1997,  1996,  2576,  8220,  2000,\n",
       "         2022,  4567,  2013,  1996,  2381,  1997,  1996,  6394,  2283,\n",
       "         2008,  1045,  3066,  2007,  1012,  2292,  2149,  7868,  2005,\n",
       "         1996,  8739,  1997,  6685,  2008,  2023,  2001,  5262,  1996,\n",
       "         2553,  1029,  2515,  2023,  2812,  2008, 21184,  2121,  2052,\n",
       "         2031,  2042,  1999,  2151,  2126,  2625,  5905,  1997,  3742,\n",
       "         4028,  2138,  2002,  1037, 15549,  2229, 11788,  2738,  2084,\n",
       "         4194,  2004,  2019,  3161,  1998, 25314, 10129,  1029,  2028,\n",
       "         1997,  1996,  2590,  2477,  2000, 19148,  2055,  1996, 13157,\n",
       "         2003,  2008,  1996,  2291,  2001,  2521,  2062,  4763,  2084,\n",
       "         2151,  2309,  2266,  1012,  2320,  2580,  1996,  6394,  2283,\n",
       "         2993,  2001,  1037,  4028,  3698,  2008,  2052, 21268, 10797,\n",
       "        14052,  1010,  2045,  2001, 11501,  2063,  2306,  2009,  2844,\n",
       "         2438,  2000,  4652,  2009,  1012,  3342,  2008,  8042,  2106,\n",
       "         2025,  2434,  2100,  2599,  1996,  6394,  2283,  4496,  2001,\n",
       "         2002,   102],\n",
       "       [  101,  2013, 10905, 11990,  1005,  1055, 14044, 20385,  2055,\n",
       "         2115, 11990,  1999, 19699,  9626,  3508,  7123,  2445,  2000,\n",
       "         2047,  5608,  1997, 11990,  4683,  1012,  1037,  5255,  5437,\n",
       "         2089,  2022, 10358,  2013,  2115,  2047,  2482,  3859,  2044,\n",
       "         2635,  6959,  1012,  1045,  2085,  2219,  1037,  2543,  4654,\n",
       "         3436, 27020,  5886,  1025,  1028,  2006, 19508,  1055, 11463,\n",
       "         2015,  2012,  7715,  2682,  5445,  5245,  1996, 23468, 15749,\n",
       "         2000,  1996,  2723,  2028,  2051,  1010,  2713,  3254,  1010,\n",
       "         1998,  2007,  2115,  3329,  2125,  1996, 23468,  1010, 27987,\n",
       "         1996,  3194,  2127,  2009,  4627,  1012, 22078,  2084,  3823,\n",
       "         1031,   999,   999,   999,   999,   999,   999,   999,  2026,\n",
       "         3602,  1033,  1997, 27987,  2075,  2089,  2022,  3223,  1012,\n",
       "         1999,  7715,  2917,  5445,  1996, 23468,  2097,  2031,  2000,\n",
       "         2022, 14777,  2335,  1012,  2341,  9320,  1998,  4592, 12241,\n",
       "         2064,  2022,  5591,  2065,  2027,  2024,  2025, 26368,  2011,\n",
       "         2893,  3236,  2043,  5494,  4303,  1012,  2043,  9564, 15802,\n",
       "         6882, 21670,  2013,  2380,  8699,  1010,  2030,  7901,  2046,\n",
       "         3298,  1996,  6726, 12363,  2046, 16428,  6718,  1012,  1999,\n",
       "         2553,  1997, 28379,  1024,  2707,  1996,  3194,  5670,  2046,\n",
       "         3298,  2013,  2380,  1010,  2059,  2013,  3298,  2000,  8699,\n",
       "         2735,  2125,  3194,  2054,  2065,  2017,  2024,  2893, 18948,\n",
       "         1038,  1013,  1039,  3194,  2180,  1005,  1056,  2448,  1029,\n",
       "         2065,   102]], dtype=int32)>"
      ]
     },
     "execution_count": 37,
     "metadata": {},
     "output_type": "execute_result"
    }
   ],
   "source": [
    "cleanvalid_encodings.input_ids[:2]"
   ]
  },
  {
   "cell_type": "markdown",
   "metadata": {
    "id": "dSQd_UDQhmQd"
   },
   "source": [
    "Call the function to recreate our BERT model only this time it will use the model_checkpoint of bert-base-uncased."
   ]
  },
  {
   "cell_type": "code",
   "execution_count": 38,
   "metadata": {
    "colab": {
     "base_uri": "https://localhost:8080/"
    },
    "id": "s7hR7ahmmrYL",
    "outputId": "21d7c83b-c909-4ec6-a229-36ca06da0ca5"
   },
   "outputs": [
    {
     "name": "stderr",
     "output_type": "stream",
     "text": [
      "Some layers from the model checkpoint at bert-base-uncased were not used when initializing TFBertModel: ['mlm___cls', 'nsp___cls']\n",
      "- This IS expected if you are initializing TFBertModel from the checkpoint of a model trained on another task or with another architecture (e.g. initializing a BertForSequenceClassification model from a BertForPreTraining model).\n",
      "- This IS NOT expected if you are initializing TFBertModel from the checkpoint of a model that you expect to be exactly identical (initializing a BertForSequenceClassification model from a BertForSequenceClassification model).\n",
      "All the layers of TFBertModel were initialized from the model checkpoint at bert-base-uncased.\n",
      "If your task is similar to the task the model of the checkpoint was trained on, you can already use TFBertModel for predictions without further training.\n"
     ]
    }
   ],
   "source": [
    "clean_pooled_bert_model = create_bert_multiclass_model(checkpoint = model_checkpoint)"
   ]
  },
  {
   "cell_type": "code",
   "execution_count": 39,
   "metadata": {
    "colab": {
     "base_uri": "https://localhost:8080/"
    },
    "id": "O4Qsai6UmrOj",
    "outputId": "cc7c6888-e581-4c86-c0a5-e6c6cd41110b"
   },
   "outputs": [
    {
     "name": "stdout",
     "output_type": "stream",
     "text": [
      "2000/2000 [==============================] - 730s 360ms/step - loss: 1.3667 - accuracy: 0.5942 - val_loss: 0.9983 - val_accuracy: 0.7003\n"
     ]
    }
   ],
   "source": [
    "clean_pooled_bert_model_history = clean_pooled_bert_model.fit([cleantrain_encodings.input_ids, cleantrain_encodings.token_type_ids, cleantrain_encodings.attention_mask], \n",
    "                                                  train_labels,   \n",
    "                                                  validation_data=([cleanvalid_encodings.input_ids, cleanvalid_encodings.token_type_ids, cleanvalid_encodings.attention_mask],\n",
    "                                                                   npvalid_labels),    \n",
    "                                                  batch_size=8, \n",
    "                                                  epochs=1)"
   ]
  },
  {
   "cell_type": "markdown",
   "metadata": {
    "id": "A6dQZRNCh6__"
   },
   "source": [
    "This will only display a plot if we've run for more than one epoch.  We're not asking you to run more than one in this assignment but when you're done you might try running another just to see how much more the model learns."
   ]
  },
  {
   "cell_type": "code",
   "execution_count": 40,
   "metadata": {
    "colab": {
     "base_uri": "https://localhost:8080/",
     "height": 635
    },
    "id": "RrM1DHfrEiPx",
    "outputId": "12da6535-15db-4bed-a07b-f525f5a9e8b2"
   },
   "outputs": [
    {
     "data": {
      "image/png": "[encoded data removed]",
      "text/plain": [
       "<Figure size 1332x756 with 4 Axes>"
      ]
     },
     "metadata": {
      "needs_background": "light"
     },
     "output_type": "display_data"
    }
   ],
   "source": [
    "fig, axs = plt.subplots(2, 2)\n",
    "fig.subplots_adjust(left=0.2, wspace=0.6)\n",
    "make_plot(axs, \n",
    "          pooled_bert_model_history, \n",
    "          clean_pooled_bert_model_history, \n",
    "          model_1_name='raw',\n",
    "         model_2_name='clean',\n",
    "         y_lim_accuracy_lower=0.42,\n",
    "         y_lim_accuracy_upper=0.82)\n",
    "\n",
    "fig.align_ylabels(axs[:, 1])\n",
    "fig.set_size_inches(18.5, 10.5)\n",
    "plt.show()"
   ]
  },
  {
   "cell_type": "code",
   "execution_count": 41,
   "metadata": {
    "colab": {
     "base_uri": "https://localhost:8080/"
    },
    "id": "BkW9hMq9g9dV",
    "outputId": "39231679-b3de-4152-d6f1-54df51d44ebb"
   },
   "outputs": [
    {
     "name": "stdout",
     "output_type": "stream",
     "text": [
      "59/59 [==============================] - 27s 452ms/step - loss: 1.0065 - accuracy: 0.7056\n",
      "Test loss: 1.006475567817688\n",
      "Test accuracy: 0.7055702805519104\n"
     ]
    }
   ],
   "source": [
    "#Evaluate the fine tuned clean model against the cleaned test data\n",
    "### YOUR CODE HERE\n",
    "score = clean_pooled_bert_model.evaluate([cleantest_encodings.input_ids, cleantest_encodings.token_type_ids, cleantest_encodings.attention_mask], \n",
    "                                                  test_labels) \n",
    "### END YOUR CODE\n",
    "print('Test loss:', score[0]) \n",
    "print('Test accuracy:', score[1])"
   ]
  },
  {
   "cell_type": "markdown",
   "metadata": {
    "id": "DPaUdul4hlp0"
   },
   "source": [
    "**QUESTION:** \n",
    "\n",
    "3.1 What is the test accuracy you get when you run the cleaned model with batch size 8?\n"
   ]
  },
  {
   "cell_type": "code",
   "execution_count": 42,
   "metadata": {
    "colab": {
     "base_uri": "https://localhost:8080/"
    },
    "id": "TrWtaXSug9UR",
    "outputId": "7d81b595-2c54-45c6-bfbc-dcb957cb5992"
   },
   "outputs": [
    {
     "name": "stdout",
     "output_type": "stream",
     "text": [
      "59/59 [==============================] - 29s 451ms/step\n"
     ]
    },
    {
     "data": {
      "text/plain": [
       "<tf.Tensor: shape=(1885,), dtype=int64, numpy=array([11, 15, 14, ..., 11,  0, 13])>"
      ]
     },
     "execution_count": 42,
     "metadata": {},
     "output_type": "execute_result"
    }
   ],
   "source": [
    "#run and capture all the predictions from the clean test data\n",
    "### YOUR CODE HERE \n",
    "predictions = clean_pooled_bert_model.predict([cleantest_encodings.input_ids, cleantest_encodings.token_type_ids, cleantest_encodings.attention_mask])\n",
    "\n",
    "predictions = tf.argmax(predictions, axis=-1)\n",
    "predictions\n",
    "### END YOUR CODE\n",
    "predictions"
   ]
  },
  {
   "cell_type": "code",
   "execution_count": 43,
   "metadata": {
    "id": "DoiKD8Y2g9LN"
   },
   "outputs": [],
   "source": [
    "#Generate a confusion matrix using your new clean test predictions\n",
    "# ccm = ...\n",
    "ccm = tf.math.confusion_matrix(test_labels, predictions)\n",
    "ccm = cm/cm.numpy().sum(axis=1)[:, tf.newaxis]\n",
    "### YOUR CODE HERE\n",
    "### END YOUR CODE"
   ]
  },
  {
   "cell_type": "code",
   "execution_count": 44,
   "metadata": {
    "colab": {
     "base_uri": "https://localhost:8080/",
     "height": 584
    },
    "id": "McHH8iKpg9AC",
    "outputId": "354a5cb2-cea3-4ead-ec41-176583705c11"
   },
   "outputs": [
    {
     "data": {
      "text/plain": [
       "Text(159.0, 0.5, 'True')"
      ]
     },
     "execution_count": 44,
     "metadata": {},
     "output_type": "execute_result"
    },
    {
     "data": {
      "image/png": "[encoded data removed]",
      "text/plain": [
       "<Figure size 1440x504 with 2 Axes>"
      ]
     },
     "metadata": {
      "needs_background": "light"
     },
     "output_type": "display_data"
    }
   ],
   "source": [
    "#display that new confusion matrix\n",
    "plt.figure(figsize=(20,7))\n",
    "sns.heatmap(\n",
    "    ccm, annot=True,\n",
    "    xticklabels=target_names,\n",
    "    yticklabels=target_names)\n",
    "plt.xlabel(\"Predicted\")\n",
    "plt.ylabel(\"True\")"
   ]
  },
  {
   "cell_type": "code",
   "execution_count": 45,
   "metadata": {
    "colab": {
     "base_uri": "https://localhost:8080/"
    },
    "id": "c_h2J81owbgf",
    "outputId": "b0ab2264-f5e8-44a0-ddbe-f2fddd2c1a49"
   },
   "outputs": [
    {
     "name": "stdout",
     "output_type": "stream",
     "text": [
      "                          precision    recall  f1-score   support\n",
      "\n",
      "             alt.atheism       0.52      0.42      0.47        88\n",
      "           comp.graphics       0.67      0.74      0.70        93\n",
      " comp.os.ms-windows.misc       0.67      0.68      0.67       109\n",
      "comp.sys.ibm.pc.hardware       0.60      0.67      0.63       100\n",
      "   comp.sys.mac.hardware       0.92      0.61      0.73       119\n",
      "          comp.windows.x       0.88      0.80      0.84        80\n",
      "            misc.forsale       0.86      0.77      0.81        94\n",
      "               rec.autos       0.71      0.77      0.73       103\n",
      "         rec.motorcycles       0.73      0.67      0.70        91\n",
      "      rec.sport.baseball       0.97      0.74      0.84        92\n",
      "        rec.sport.hockey       0.90      0.87      0.89        93\n",
      "               sci.crypt       0.64      0.81      0.72        91\n",
      "         sci.electronics       0.81      0.66      0.72       108\n",
      "                 sci.med       0.59      0.93      0.72        95\n",
      "               sci.space       0.74      0.78      0.76        93\n",
      "  soc.religion.christian       0.57      0.84      0.68        97\n",
      "      talk.politics.guns       0.56      0.75      0.64        75\n",
      "   talk.politics.mideast       0.82      0.84      0.83       117\n",
      "      talk.politics.misc       0.55      0.50      0.52        72\n",
      "      talk.religion.misc       0.47      0.12      0.19        75\n",
      "\n",
      "                accuracy                           0.71      1885\n",
      "               macro avg       0.71      0.70      0.69      1885\n",
      "            weighted avg       0.72      0.71      0.70      1885\n",
      "\n"
     ]
    }
   ],
   "source": [
    "# Run the sklearn classification_report again with the new predictions\n",
    "### YOUR CODE HERE\n",
    "print(classification_report(test_labels, predictions.numpy(), target_names=target_names))\n",
    "### END YOUR CODE"
   ]
  },
  {
   "cell_type": "markdown",
   "metadata": {
    "id": "KUQEz34EihRQ"
   },
   "source": [
    "**QUESTION:**\n",
    "\n",
    "3.2 What is the weighted avg F1 score in the classification when you run the cleaned model with batch size of 8?"
   ]
  },
  {
   "cell_type": "markdown",
   "metadata": {
    "id": "TTZcBibxR153"
   },
   "source": [
    "### 4. Try again with a different mini batch size to see if that improves performance\n",
    "\n",
    "Run the clean data model but change the batchsize to 16 instead of 8.\n",
    "\n",
    "** You do NOT need to rebuild the data. You just need to rerun the BERT model and the metrics for the new batch size **\n",
    "\n",
    "What do you notice?  Does the accuracy go up or down?"
   ]
  },
  {
   "cell_type": "code",
   "execution_count": 46,
   "metadata": {
    "colab": {
     "base_uri": "https://localhost:8080/"
    },
    "id": "dNe5zVOflttk",
    "outputId": "d086f96a-2c62-47dc-88d0-345e914d6090"
   },
   "outputs": [
    {
     "name": "stderr",
     "output_type": "stream",
     "text": [
      "Some layers from the model checkpoint at bert-base-uncased were not used when initializing TFBertModel: ['mlm___cls', 'nsp___cls']\n",
      "- This IS expected if you are initializing TFBertModel from the checkpoint of a model trained on another task or with another architecture (e.g. initializing a BertForSequenceClassification model from a BertForPreTraining model).\n",
      "- This IS NOT expected if you are initializing TFBertModel from the checkpoint of a model that you expect to be exactly identical (initializing a BertForSequenceClassification model from a BertForSequenceClassification model).\n",
      "All the layers of TFBertModel were initialized from the model checkpoint at bert-base-uncased.\n",
      "If your task is similar to the task the model of the checkpoint was trained on, you can already use TFBertModel for predictions without further training.\n"
     ]
    }
   ],
   "source": [
    "clean16_pooled_bert_model = create_bert_multiclass_model(checkpoint = model_checkpoint)"
   ]
  },
  {
   "cell_type": "code",
   "execution_count": 47,
   "metadata": {
    "colab": {
     "base_uri": "https://localhost:8080/"
    },
    "id": "-F5DM3zGlvSd",
    "outputId": "a688e419-2d8c-4971-d761-f32b79e328ad"
   },
   "outputs": [
    {
     "name": "stdout",
     "output_type": "stream",
     "text": [
      "1000/1000 [==============================] - 697s 689ms/step - loss: 1.3593 - accuracy: 0.5958 - val_loss: 0.9968 - val_accuracy: 0.6920\n"
     ]
    }
   ],
   "source": [
    "clean16_pooled_bert_model_history = clean16_pooled_bert_model.fit([cleantrain_encodings.input_ids, cleantrain_encodings.token_type_ids, cleantrain_encodings.attention_mask], \n",
    "                                                  train_labels,   \n",
    "                                                  validation_data=([cleanvalid_encodings.input_ids, cleanvalid_encodings.token_type_ids, cleanvalid_encodings.attention_mask],\n",
    "                                                                   npvalid_labels),    \n",
    "                                                  batch_size=16, \n",
    "                                                  epochs=1)"
   ]
  },
  {
   "cell_type": "code",
   "execution_count": 48,
   "metadata": {
    "colab": {
     "base_uri": "https://localhost:8080/"
    },
    "id": "UNEUeufxp1g5",
    "outputId": "53075819-23ba-4af9-8290-435cd5a2692e"
   },
   "outputs": [
    {
     "name": "stdout",
     "output_type": "stream",
     "text": [
      "59/59 [==============================] - 27s 454ms/step - loss: 0.9763 - accuracy: 0.7077\n",
      "Test loss: 0.9762793779373169\n",
      "Test accuracy: 0.7076923251152039\n"
     ]
    }
   ],
   "source": [
    "#Evaluate the fine tuned clean model with the larger batch size against the cleaned test data\n",
    "### YOUR CODE HERE\n",
    "score = clean16_pooled_bert_model.evaluate([cleantest_encodings.input_ids, cleantest_encodings.token_type_ids, cleantest_encodings.attention_mask], \n",
    "                                                  test_labels) \n",
    "### END YOUR CODE\n",
    "print('Test loss:', score[0]) \n",
    "print('Test accuracy:', score[1])"
   ]
  },
  {
   "cell_type": "markdown",
   "metadata": {
    "id": "8jXBmgS2iXDI"
   },
   "source": [
    "**QUESTION:**\n",
    "\n",
    "4.1 What is the Test accuracy you get when you run the cleaned model with batch size 16? (copy and paste the value rounding to five significant digits)\n",
    "\n",
    "4.2 Which category is consistenly underperforming in both the classification reports and the confusion matrices?"
   ]
  },
  {
   "cell_type": "markdown",
   "metadata": {
    "id": "coyVPop8SuG9"
   },
   "source": [
    "Count up the train labels to see how many records there are for each of the 20 categories.  We've assumed they're evenly distributed. "
   ]
  },
  {
   "cell_type": "code",
   "execution_count": 49,
   "metadata": {
    "colab": {
     "base_uri": "https://localhost:8080/"
    },
    "id": "Lj98aBdmNMrE",
    "outputId": "71675e31-3422-4683-8ab7-c078a36cdc56"
   },
   "outputs": [
    {
     "name": "stdout",
     "output_type": "stream",
     "text": [
      "array([675, 827, 834, 826, 794, 856, 826, 846, 852, 848, 854, 847, 829,\n",
      "       830, 838, 853, 797, 788, 664, 516])\n"
     ]
    }
   ],
   "source": [
    "#count_dict = ...\n",
    "count_dict = np.unique(train_labels, return_counts=True)[1]\n",
    "### YOUR CODE HERE\n",
    "### END YOUR CODE\n",
    "pprint(count_dict, compact=True)"
   ]
  },
  {
   "cell_type": "markdown",
   "metadata": {
    "id": "ppncPlCzzz0B"
   },
   "source": [
    "**QUESTION:** \n",
    "\n",
    "4.3 The training data set is evenly distributed across all of the categories (True or False)?  \n",
    "\n",
    "Is there a possible relation between those counts and what we've seen in the confusion matrices? "
   ]
  }
 ],
 "metadata": {
  "accelerator": "GPU",
  "colab": {
   "collapsed_sections": [],
   "provenance": []
  },
  "kernelspec": {
   "display_name": "Python 3 (ipykernel)",
   "language": "python",
   "name": "python3"
  },
  "language_info": {
   "codemirror_mode": {
    "name": "ipython",
    "version": 3
   },
   "file_extension": ".py",
   "mimetype": "text/x-python",
   "name": "python",
   "nbconvert_exporter": "python",
   "pygments_lexer": "ipython3",
   "version": "3.9.7"
  },
  "widgets": {
   "application/vnd.jupyter.widget-state+json": {
    "04be7c10ce4641129d83470b1b6faa6f": {
     "model_module": "@jupyter-widgets/controls",
     "model_module_version": "1.5.0",
     "model_name": "ProgressStyleModel",
     "state": {
      "_model_module": "@jupyter-widgets/controls",
      "_model_module_version": "1.5.0",
      "_model_name": "ProgressStyleModel",
      "_view_count": null,
      "_view_module": "@jupyter-widgets/base",
      "_view_module_version": "1.2.0",
      "_view_name": "StyleView",
      "bar_color": null,
      "description_width": ""
     }
    },
    "050ae2d544cc481aad283f7aa014d4af": {
     "model_module": "@jupyter-widgets/controls",
     "model_module_version": "1.5.0",
     "model_name": "ProgressStyleModel",
     "state": {
      "_model_module": "@jupyter-widgets/controls",
      "_model_module_version": "1.5.0",
      "_model_name": "ProgressStyleModel",
      "_view_count": null,
      "_view_module": "@jupyter-widgets/base",
      "_view_module_version": "1.2.0",
      "_view_name": "StyleView",
      "bar_color": null,
      "description_width": ""
     }
    },
    "07cff3ba353140ba8b3c826466843a52": {
     "model_module": "@jupyter-widgets/controls",
     "model_module_version": "1.5.0",
     "model_name": "DescriptionStyleModel",
     "state": {
      "_model_module": "@jupyter-widgets/controls",
      "_model_module_version": "1.5.0",
      "_model_name": "DescriptionStyleModel",
      "_view_count": null,
      "_view_module": "@jupyter-widgets/base",
      "_view_module_version": "1.2.0",
      "_view_name": "StyleView",
      "description_width": ""
     }
    },
    "0873336e312e485fb45e550512518330": {
     "model_module": "@jupyter-widgets/controls",
     "model_module_version": "1.5.0",
     "model_name": "DescriptionStyleModel",
     "state": {
      "_model_module": "@jupyter-widgets/controls",
      "_model_module_version": "1.5.0",
      "_model_name": "DescriptionStyleModel",
      "_view_count": null,
      "_view_module": "@jupyter-widgets/base",
      "_view_module_version": "1.2.0",
      "_view_name": "StyleView",
      "description_width": ""
     }
    },
    "08fec05149c447e1a6bd3e4c960b2952": {
     "model_module": "@jupyter-widgets/controls",
     "model_module_version": "1.5.0",
     "model_name": "FloatProgressModel",
     "state": {
      "_dom_classes": [],
      "_model_module": "@jupyter-widgets/controls",
      "_model_module_version": "1.5.0",
      "_model_name": "FloatProgressModel",
      "_view_count": null,
      "_view_module": "@jupyter-widgets/controls",
      "_view_module_version": "1.5.0",
      "_view_name": "ProgressView",
      "bar_style": "success",
      "description": "",
      "description_tooltip": null,
      "layout": "IPY_MODEL_3d7d143f6a194a82ae5af7d23cc33de7",
      "max": 213450,
      "min": 0,
      "orientation": "horizontal",
      "style": "IPY_MODEL_52d9505159e241109f0a952e5413f96e",
      "value": 213450
     }
    },
    "09f61e6095c64cfdadbfc9a0d0888164": {
     "model_module": "@jupyter-widgets/base",
     "model_module_version": "1.2.0",
     "model_name": "LayoutModel",
     "state": {
      "_model_module": "@jupyter-widgets/base",
      "_model_module_version": "1.2.0",
      "_model_name": "LayoutModel",
      "_view_count": null,
      "_view_module": "@jupyter-widgets/base",
      "_view_module_version": "1.2.0",
      "_view_name": "LayoutView",
      "align_content": null,
      "align_items": null,
      "align_self": null,
      "border": null,
      "bottom": null,
      "display": null,
      "flex": null,
      "flex_flow": null,
      "grid_area": null,
      "grid_auto_columns": null,
      "grid_auto_flow": null,
      "grid_auto_rows": null,
      "grid_column": null,
      "grid_gap": null,
      "grid_row": null,
      "grid_template_areas": null,
      "grid_template_columns": null,
      "grid_template_rows": null,
      "height": null,
      "justify_content": null,
      "justify_items": null,
      "left": null,
      "margin": null,
      "max_height": null,
      "max_width": null,
      "min_height": null,
      "min_width": null,
      "object_fit": null,
      "object_position": null,
      "order": null,
      "overflow": null,
      "overflow_x": null,
      "overflow_y": null,
      "padding": null,
      "right": null,
      "top": null,
      "visibility": null,
      "width": null
     }
    },
    "0a56159b97d14b048dc560c581153ec0": {
     "model_module": "@jupyter-widgets/controls",
     "model_module_version": "1.5.0",
     "model_name": "DescriptionStyleModel",
     "state": {
      "_model_module": "@jupyter-widgets/controls",
      "_model_module_version": "1.5.0",
      "_model_name": "DescriptionStyleModel",
      "_view_count": null,
      "_view_module": "@jupyter-widgets/base",
      "_view_module_version": "1.2.0",
      "_view_name": "StyleView",
      "description_width": ""
     }
    },
    "0dd90cebee4143a88b7f2ab53fd47010": {
     "model_module": "@jupyter-widgets/controls",
     "model_module_version": "1.5.0",
     "model_name": "ProgressStyleModel",
     "state": {
      "_model_module": "@jupyter-widgets/controls",
      "_model_module_version": "1.5.0",
      "_model_name": "ProgressStyleModel",
      "_view_count": null,
      "_view_module": "@jupyter-widgets/base",
      "_view_module_version": "1.2.0",
      "_view_name": "StyleView",
      "bar_color": null,
      "description_width": ""
     }
    },
    "0e0e46fc31764e9199df1afd00fc173c": {
     "model_module": "@jupyter-widgets/base",
     "model_module_version": "1.2.0",
     "model_name": "LayoutModel",
     "state": {
      "_model_module": "@jupyter-widgets/base",
      "_model_module_version": "1.2.0",
      "_model_name": "LayoutModel",
      "_view_count": null,
      "_view_module": "@jupyter-widgets/base",
      "_view_module_version": "1.2.0",
      "_view_name": "LayoutView",
      "align_content": null,
      "align_items": null,
      "align_self": null,
      "border": null,
      "bottom": null,
      "display": null,
      "flex": null,
      "flex_flow": null,
      "grid_area": null,
      "grid_auto_columns": null,
      "grid_auto_flow": null,
      "grid_auto_rows": null,
      "grid_column": null,
      "grid_gap": null,
      "grid_row": null,
      "grid_template_areas": null,
      "grid_template_columns": null,
      "grid_template_rows": null,
      "height": null,
      "justify_content": null,
      "justify_items": null,
      "left": null,
      "margin": null,
      "max_height": null,
      "max_width": null,
      "min_height": null,
      "min_width": null,
      "object_fit": null,
      "object_position": null,
      "order": null,
      "overflow": null,
      "overflow_x": null,
      "overflow_y": null,
      "padding": null,
      "right": null,
      "top": null,
      "visibility": null,
      "width": null
     }
    },
    "1135462f0bb946188ba9d1270ba10fd3": {
     "model_module": "@jupyter-widgets/base",
     "model_module_version": "1.2.0",
     "model_name": "LayoutModel",
     "state": {
      "_model_module": "@jupyter-widgets/base",
      "_model_module_version": "1.2.0",
      "_model_name": "LayoutModel",
      "_view_count": null,
      "_view_module": "@jupyter-widgets/base",
      "_view_module_version": "1.2.0",
      "_view_name": "LayoutView",
      "align_content": null,
      "align_items": null,
      "align_self": null,
      "border": null,
      "bottom": null,
      "display": null,
      "flex": null,
      "flex_flow": null,
      "grid_area": null,
      "grid_auto_columns": null,
      "grid_auto_flow": null,
      "grid_auto_rows": null,
      "grid_column": null,
      "grid_gap": null,
      "grid_row": null,
      "grid_template_areas": null,
      "grid_template_columns": null,
      "grid_template_rows": null,
      "height": null,
      "justify_content": null,
      "justify_items": null,
      "left": null,
      "margin": null,
      "max_height": null,
      "max_width": null,
      "min_height": null,
      "min_width": null,
      "object_fit": null,
      "object_position": null,
      "order": null,
      "overflow": null,
      "overflow_x": null,
      "overflow_y": null,
      "padding": null,
      "right": null,
      "top": null,
      "visibility": null,
      "width": null
     }
    },
    "15d863385e8944c98e8acdf261b01e38": {
     "model_module": "@jupyter-widgets/base",
     "model_module_version": "1.2.0",
     "model_name": "LayoutModel",
     "state": {
      "_model_module": "@jupyter-widgets/base",
      "_model_module_version": "1.2.0",
      "_model_name": "LayoutModel",
      "_view_count": null,
      "_view_module": "@jupyter-widgets/base",
      "_view_module_version": "1.2.0",
      "_view_name": "LayoutView",
      "align_content": null,
      "align_items": null,
      "align_self": null,
      "border": null,
      "bottom": null,
      "display": null,
      "flex": null,
      "flex_flow": null,
      "grid_area": null,
      "grid_auto_columns": null,
      "grid_auto_flow": null,
      "grid_auto_rows": null,
      "grid_column": null,
      "grid_gap": null,
      "grid_row": null,
      "grid_template_areas": null,
      "grid_template_columns": null,
      "grid_template_rows": null,
      "height": null,
      "justify_content": null,
      "justify_items": null,
      "left": null,
      "margin": null,
      "max_height": null,
      "max_width": null,
      "min_height": null,
      "min_width": null,
      "object_fit": null,
      "object_position": null,
      "order": null,
      "overflow": null,
      "overflow_x": null,
      "overflow_y": null,
      "padding": null,
      "right": null,
      "top": null,
      "visibility": null,
      "width": null
     }
    },
    "17c528f7bd114268975047ca0b43747b": {
     "model_module": "@jupyter-widgets/controls",
     "model_module_version": "1.5.0",
     "model_name": "HBoxModel",
     "state": {
      "_dom_classes": [],
      "_model_module": "@jupyter-widgets/controls",
      "_model_module_version": "1.5.0",
      "_model_name": "HBoxModel",
      "_view_count": null,
      "_view_module": "@jupyter-widgets/controls",
      "_view_module_version": "1.5.0",
      "_view_name": "HBoxView",
      "box_style": "",
      "children": [
       "IPY_MODEL_c80cd4c4feaf42de90f55af30f322b32",
       "IPY_MODEL_fc96ef0213804fe3aa27662f70280c7a",
       "IPY_MODEL_31fe96123d9f4b8db583fd5642ec6bd9"
      ],
      "layout": "IPY_MODEL_29c8d87cb8cc45c98845bbb8e00e7152"
     }
    },
    "200ad1650bde4e3f889541baf376ee88": {
     "model_module": "@jupyter-widgets/base",
     "model_module_version": "1.2.0",
     "model_name": "LayoutModel",
     "state": {
      "_model_module": "@jupyter-widgets/base",
      "_model_module_version": "1.2.0",
      "_model_name": "LayoutModel",
      "_view_count": null,
      "_view_module": "@jupyter-widgets/base",
      "_view_module_version": "1.2.0",
      "_view_name": "LayoutView",
      "align_content": null,
      "align_items": null,
      "align_self": null,
      "border": null,
      "bottom": null,
      "display": null,
      "flex": null,
      "flex_flow": null,
      "grid_area": null,
      "grid_auto_columns": null,
      "grid_auto_flow": null,
      "grid_auto_rows": null,
      "grid_column": null,
      "grid_gap": null,
      "grid_row": null,
      "grid_template_areas": null,
      "grid_template_columns": null,
      "grid_template_rows": null,
      "height": null,
      "justify_content": null,
      "justify_items": null,
      "left": null,
      "margin": null,
      "max_height": null,
      "max_width": null,
      "min_height": null,
      "min_width": null,
      "object_fit": null,
      "object_position": null,
      "order": null,
      "overflow": null,
      "overflow_x": null,
      "overflow_y": null,
      "padding": null,
      "right": null,
      "top": null,
      "visibility": null,
      "width": null
     }
    },
    "21596ada756146eea5adb74b56583204": {
     "model_module": "@jupyter-widgets/controls",
     "model_module_version": "1.5.0",
     "model_name": "HTMLModel",
     "state": {
      "_dom_classes": [],
      "_model_module": "@jupyter-widgets/controls",
      "_model_module_version": "1.5.0",
      "_model_name": "HTMLModel",
      "_view_count": null,
      "_view_module": "@jupyter-widgets/controls",
      "_view_module_version": "1.5.0",
      "_view_name": "HTMLView",
      "description": "",
      "description_tooltip": null,
      "layout": "IPY_MODEL_4830618402014a04b83f544fe611a2e5",
      "placeholder": "​",
      "style": "IPY_MODEL_0873336e312e485fb45e550512518330",
      "value": "Downloading: 100%"
     }
    },
    "247cb6c76e16448082cbfc637e8c9ea2": {
     "model_module": "@jupyter-widgets/controls",
     "model_module_version": "1.5.0",
     "model_name": "DescriptionStyleModel",
     "state": {
      "_model_module": "@jupyter-widgets/controls",
      "_model_module_version": "1.5.0",
      "_model_name": "DescriptionStyleModel",
      "_view_count": null,
      "_view_module": "@jupyter-widgets/base",
      "_view_module_version": "1.2.0",
      "_view_name": "StyleView",
      "description_width": ""
     }
    },
    "2661e49356904028873b9c1c0c5239ca": {
     "model_module": "@jupyter-widgets/controls",
     "model_module_version": "1.5.0",
     "model_name": "HBoxModel",
     "state": {
      "_dom_classes": [],
      "_model_module": "@jupyter-widgets/controls",
      "_model_module_version": "1.5.0",
      "_model_name": "HBoxModel",
      "_view_count": null,
      "_view_module": "@jupyter-widgets/controls",
      "_view_module_version": "1.5.0",
      "_view_name": "HBoxView",
      "box_style": "",
      "children": [
       "IPY_MODEL_d249ad43ba3146e3a05eb2a02caa34fc",
       "IPY_MODEL_d6ba716c6af04a3ea79eca2798a0670c",
       "IPY_MODEL_ea2ac9987548441dbfa4b0179ba961ec"
      ],
      "layout": "IPY_MODEL_421b30518e44483aa9aac44e8db58df2"
     }
    },
    "27fb532f684945a09a9518829b915a19": {
     "model_module": "@jupyter-widgets/controls",
     "model_module_version": "1.5.0",
     "model_name": "FloatProgressModel",
     "state": {
      "_dom_classes": [],
      "_model_module": "@jupyter-widgets/controls",
      "_model_module_version": "1.5.0",
      "_model_name": "FloatProgressModel",
      "_view_count": null,
      "_view_module": "@jupyter-widgets/controls",
      "_view_module_version": "1.5.0",
      "_view_name": "ProgressView",
      "bar_style": "success",
      "description": "",
      "description_tooltip": null,
      "layout": "IPY_MODEL_200ad1650bde4e3f889541baf376ee88",
      "max": 231508,
      "min": 0,
      "orientation": "horizontal",
      "style": "IPY_MODEL_c0266e9b5727428cb63fe1e91e39685b",
      "value": 231508
     }
    },
    "29487477e7794f788cf038a3a0deb98a": {
     "model_module": "@jupyter-widgets/controls",
     "model_module_version": "1.5.0",
     "model_name": "HTMLModel",
     "state": {
      "_dom_classes": [],
      "_model_module": "@jupyter-widgets/controls",
      "_model_module_version": "1.5.0",
      "_model_name": "HTMLModel",
      "_view_count": null,
      "_view_module": "@jupyter-widgets/controls",
      "_view_module_version": "1.5.0",
      "_view_name": "HTMLView",
      "description": "",
      "description_tooltip": null,
      "layout": "IPY_MODEL_1135462f0bb946188ba9d1270ba10fd3",
      "placeholder": "​",
      "style": "IPY_MODEL_893ce365f1ff4e0d90c86ca20d1ae9d4",
      "value": " 232k/232k [00:00&lt;00:00, 4.94MB/s]"
     }
    },
    "29c8d87cb8cc45c98845bbb8e00e7152": {
     "model_module": "@jupyter-widgets/base",
     "model_module_version": "1.2.0",
     "model_name": "LayoutModel",
     "state": {
      "_model_module": "@jupyter-widgets/base",
      "_model_module_version": "1.2.0",
      "_model_name": "LayoutModel",
      "_view_count": null,
      "_view_module": "@jupyter-widgets/base",
      "_view_module_version": "1.2.0",
      "_view_name": "LayoutView",
      "align_content": null,
      "align_items": null,
      "align_self": null,
      "border": null,
      "bottom": null,
      "display": null,
      "flex": null,
      "flex_flow": null,
      "grid_area": null,
      "grid_auto_columns": null,
      "grid_auto_flow": null,
      "grid_auto_rows": null,
      "grid_column": null,
      "grid_gap": null,
      "grid_row": null,
      "grid_template_areas": null,
      "grid_template_columns": null,
      "grid_template_rows": null,
      "height": null,
      "justify_content": null,
      "justify_items": null,
      "left": null,
      "margin": null,
      "max_height": null,
      "max_width": null,
      "min_height": null,
      "min_width": null,
      "object_fit": null,
      "object_position": null,
      "order": null,
      "overflow": null,
      "overflow_x": null,
      "overflow_y": null,
      "padding": null,
      "right": null,
      "top": null,
      "visibility": null,
      "width": null
     }
    },
    "2a67890b0ec5462aa024e710a1e8e747": {
     "model_module": "@jupyter-widgets/base",
     "model_module_version": "1.2.0",
     "model_name": "LayoutModel",
     "state": {
      "_model_module": "@jupyter-widgets/base",
      "_model_module_version": "1.2.0",
      "_model_name": "LayoutModel",
      "_view_count": null,
      "_view_module": "@jupyter-widgets/base",
      "_view_module_version": "1.2.0",
      "_view_name": "LayoutView",
      "align_content": null,
      "align_items": null,
      "align_self": null,
      "border": null,
      "bottom": null,
      "display": null,
      "flex": null,
      "flex_flow": null,
      "grid_area": null,
      "grid_auto_columns": null,
      "grid_auto_flow": null,
      "grid_auto_rows": null,
      "grid_column": null,
      "grid_gap": null,
      "grid_row": null,
      "grid_template_areas": null,
      "grid_template_columns": null,
      "grid_template_rows": null,
      "height": null,
      "justify_content": null,
      "justify_items": null,
      "left": null,
      "margin": null,
      "max_height": null,
      "max_width": null,
      "min_height": null,
      "min_width": null,
      "object_fit": null,
      "object_position": null,
      "order": null,
      "overflow": null,
      "overflow_x": null,
      "overflow_y": null,
      "padding": null,
      "right": null,
      "top": null,
      "visibility": null,
      "width": null
     }
    },
    "31fe96123d9f4b8db583fd5642ec6bd9": {
     "model_module": "@jupyter-widgets/controls",
     "model_module_version": "1.5.0",
     "model_name": "HTMLModel",
     "state": {
      "_dom_classes": [],
      "_model_module": "@jupyter-widgets/controls",
      "_model_module_version": "1.5.0",
      "_model_name": "HTMLModel",
      "_view_count": null,
      "_view_module": "@jupyter-widgets/controls",
      "_view_module_version": "1.5.0",
      "_view_name": "HTMLView",
      "description": "",
      "description_tooltip": null,
      "layout": "IPY_MODEL_f6e9c14ded7a4210a9c993c6d9bab819",
      "placeholder": "​",
      "style": "IPY_MODEL_e7e8c017439e4d53b27886f69c5bfc5d",
      "value": " 570/570 [00:00&lt;00:00, 6.39kB/s]"
     }
    },
    "36ebe93ad60746a4a2ae107aca44b1f6": {
     "model_module": "@jupyter-widgets/base",
     "model_module_version": "1.2.0",
     "model_name": "LayoutModel",
     "state": {
      "_model_module": "@jupyter-widgets/base",
      "_model_module_version": "1.2.0",
      "_model_name": "LayoutModel",
      "_view_count": null,
      "_view_module": "@jupyter-widgets/base",
      "_view_module_version": "1.2.0",
      "_view_name": "LayoutView",
      "align_content": null,
      "align_items": null,
      "align_self": null,
      "border": null,
      "bottom": null,
      "display": null,
      "flex": null,
      "flex_flow": null,
      "grid_area": null,
      "grid_auto_columns": null,
      "grid_auto_flow": null,
      "grid_auto_rows": null,
      "grid_column": null,
      "grid_gap": null,
      "grid_row": null,
      "grid_template_areas": null,
      "grid_template_columns": null,
      "grid_template_rows": null,
      "height": null,
      "justify_content": null,
      "justify_items": null,
      "left": null,
      "margin": null,
      "max_height": null,
      "max_width": null,
      "min_height": null,
      "min_width": null,
      "object_fit": null,
      "object_position": null,
      "order": null,
      "overflow": null,
      "overflow_x": null,
      "overflow_y": null,
      "padding": null,
      "right": null,
      "top": null,
      "visibility": null,
      "width": null
     }
    },
    "37bf85eb6efb4d92baf318c3adbe3253": {
     "model_module": "@jupyter-widgets/base",
     "model_module_version": "1.2.0",
     "model_name": "LayoutModel",
     "state": {
      "_model_module": "@jupyter-widgets/base",
      "_model_module_version": "1.2.0",
      "_model_name": "LayoutModel",
      "_view_count": null,
      "_view_module": "@jupyter-widgets/base",
      "_view_module_version": "1.2.0",
      "_view_name": "LayoutView",
      "align_content": null,
      "align_items": null,
      "align_self": null,
      "border": null,
      "bottom": null,
      "display": null,
      "flex": null,
      "flex_flow": null,
      "grid_area": null,
      "grid_auto_columns": null,
      "grid_auto_flow": null,
      "grid_auto_rows": null,
      "grid_column": null,
      "grid_gap": null,
      "grid_row": null,
      "grid_template_areas": null,
      "grid_template_columns": null,
      "grid_template_rows": null,
      "height": null,
      "justify_content": null,
      "justify_items": null,
      "left": null,
      "margin": null,
      "max_height": null,
      "max_width": null,
      "min_height": null,
      "min_width": null,
      "object_fit": null,
      "object_position": null,
      "order": null,
      "overflow": null,
      "overflow_x": null,
      "overflow_y": null,
      "padding": null,
      "right": null,
      "top": null,
      "visibility": null,
      "width": null
     }
    },
    "3d7d143f6a194a82ae5af7d23cc33de7": {
     "model_module": "@jupyter-widgets/base",
     "model_module_version": "1.2.0",
     "model_name": "LayoutModel",
     "state": {
      "_model_module": "@jupyter-widgets/base",
      "_model_module_version": "1.2.0",
      "_model_name": "LayoutModel",
      "_view_count": null,
      "_view_module": "@jupyter-widgets/base",
      "_view_module_version": "1.2.0",
      "_view_name": "LayoutView",
      "align_content": null,
      "align_items": null,
      "align_self": null,
      "border": null,
      "bottom": null,
      "display": null,
      "flex": null,
      "flex_flow": null,
      "grid_area": null,
      "grid_auto_columns": null,
      "grid_auto_flow": null,
      "grid_auto_rows": null,
      "grid_column": null,
      "grid_gap": null,
      "grid_row": null,
      "grid_template_areas": null,
      "grid_template_columns": null,
      "grid_template_rows": null,
      "height": null,
      "justify_content": null,
      "justify_items": null,
      "left": null,
      "margin": null,
      "max_height": null,
      "max_width": null,
      "min_height": null,
      "min_width": null,
      "object_fit": null,
      "object_position": null,
      "order": null,
      "overflow": null,
      "overflow_x": null,
      "overflow_y": null,
      "padding": null,
      "right": null,
      "top": null,
      "visibility": null,
      "width": null
     }
    },
    "41d9f7c5c2674664939d66ffce647073": {
     "model_module": "@jupyter-widgets/controls",
     "model_module_version": "1.5.0",
     "model_name": "DescriptionStyleModel",
     "state": {
      "_model_module": "@jupyter-widgets/controls",
      "_model_module_version": "1.5.0",
      "_model_name": "DescriptionStyleModel",
      "_view_count": null,
      "_view_module": "@jupyter-widgets/base",
      "_view_module_version": "1.2.0",
      "_view_name": "StyleView",
      "description_width": ""
     }
    },
    "421b30518e44483aa9aac44e8db58df2": {
     "model_module": "@jupyter-widgets/base",
     "model_module_version": "1.2.0",
     "model_name": "LayoutModel",
     "state": {
      "_model_module": "@jupyter-widgets/base",
      "_model_module_version": "1.2.0",
      "_model_name": "LayoutModel",
      "_view_count": null,
      "_view_module": "@jupyter-widgets/base",
      "_view_module_version": "1.2.0",
      "_view_name": "LayoutView",
      "align_content": null,
      "align_items": null,
      "align_self": null,
      "border": null,
      "bottom": null,
      "display": null,
      "flex": null,
      "flex_flow": null,
      "grid_area": null,
      "grid_auto_columns": null,
      "grid_auto_flow": null,
      "grid_auto_rows": null,
      "grid_column": null,
      "grid_gap": null,
      "grid_row": null,
      "grid_template_areas": null,
      "grid_template_columns": null,
      "grid_template_rows": null,
      "height": null,
      "justify_content": null,
      "justify_items": null,
      "left": null,
      "margin": null,
      "max_height": null,
      "max_width": null,
      "min_height": null,
      "min_width": null,
      "object_fit": null,
      "object_position": null,
      "order": null,
      "overflow": null,
      "overflow_x": null,
      "overflow_y": null,
      "padding": null,
      "right": null,
      "top": null,
      "visibility": null,
      "width": null
     }
    },
    "4830618402014a04b83f544fe611a2e5": {
     "model_module": "@jupyter-widgets/base",
     "model_module_version": "1.2.0",
     "model_name": "LayoutModel",
     "state": {
      "_model_module": "@jupyter-widgets/base",
      "_model_module_version": "1.2.0",
      "_model_name": "LayoutModel",
      "_view_count": null,
      "_view_module": "@jupyter-widgets/base",
      "_view_module_version": "1.2.0",
      "_view_name": "LayoutView",
      "align_content": null,
      "align_items": null,
      "align_self": null,
      "border": null,
      "bottom": null,
      "display": null,
      "flex": null,
      "flex_flow": null,
      "grid_area": null,
      "grid_auto_columns": null,
      "grid_auto_flow": null,
      "grid_auto_rows": null,
      "grid_column": null,
      "grid_gap": null,
      "grid_row": null,
      "grid_template_areas": null,
      "grid_template_columns": null,
      "grid_template_rows": null,
      "height": null,
      "justify_content": null,
      "justify_items": null,
      "left": null,
      "margin": null,
      "max_height": null,
      "max_width": null,
      "min_height": null,
      "min_width": null,
      "object_fit": null,
      "object_position": null,
      "order": null,
      "overflow": null,
      "overflow_x": null,
      "overflow_y": null,
      "padding": null,
      "right": null,
      "top": null,
      "visibility": null,
      "width": null
     }
    },
    "48cf36afa9b84885ba9643951fdbb02f": {
     "model_module": "@jupyter-widgets/controls",
     "model_module_version": "1.5.0",
     "model_name": "HTMLModel",
     "state": {
      "_dom_classes": [],
      "_model_module": "@jupyter-widgets/controls",
      "_model_module_version": "1.5.0",
      "_model_name": "HTMLModel",
      "_view_count": null,
      "_view_module": "@jupyter-widgets/controls",
      "_view_module_version": "1.5.0",
      "_view_name": "HTMLView",
      "description": "",
      "description_tooltip": null,
      "layout": "IPY_MODEL_e411b1732ebf4e0e891f513149235898",
      "placeholder": "​",
      "style": "IPY_MODEL_e9f7ee8463ba4a47a7c7c91e20287a3a",
      "value": " 28.0/28.0 [00:00&lt;00:00, 996B/s]"
     }
    },
    "4d6e46479c324717a2edfc82b17f50f8": {
     "model_module": "@jupyter-widgets/base",
     "model_module_version": "1.2.0",
     "model_name": "LayoutModel",
     "state": {
      "_model_module": "@jupyter-widgets/base",
      "_model_module_version": "1.2.0",
      "_model_name": "LayoutModel",
      "_view_count": null,
      "_view_module": "@jupyter-widgets/base",
      "_view_module_version": "1.2.0",
      "_view_name": "LayoutView",
      "align_content": null,
      "align_items": null,
      "align_self": null,
      "border": null,
      "bottom": null,
      "display": null,
      "flex": null,
      "flex_flow": null,
      "grid_area": null,
      "grid_auto_columns": null,
      "grid_auto_flow": null,
      "grid_auto_rows": null,
      "grid_column": null,
      "grid_gap": null,
      "grid_row": null,
      "grid_template_areas": null,
      "grid_template_columns": null,
      "grid_template_rows": null,
      "height": null,
      "justify_content": null,
      "justify_items": null,
      "left": null,
      "margin": null,
      "max_height": null,
      "max_width": null,
      "min_height": null,
      "min_width": null,
      "object_fit": null,
      "object_position": null,
      "order": null,
      "overflow": null,
      "overflow_x": null,
      "overflow_y": null,
      "padding": null,
      "right": null,
      "top": null,
      "visibility": null,
      "width": null
     }
    },
    "52d9505159e241109f0a952e5413f96e": {
     "model_module": "@jupyter-widgets/controls",
     "model_module_version": "1.5.0",
     "model_name": "ProgressStyleModel",
     "state": {
      "_model_module": "@jupyter-widgets/controls",
      "_model_module_version": "1.5.0",
      "_model_name": "ProgressStyleModel",
      "_view_count": null,
      "_view_module": "@jupyter-widgets/base",
      "_view_module_version": "1.2.0",
      "_view_name": "StyleView",
      "bar_color": null,
      "description_width": ""
     }
    },
    "5433de634cf2483080887c36c2f200a3": {
     "model_module": "@jupyter-widgets/controls",
     "model_module_version": "1.5.0",
     "model_name": "DescriptionStyleModel",
     "state": {
      "_model_module": "@jupyter-widgets/controls",
      "_model_module_version": "1.5.0",
      "_model_name": "DescriptionStyleModel",
      "_view_count": null,
      "_view_module": "@jupyter-widgets/base",
      "_view_module_version": "1.2.0",
      "_view_name": "StyleView",
      "description_width": ""
     }
    },
    "59dd5919a6d84f5d97caaf7cb0874236": {
     "model_module": "@jupyter-widgets/controls",
     "model_module_version": "1.5.0",
     "model_name": "DescriptionStyleModel",
     "state": {
      "_model_module": "@jupyter-widgets/controls",
      "_model_module_version": "1.5.0",
      "_model_name": "DescriptionStyleModel",
      "_view_count": null,
      "_view_module": "@jupyter-widgets/base",
      "_view_module_version": "1.2.0",
      "_view_name": "StyleView",
      "description_width": ""
     }
    },
    "5e6b964b5dc74a7fae031671af582b17": {
     "model_module": "@jupyter-widgets/base",
     "model_module_version": "1.2.0",
     "model_name": "LayoutModel",
     "state": {
      "_model_module": "@jupyter-widgets/base",
      "_model_module_version": "1.2.0",
      "_model_name": "LayoutModel",
      "_view_count": null,
      "_view_module": "@jupyter-widgets/base",
      "_view_module_version": "1.2.0",
      "_view_name": "LayoutView",
      "align_content": null,
      "align_items": null,
      "align_self": null,
      "border": null,
      "bottom": null,
      "display": null,
      "flex": null,
      "flex_flow": null,
      "grid_area": null,
      "grid_auto_columns": null,
      "grid_auto_flow": null,
      "grid_auto_rows": null,
      "grid_column": null,
      "grid_gap": null,
      "grid_row": null,
      "grid_template_areas": null,
      "grid_template_columns": null,
      "grid_template_rows": null,
      "height": null,
      "justify_content": null,
      "justify_items": null,
      "left": null,
      "margin": null,
      "max_height": null,
      "max_width": null,
      "min_height": null,
      "min_width": null,
      "object_fit": null,
      "object_position": null,
      "order": null,
      "overflow": null,
      "overflow_x": null,
      "overflow_y": null,
      "padding": null,
      "right": null,
      "top": null,
      "visibility": null,
      "width": null
     }
    },
    "5e8787c495604337a1921a534ff23f6a": {
     "model_module": "@jupyter-widgets/base",
     "model_module_version": "1.2.0",
     "model_name": "LayoutModel",
     "state": {
      "_model_module": "@jupyter-widgets/base",
      "_model_module_version": "1.2.0",
      "_model_name": "LayoutModel",
      "_view_count": null,
      "_view_module": "@jupyter-widgets/base",
      "_view_module_version": "1.2.0",
      "_view_name": "LayoutView",
      "align_content": null,
      "align_items": null,
      "align_self": null,
      "border": null,
      "bottom": null,
      "display": null,
      "flex": null,
      "flex_flow": null,
      "grid_area": null,
      "grid_auto_columns": null,
      "grid_auto_flow": null,
      "grid_auto_rows": null,
      "grid_column": null,
      "grid_gap": null,
      "grid_row": null,
      "grid_template_areas": null,
      "grid_template_columns": null,
      "grid_template_rows": null,
      "height": null,
      "justify_content": null,
      "justify_items": null,
      "left": null,
      "margin": null,
      "max_height": null,
      "max_width": null,
      "min_height": null,
      "min_width": null,
      "object_fit": null,
      "object_position": null,
      "order": null,
      "overflow": null,
      "overflow_x": null,
      "overflow_y": null,
      "padding": null,
      "right": null,
      "top": null,
      "visibility": null,
      "width": null
     }
    },
    "5f2b9dcf05fa45f5976c8291ae269824": {
     "model_module": "@jupyter-widgets/base",
     "model_module_version": "1.2.0",
     "model_name": "LayoutModel",
     "state": {
      "_model_module": "@jupyter-widgets/base",
      "_model_module_version": "1.2.0",
      "_model_name": "LayoutModel",
      "_view_count": null,
      "_view_module": "@jupyter-widgets/base",
      "_view_module_version": "1.2.0",
      "_view_name": "LayoutView",
      "align_content": null,
      "align_items": null,
      "align_self": null,
      "border": null,
      "bottom": null,
      "display": null,
      "flex": null,
      "flex_flow": null,
      "grid_area": null,
      "grid_auto_columns": null,
      "grid_auto_flow": null,
      "grid_auto_rows": null,
      "grid_column": null,
      "grid_gap": null,
      "grid_row": null,
      "grid_template_areas": null,
      "grid_template_columns": null,
      "grid_template_rows": null,
      "height": null,
      "justify_content": null,
      "justify_items": null,
      "left": null,
      "margin": null,
      "max_height": null,
      "max_width": null,
      "min_height": null,
      "min_width": null,
      "object_fit": null,
      "object_position": null,
      "order": null,
      "overflow": null,
      "overflow_x": null,
      "overflow_y": null,
      "padding": null,
      "right": null,
      "top": null,
      "visibility": null,
      "width": null
     }
    },
    "620151458527449fb25494fdf4f4454f": {
     "model_module": "@jupyter-widgets/controls",
     "model_module_version": "1.5.0",
     "model_name": "HTMLModel",
     "state": {
      "_dom_classes": [],
      "_model_module": "@jupyter-widgets/controls",
      "_model_module_version": "1.5.0",
      "_model_name": "HTMLModel",
      "_view_count": null,
      "_view_module": "@jupyter-widgets/controls",
      "_view_module_version": "1.5.0",
      "_view_name": "HTMLView",
      "description": "",
      "description_tooltip": null,
      "layout": "IPY_MODEL_dad38b84c7234078b978e86d875e8822",
      "placeholder": "​",
      "style": "IPY_MODEL_a8f1119d4e0f41159944a2252f8d57e0",
      "value": "Downloading: 100%"
     }
    },
    "64ead1c9d10b48c59f03eb92fcc6c090": {
     "model_module": "@jupyter-widgets/base",
     "model_module_version": "1.2.0",
     "model_name": "LayoutModel",
     "state": {
      "_model_module": "@jupyter-widgets/base",
      "_model_module_version": "1.2.0",
      "_model_name": "LayoutModel",
      "_view_count": null,
      "_view_module": "@jupyter-widgets/base",
      "_view_module_version": "1.2.0",
      "_view_name": "LayoutView",
      "align_content": null,
      "align_items": null,
      "align_self": null,
      "border": null,
      "bottom": null,
      "display": null,
      "flex": null,
      "flex_flow": null,
      "grid_area": null,
      "grid_auto_columns": null,
      "grid_auto_flow": null,
      "grid_auto_rows": null,
      "grid_column": null,
      "grid_gap": null,
      "grid_row": null,
      "grid_template_areas": null,
      "grid_template_columns": null,
      "grid_template_rows": null,
      "height": null,
      "justify_content": null,
      "justify_items": null,
      "left": null,
      "margin": null,
      "max_height": null,
      "max_width": null,
      "min_height": null,
      "min_width": null,
      "object_fit": null,
      "object_position": null,
      "order": null,
      "overflow": null,
      "overflow_x": null,
      "overflow_y": null,
      "padding": null,
      "right": null,
      "top": null,
      "visibility": null,
      "width": null
     }
    },
    "6654e46e736344e181cc8a0b2aa0faeb": {
     "model_module": "@jupyter-widgets/controls",
     "model_module_version": "1.5.0",
     "model_name": "ProgressStyleModel",
     "state": {
      "_model_module": "@jupyter-widgets/controls",
      "_model_module_version": "1.5.0",
      "_model_name": "ProgressStyleModel",
      "_view_count": null,
      "_view_module": "@jupyter-widgets/base",
      "_view_module_version": "1.2.0",
      "_view_name": "StyleView",
      "bar_color": null,
      "description_width": ""
     }
    },
    "69c117b555824e6691963c2b90211188": {
     "model_module": "@jupyter-widgets/base",
     "model_module_version": "1.2.0",
     "model_name": "LayoutModel",
     "state": {
      "_model_module": "@jupyter-widgets/base",
      "_model_module_version": "1.2.0",
      "_model_name": "LayoutModel",
      "_view_count": null,
      "_view_module": "@jupyter-widgets/base",
      "_view_module_version": "1.2.0",
      "_view_name": "LayoutView",
      "align_content": null,
      "align_items": null,
      "align_self": null,
      "border": null,
      "bottom": null,
      "display": null,
      "flex": null,
      "flex_flow": null,
      "grid_area": null,
      "grid_auto_columns": null,
      "grid_auto_flow": null,
      "grid_auto_rows": null,
      "grid_column": null,
      "grid_gap": null,
      "grid_row": null,
      "grid_template_areas": null,
      "grid_template_columns": null,
      "grid_template_rows": null,
      "height": null,
      "justify_content": null,
      "justify_items": null,
      "left": null,
      "margin": null,
      "max_height": null,
      "max_width": null,
      "min_height": null,
      "min_width": null,
      "object_fit": null,
      "object_position": null,
      "order": null,
      "overflow": null,
      "overflow_x": null,
      "overflow_y": null,
      "padding": null,
      "right": null,
      "top": null,
      "visibility": null,
      "width": null
     }
    },
    "6e473206c92c4abface8f1257db57f36": {
     "model_module": "@jupyter-widgets/controls",
     "model_module_version": "1.5.0",
     "model_name": "HBoxModel",
     "state": {
      "_dom_classes": [],
      "_model_module": "@jupyter-widgets/controls",
      "_model_module_version": "1.5.0",
      "_model_name": "HBoxModel",
      "_view_count": null,
      "_view_module": "@jupyter-widgets/controls",
      "_view_module_version": "1.5.0",
      "_view_name": "HBoxView",
      "box_style": "",
      "children": [
       "IPY_MODEL_987275e24d814403913688d3932d040a",
       "IPY_MODEL_ffee5eff74a34bfbbd00db6295044c16",
       "IPY_MODEL_cc355e47736140fc8b1ae3c65d073c88"
      ],
      "layout": "IPY_MODEL_b90afc63a810427f962f40d5e984bdf0"
     }
    },
    "6f01251b030946e593b7a8fabed7b201": {
     "model_module": "@jupyter-widgets/controls",
     "model_module_version": "1.5.0",
     "model_name": "HTMLModel",
     "state": {
      "_dom_classes": [],
      "_model_module": "@jupyter-widgets/controls",
      "_model_module_version": "1.5.0",
      "_model_name": "HTMLModel",
      "_view_count": null,
      "_view_module": "@jupyter-widgets/controls",
      "_view_module_version": "1.5.0",
      "_view_name": "HTMLView",
      "description": "",
      "description_tooltip": null,
      "layout": "IPY_MODEL_69c117b555824e6691963c2b90211188",
      "placeholder": "​",
      "style": "IPY_MODEL_c99b9fdcc70e41c6ab2a04caaff42a8c",
      "value": " 536M/536M [00:09&lt;00:00, 62.1MB/s]"
     }
    },
    "73142fc877a84be7b79df58d3d89c210": {
     "model_module": "@jupyter-widgets/controls",
     "model_module_version": "1.5.0",
     "model_name": "HTMLModel",
     "state": {
      "_dom_classes": [],
      "_model_module": "@jupyter-widgets/controls",
      "_model_module_version": "1.5.0",
      "_model_name": "HTMLModel",
      "_view_count": null,
      "_view_module": "@jupyter-widgets/controls",
      "_view_module_version": "1.5.0",
      "_view_name": "HTMLView",
      "description": "",
      "description_tooltip": null,
      "layout": "IPY_MODEL_15d863385e8944c98e8acdf261b01e38",
      "placeholder": "​",
      "style": "IPY_MODEL_c840f231e6884b7d89802cd060bc5961",
      "value": "Downloading: 100%"
     }
    },
    "817ab37ac1a74ab8ba4625f4f67f482a": {
     "model_module": "@jupyter-widgets/controls",
     "model_module_version": "1.5.0",
     "model_name": "HTMLModel",
     "state": {
      "_dom_classes": [],
      "_model_module": "@jupyter-widgets/controls",
      "_model_module_version": "1.5.0",
      "_model_name": "HTMLModel",
      "_view_count": null,
      "_view_module": "@jupyter-widgets/controls",
      "_view_module_version": "1.5.0",
      "_view_name": "HTMLView",
      "description": "",
      "description_tooltip": null,
      "layout": "IPY_MODEL_36ebe93ad60746a4a2ae107aca44b1f6",
      "placeholder": "​",
      "style": "IPY_MODEL_0a56159b97d14b048dc560c581153ec0",
      "value": "Downloading: 100%"
     }
    },
    "8461d4c73a9d42608c7e535b89ddf42a": {
     "model_module": "@jupyter-widgets/controls",
     "model_module_version": "1.5.0",
     "model_name": "DescriptionStyleModel",
     "state": {
      "_model_module": "@jupyter-widgets/controls",
      "_model_module_version": "1.5.0",
      "_model_name": "DescriptionStyleModel",
      "_view_count": null,
      "_view_module": "@jupyter-widgets/base",
      "_view_module_version": "1.2.0",
      "_view_name": "StyleView",
      "description_width": ""
     }
    },
    "84e23fe60d8347feab973b5c3d99f165": {
     "model_module": "@jupyter-widgets/base",
     "model_module_version": "1.2.0",
     "model_name": "LayoutModel",
     "state": {
      "_model_module": "@jupyter-widgets/base",
      "_model_module_version": "1.2.0",
      "_model_name": "LayoutModel",
      "_view_count": null,
      "_view_module": "@jupyter-widgets/base",
      "_view_module_version": "1.2.0",
      "_view_name": "LayoutView",
      "align_content": null,
      "align_items": null,
      "align_self": null,
      "border": null,
      "bottom": null,
      "display": null,
      "flex": null,
      "flex_flow": null,
      "grid_area": null,
      "grid_auto_columns": null,
      "grid_auto_flow": null,
      "grid_auto_rows": null,
      "grid_column": null,
      "grid_gap": null,
      "grid_row": null,
      "grid_template_areas": null,
      "grid_template_columns": null,
      "grid_template_rows": null,
      "height": null,
      "justify_content": null,
      "justify_items": null,
      "left": null,
      "margin": null,
      "max_height": null,
      "max_width": null,
      "min_height": null,
      "min_width": null,
      "object_fit": null,
      "object_position": null,
      "order": null,
      "overflow": null,
      "overflow_x": null,
      "overflow_y": null,
      "padding": null,
      "right": null,
      "top": null,
      "visibility": null,
      "width": null
     }
    },
    "84f588ecfc0249b39a5e2cef6030d5f4": {
     "model_module": "@jupyter-widgets/base",
     "model_module_version": "1.2.0",
     "model_name": "LayoutModel",
     "state": {
      "_model_module": "@jupyter-widgets/base",
      "_model_module_version": "1.2.0",
      "_model_name": "LayoutModel",
      "_view_count": null,
      "_view_module": "@jupyter-widgets/base",
      "_view_module_version": "1.2.0",
      "_view_name": "LayoutView",
      "align_content": null,
      "align_items": null,
      "align_self": null,
      "border": null,
      "bottom": null,
      "display": null,
      "flex": null,
      "flex_flow": null,
      "grid_area": null,
      "grid_auto_columns": null,
      "grid_auto_flow": null,
      "grid_auto_rows": null,
      "grid_column": null,
      "grid_gap": null,
      "grid_row": null,
      "grid_template_areas": null,
      "grid_template_columns": null,
      "grid_template_rows": null,
      "height": null,
      "justify_content": null,
      "justify_items": null,
      "left": null,
      "margin": null,
      "max_height": null,
      "max_width": null,
      "min_height": null,
      "min_width": null,
      "object_fit": null,
      "object_position": null,
      "order": null,
      "overflow": null,
      "overflow_x": null,
      "overflow_y": null,
      "padding": null,
      "right": null,
      "top": null,
      "visibility": null,
      "width": null
     }
    },
    "855e4cc0e6fa4555a8d51a7b4948c0d0": {
     "model_module": "@jupyter-widgets/base",
     "model_module_version": "1.2.0",
     "model_name": "LayoutModel",
     "state": {
      "_model_module": "@jupyter-widgets/base",
      "_model_module_version": "1.2.0",
      "_model_name": "LayoutModel",
      "_view_count": null,
      "_view_module": "@jupyter-widgets/base",
      "_view_module_version": "1.2.0",
      "_view_name": "LayoutView",
      "align_content": null,
      "align_items": null,
      "align_self": null,
      "border": null,
      "bottom": null,
      "display": null,
      "flex": null,
      "flex_flow": null,
      "grid_area": null,
      "grid_auto_columns": null,
      "grid_auto_flow": null,
      "grid_auto_rows": null,
      "grid_column": null,
      "grid_gap": null,
      "grid_row": null,
      "grid_template_areas": null,
      "grid_template_columns": null,
      "grid_template_rows": null,
      "height": null,
      "justify_content": null,
      "justify_items": null,
      "left": null,
      "margin": null,
      "max_height": null,
      "max_width": null,
      "min_height": null,
      "min_width": null,
      "object_fit": null,
      "object_position": null,
      "order": null,
      "overflow": null,
      "overflow_x": null,
      "overflow_y": null,
      "padding": null,
      "right": null,
      "top": null,
      "visibility": null,
      "width": null
     }
    },
    "85ee0f41ff12426b955330c46dd8973b": {
     "model_module": "@jupyter-widgets/base",
     "model_module_version": "1.2.0",
     "model_name": "LayoutModel",
     "state": {
      "_model_module": "@jupyter-widgets/base",
      "_model_module_version": "1.2.0",
      "_model_name": "LayoutModel",
      "_view_count": null,
      "_view_module": "@jupyter-widgets/base",
      "_view_module_version": "1.2.0",
      "_view_name": "LayoutView",
      "align_content": null,
      "align_items": null,
      "align_self": null,
      "border": null,
      "bottom": null,
      "display": null,
      "flex": null,
      "flex_flow": null,
      "grid_area": null,
      "grid_auto_columns": null,
      "grid_auto_flow": null,
      "grid_auto_rows": null,
      "grid_column": null,
      "grid_gap": null,
      "grid_row": null,
      "grid_template_areas": null,
      "grid_template_columns": null,
      "grid_template_rows": null,
      "height": null,
      "justify_content": null,
      "justify_items": null,
      "left": null,
      "margin": null,
      "max_height": null,
      "max_width": null,
      "min_height": null,
      "min_width": null,
      "object_fit": null,
      "object_position": null,
      "order": null,
      "overflow": null,
      "overflow_x": null,
      "overflow_y": null,
      "padding": null,
      "right": null,
      "top": null,
      "visibility": null,
      "width": null
     }
    },
    "8861f3cb4ddf46689940a1e57d5e05e8": {
     "model_module": "@jupyter-widgets/controls",
     "model_module_version": "1.5.0",
     "model_name": "FloatProgressModel",
     "state": {
      "_dom_classes": [],
      "_model_module": "@jupyter-widgets/controls",
      "_model_module_version": "1.5.0",
      "_model_name": "FloatProgressModel",
      "_view_count": null,
      "_view_module": "@jupyter-widgets/controls",
      "_view_module_version": "1.5.0",
      "_view_name": "ProgressView",
      "bar_style": "success",
      "description": "",
      "description_tooltip": null,
      "layout": "IPY_MODEL_e4f8e078dd97449fb6601143be8ef484",
      "max": 28,
      "min": 0,
      "orientation": "horizontal",
      "style": "IPY_MODEL_bcb86c1f7b10408db8faf1174274bd30",
      "value": 28
     }
    },
    "892baf415b3b43899246d02531daa9d6": {
     "model_module": "@jupyter-widgets/controls",
     "model_module_version": "1.5.0",
     "model_name": "HTMLModel",
     "state": {
      "_dom_classes": [],
      "_model_module": "@jupyter-widgets/controls",
      "_model_module_version": "1.5.0",
      "_model_name": "HTMLModel",
      "_view_count": null,
      "_view_module": "@jupyter-widgets/controls",
      "_view_module_version": "1.5.0",
      "_view_name": "HTMLView",
      "description": "",
      "description_tooltip": null,
      "layout": "IPY_MODEL_b9fdf0452ae548cb815dbd6354d71e63",
      "placeholder": "​",
      "style": "IPY_MODEL_07cff3ba353140ba8b3c826466843a52",
      "value": " 213k/213k [00:00&lt;00:00, 1.47MB/s]"
     }
    },
    "893ce365f1ff4e0d90c86ca20d1ae9d4": {
     "model_module": "@jupyter-widgets/controls",
     "model_module_version": "1.5.0",
     "model_name": "DescriptionStyleModel",
     "state": {
      "_model_module": "@jupyter-widgets/controls",
      "_model_module_version": "1.5.0",
      "_model_name": "DescriptionStyleModel",
      "_view_count": null,
      "_view_module": "@jupyter-widgets/base",
      "_view_module_version": "1.2.0",
      "_view_name": "StyleView",
      "description_width": ""
     }
    },
    "8cd745c018714e6fbf74ce88576c99cf": {
     "model_module": "@jupyter-widgets/controls",
     "model_module_version": "1.5.0",
     "model_name": "FloatProgressModel",
     "state": {
      "_dom_classes": [],
      "_model_module": "@jupyter-widgets/controls",
      "_model_module_version": "1.5.0",
      "_model_name": "FloatProgressModel",
      "_view_count": null,
      "_view_module": "@jupyter-widgets/controls",
      "_view_module_version": "1.5.0",
      "_view_name": "ProgressView",
      "bar_style": "success",
      "description": "",
      "description_tooltip": null,
      "layout": "IPY_MODEL_37bf85eb6efb4d92baf318c3adbe3253",
      "max": 536063208,
      "min": 0,
      "orientation": "horizontal",
      "style": "IPY_MODEL_04be7c10ce4641129d83470b1b6faa6f",
      "value": 536063208
     }
    },
    "9308012cae84431d8340af892a204449": {
     "model_module": "@jupyter-widgets/controls",
     "model_module_version": "1.5.0",
     "model_name": "HBoxModel",
     "state": {
      "_dom_classes": [],
      "_model_module": "@jupyter-widgets/controls",
      "_model_module_version": "1.5.0",
      "_model_name": "HBoxModel",
      "_view_count": null,
      "_view_module": "@jupyter-widgets/controls",
      "_view_module_version": "1.5.0",
      "_view_name": "HBoxView",
      "box_style": "",
      "children": [
       "IPY_MODEL_73142fc877a84be7b79df58d3d89c210",
       "IPY_MODEL_8861f3cb4ddf46689940a1e57d5e05e8",
       "IPY_MODEL_48cf36afa9b84885ba9643951fdbb02f"
      ],
      "layout": "IPY_MODEL_64ead1c9d10b48c59f03eb92fcc6c090"
     }
    },
    "976f3962ed7747a69e0fb9446f37b422": {
     "model_module": "@jupyter-widgets/controls",
     "model_module_version": "1.5.0",
     "model_name": "DescriptionStyleModel",
     "state": {
      "_model_module": "@jupyter-widgets/controls",
      "_model_module_version": "1.5.0",
      "_model_name": "DescriptionStyleModel",
      "_view_count": null,
      "_view_module": "@jupyter-widgets/base",
      "_view_module_version": "1.2.0",
      "_view_name": "StyleView",
      "description_width": ""
     }
    },
    "97de3c494af14d36bbc4be106ddec741": {
     "model_module": "@jupyter-widgets/base",
     "model_module_version": "1.2.0",
     "model_name": "LayoutModel",
     "state": {
      "_model_module": "@jupyter-widgets/base",
      "_model_module_version": "1.2.0",
      "_model_name": "LayoutModel",
      "_view_count": null,
      "_view_module": "@jupyter-widgets/base",
      "_view_module_version": "1.2.0",
      "_view_name": "LayoutView",
      "align_content": null,
      "align_items": null,
      "align_self": null,
      "border": null,
      "bottom": null,
      "display": null,
      "flex": null,
      "flex_flow": null,
      "grid_area": null,
      "grid_auto_columns": null,
      "grid_auto_flow": null,
      "grid_auto_rows": null,
      "grid_column": null,
      "grid_gap": null,
      "grid_row": null,
      "grid_template_areas": null,
      "grid_template_columns": null,
      "grid_template_rows": null,
      "height": null,
      "justify_content": null,
      "justify_items": null,
      "left": null,
      "margin": null,
      "max_height": null,
      "max_width": null,
      "min_height": null,
      "min_width": null,
      "object_fit": null,
      "object_position": null,
      "order": null,
      "overflow": null,
      "overflow_x": null,
      "overflow_y": null,
      "padding": null,
      "right": null,
      "top": null,
      "visibility": null,
      "width": null
     }
    },
    "987275e24d814403913688d3932d040a": {
     "model_module": "@jupyter-widgets/controls",
     "model_module_version": "1.5.0",
     "model_name": "HTMLModel",
     "state": {
      "_dom_classes": [],
      "_model_module": "@jupyter-widgets/controls",
      "_model_module_version": "1.5.0",
      "_model_name": "HTMLModel",
      "_view_count": null,
      "_view_module": "@jupyter-widgets/controls",
      "_view_module_version": "1.5.0",
      "_view_name": "HTMLView",
      "description": "",
      "description_tooltip": null,
      "layout": "IPY_MODEL_5f2b9dcf05fa45f5976c8291ae269824",
      "placeholder": "​",
      "style": "IPY_MODEL_976f3962ed7747a69e0fb9446f37b422",
      "value": "Downloading: 100%"
     }
    },
    "9dd9dd13a01542d7a524e61b0e8011ac": {
     "model_module": "@jupyter-widgets/base",
     "model_module_version": "1.2.0",
     "model_name": "LayoutModel",
     "state": {
      "_model_module": "@jupyter-widgets/base",
      "_model_module_version": "1.2.0",
      "_model_name": "LayoutModel",
      "_view_count": null,
      "_view_module": "@jupyter-widgets/base",
      "_view_module_version": "1.2.0",
      "_view_name": "LayoutView",
      "align_content": null,
      "align_items": null,
      "align_self": null,
      "border": null,
      "bottom": null,
      "display": null,
      "flex": null,
      "flex_flow": null,
      "grid_area": null,
      "grid_auto_columns": null,
      "grid_auto_flow": null,
      "grid_auto_rows": null,
      "grid_column": null,
      "grid_gap": null,
      "grid_row": null,
      "grid_template_areas": null,
      "grid_template_columns": null,
      "grid_template_rows": null,
      "height": null,
      "justify_content": null,
      "justify_items": null,
      "left": null,
      "margin": null,
      "max_height": null,
      "max_width": null,
      "min_height": null,
      "min_width": null,
      "object_fit": null,
      "object_position": null,
      "order": null,
      "overflow": null,
      "overflow_x": null,
      "overflow_y": null,
      "padding": null,
      "right": null,
      "top": null,
      "visibility": null,
      "width": null
     }
    },
    "9ef69be1e99e4d1ebf6061c583304aae": {
     "model_module": "@jupyter-widgets/controls",
     "model_module_version": "1.5.0",
     "model_name": "HBoxModel",
     "state": {
      "_dom_classes": [],
      "_model_module": "@jupyter-widgets/controls",
      "_model_module_version": "1.5.0",
      "_model_name": "HBoxModel",
      "_view_count": null,
      "_view_module": "@jupyter-widgets/controls",
      "_view_module_version": "1.5.0",
      "_view_name": "HBoxView",
      "box_style": "",
      "children": [
       "IPY_MODEL_817ab37ac1a74ab8ba4625f4f67f482a",
       "IPY_MODEL_8cd745c018714e6fbf74ce88576c99cf",
       "IPY_MODEL_6f01251b030946e593b7a8fabed7b201"
      ],
      "layout": "IPY_MODEL_4d6e46479c324717a2edfc82b17f50f8"
     }
    },
    "a082300f9c474763b1c4308e74576885": {
     "model_module": "@jupyter-widgets/controls",
     "model_module_version": "1.5.0",
     "model_name": "ProgressStyleModel",
     "state": {
      "_model_module": "@jupyter-widgets/controls",
      "_model_module_version": "1.5.0",
      "_model_name": "ProgressStyleModel",
      "_view_count": null,
      "_view_module": "@jupyter-widgets/base",
      "_view_module_version": "1.2.0",
      "_view_name": "StyleView",
      "bar_color": null,
      "description_width": ""
     }
    },
    "a8f1119d4e0f41159944a2252f8d57e0": {
     "model_module": "@jupyter-widgets/controls",
     "model_module_version": "1.5.0",
     "model_name": "DescriptionStyleModel",
     "state": {
      "_model_module": "@jupyter-widgets/controls",
      "_model_module_version": "1.5.0",
      "_model_name": "DescriptionStyleModel",
      "_view_count": null,
      "_view_module": "@jupyter-widgets/base",
      "_view_module_version": "1.2.0",
      "_view_name": "StyleView",
      "description_width": ""
     }
    },
    "aa5bf45dafeb4db68a8713253299dc30": {
     "model_module": "@jupyter-widgets/controls",
     "model_module_version": "1.5.0",
     "model_name": "DescriptionStyleModel",
     "state": {
      "_model_module": "@jupyter-widgets/controls",
      "_model_module_version": "1.5.0",
      "_model_name": "DescriptionStyleModel",
      "_view_count": null,
      "_view_module": "@jupyter-widgets/base",
      "_view_module_version": "1.2.0",
      "_view_name": "StyleView",
      "description_width": ""
     }
    },
    "ac7afb3da22a43469ccc2ef9ed9f9902": {
     "model_module": "@jupyter-widgets/base",
     "model_module_version": "1.2.0",
     "model_name": "LayoutModel",
     "state": {
      "_model_module": "@jupyter-widgets/base",
      "_model_module_version": "1.2.0",
      "_model_name": "LayoutModel",
      "_view_count": null,
      "_view_module": "@jupyter-widgets/base",
      "_view_module_version": "1.2.0",
      "_view_name": "LayoutView",
      "align_content": null,
      "align_items": null,
      "align_self": null,
      "border": null,
      "bottom": null,
      "display": null,
      "flex": null,
      "flex_flow": null,
      "grid_area": null,
      "grid_auto_columns": null,
      "grid_auto_flow": null,
      "grid_auto_rows": null,
      "grid_column": null,
      "grid_gap": null,
      "grid_row": null,
      "grid_template_areas": null,
      "grid_template_columns": null,
      "grid_template_rows": null,
      "height": null,
      "justify_content": null,
      "justify_items": null,
      "left": null,
      "margin": null,
      "max_height": null,
      "max_width": null,
      "min_height": null,
      "min_width": null,
      "object_fit": null,
      "object_position": null,
      "order": null,
      "overflow": null,
      "overflow_x": null,
      "overflow_y": null,
      "padding": null,
      "right": null,
      "top": null,
      "visibility": null,
      "width": null
     }
    },
    "b21725b0a93b4ec0bd3da8a82f160cc7": {
     "model_module": "@jupyter-widgets/controls",
     "model_module_version": "1.5.0",
     "model_name": "HBoxModel",
     "state": {
      "_dom_classes": [],
      "_model_module": "@jupyter-widgets/controls",
      "_model_module_version": "1.5.0",
      "_model_name": "HBoxModel",
      "_view_count": null,
      "_view_module": "@jupyter-widgets/controls",
      "_view_module_version": "1.5.0",
      "_view_name": "HBoxView",
      "box_style": "",
      "children": [
       "IPY_MODEL_620151458527449fb25494fdf4f4454f",
       "IPY_MODEL_b35274a36ceb45a2acac8353aa19401b",
       "IPY_MODEL_bb87306a5f4b407aa7539dad83004cd1"
      ],
      "layout": "IPY_MODEL_5e6b964b5dc74a7fae031671af582b17"
     }
    },
    "b35274a36ceb45a2acac8353aa19401b": {
     "model_module": "@jupyter-widgets/controls",
     "model_module_version": "1.5.0",
     "model_name": "FloatProgressModel",
     "state": {
      "_dom_classes": [],
      "_model_module": "@jupyter-widgets/controls",
      "_model_module_version": "1.5.0",
      "_model_name": "FloatProgressModel",
      "_view_count": null,
      "_view_module": "@jupyter-widgets/controls",
      "_view_module_version": "1.5.0",
      "_view_name": "ProgressView",
      "bar_style": "success",
      "description": "",
      "description_tooltip": null,
      "layout": "IPY_MODEL_84f588ecfc0249b39a5e2cef6030d5f4",
      "max": 29,
      "min": 0,
      "orientation": "horizontal",
      "style": "IPY_MODEL_6654e46e736344e181cc8a0b2aa0faeb",
      "value": 29
     }
    },
    "b5846b5c74f54b8ab22d8c74c5b6fa68": {
     "model_module": "@jupyter-widgets/controls",
     "model_module_version": "1.5.0",
     "model_name": "HBoxModel",
     "state": {
      "_dom_classes": [],
      "_model_module": "@jupyter-widgets/controls",
      "_model_module_version": "1.5.0",
      "_model_name": "HBoxModel",
      "_view_count": null,
      "_view_module": "@jupyter-widgets/controls",
      "_view_module_version": "1.5.0",
      "_view_name": "HBoxView",
      "box_style": "",
      "children": [
       "IPY_MODEL_21596ada756146eea5adb74b56583204",
       "IPY_MODEL_27fb532f684945a09a9518829b915a19",
       "IPY_MODEL_29487477e7794f788cf038a3a0deb98a"
      ],
      "layout": "IPY_MODEL_2a67890b0ec5462aa024e710a1e8e747"
     }
    },
    "b90afc63a810427f962f40d5e984bdf0": {
     "model_module": "@jupyter-widgets/base",
     "model_module_version": "1.2.0",
     "model_name": "LayoutModel",
     "state": {
      "_model_module": "@jupyter-widgets/base",
      "_model_module_version": "1.2.0",
      "_model_name": "LayoutModel",
      "_view_count": null,
      "_view_module": "@jupyter-widgets/base",
      "_view_module_version": "1.2.0",
      "_view_name": "LayoutView",
      "align_content": null,
      "align_items": null,
      "align_self": null,
      "border": null,
      "bottom": null,
      "display": null,
      "flex": null,
      "flex_flow": null,
      "grid_area": null,
      "grid_auto_columns": null,
      "grid_auto_flow": null,
      "grid_auto_rows": null,
      "grid_column": null,
      "grid_gap": null,
      "grid_row": null,
      "grid_template_areas": null,
      "grid_template_columns": null,
      "grid_template_rows": null,
      "height": null,
      "justify_content": null,
      "justify_items": null,
      "left": null,
      "margin": null,
      "max_height": null,
      "max_width": null,
      "min_height": null,
      "min_width": null,
      "object_fit": null,
      "object_position": null,
      "order": null,
      "overflow": null,
      "overflow_x": null,
      "overflow_y": null,
      "padding": null,
      "right": null,
      "top": null,
      "visibility": null,
      "width": null
     }
    },
    "b9fdf0452ae548cb815dbd6354d71e63": {
     "model_module": "@jupyter-widgets/base",
     "model_module_version": "1.2.0",
     "model_name": "LayoutModel",
     "state": {
      "_model_module": "@jupyter-widgets/base",
      "_model_module_version": "1.2.0",
      "_model_name": "LayoutModel",
      "_view_count": null,
      "_view_module": "@jupyter-widgets/base",
      "_view_module_version": "1.2.0",
      "_view_name": "LayoutView",
      "align_content": null,
      "align_items": null,
      "align_self": null,
      "border": null,
      "bottom": null,
      "display": null,
      "flex": null,
      "flex_flow": null,
      "grid_area": null,
      "grid_auto_columns": null,
      "grid_auto_flow": null,
      "grid_auto_rows": null,
      "grid_column": null,
      "grid_gap": null,
      "grid_row": null,
      "grid_template_areas": null,
      "grid_template_columns": null,
      "grid_template_rows": null,
      "height": null,
      "justify_content": null,
      "justify_items": null,
      "left": null,
      "margin": null,
      "max_height": null,
      "max_width": null,
      "min_height": null,
      "min_width": null,
      "object_fit": null,
      "object_position": null,
      "order": null,
      "overflow": null,
      "overflow_x": null,
      "overflow_y": null,
      "padding": null,
      "right": null,
      "top": null,
      "visibility": null,
      "width": null
     }
    },
    "ba4f0cebe58a4d0488f3304eb29b88f0": {
     "model_module": "@jupyter-widgets/controls",
     "model_module_version": "1.5.0",
     "model_name": "HTMLModel",
     "state": {
      "_dom_classes": [],
      "_model_module": "@jupyter-widgets/controls",
      "_model_module_version": "1.5.0",
      "_model_name": "HTMLModel",
      "_view_count": null,
      "_view_module": "@jupyter-widgets/controls",
      "_view_module_version": "1.5.0",
      "_view_name": "HTMLView",
      "description": "",
      "description_tooltip": null,
      "layout": "IPY_MODEL_97de3c494af14d36bbc4be106ddec741",
      "placeholder": "​",
      "style": "IPY_MODEL_aa5bf45dafeb4db68a8713253299dc30",
      "value": "Downloading: 100%"
     }
    },
    "bb87306a5f4b407aa7539dad83004cd1": {
     "model_module": "@jupyter-widgets/controls",
     "model_module_version": "1.5.0",
     "model_name": "HTMLModel",
     "state": {
      "_dom_classes": [],
      "_model_module": "@jupyter-widgets/controls",
      "_model_module_version": "1.5.0",
      "_model_name": "HTMLModel",
      "_view_count": null,
      "_view_module": "@jupyter-widgets/controls",
      "_view_module_version": "1.5.0",
      "_view_name": "HTMLView",
      "description": "",
      "description_tooltip": null,
      "layout": "IPY_MODEL_85ee0f41ff12426b955330c46dd8973b",
      "placeholder": "​",
      "style": "IPY_MODEL_8461d4c73a9d42608c7e535b89ddf42a",
      "value": " 29.0/29.0 [00:00&lt;00:00, 367B/s]"
     }
    },
    "bcb86c1f7b10408db8faf1174274bd30": {
     "model_module": "@jupyter-widgets/controls",
     "model_module_version": "1.5.0",
     "model_name": "ProgressStyleModel",
     "state": {
      "_model_module": "@jupyter-widgets/controls",
      "_model_module_version": "1.5.0",
      "_model_name": "ProgressStyleModel",
      "_view_count": null,
      "_view_module": "@jupyter-widgets/base",
      "_view_module_version": "1.2.0",
      "_view_name": "StyleView",
      "bar_color": null,
      "description_width": ""
     }
    },
    "c0266e9b5727428cb63fe1e91e39685b": {
     "model_module": "@jupyter-widgets/controls",
     "model_module_version": "1.5.0",
     "model_name": "ProgressStyleModel",
     "state": {
      "_model_module": "@jupyter-widgets/controls",
      "_model_module_version": "1.5.0",
      "_model_name": "ProgressStyleModel",
      "_view_count": null,
      "_view_module": "@jupyter-widgets/base",
      "_view_module_version": "1.2.0",
      "_view_name": "StyleView",
      "bar_color": null,
      "description_width": ""
     }
    },
    "c80cd4c4feaf42de90f55af30f322b32": {
     "model_module": "@jupyter-widgets/controls",
     "model_module_version": "1.5.0",
     "model_name": "HTMLModel",
     "state": {
      "_dom_classes": [],
      "_model_module": "@jupyter-widgets/controls",
      "_model_module_version": "1.5.0",
      "_model_name": "HTMLModel",
      "_view_count": null,
      "_view_module": "@jupyter-widgets/controls",
      "_view_module_version": "1.5.0",
      "_view_name": "HTMLView",
      "description": "",
      "description_tooltip": null,
      "layout": "IPY_MODEL_9dd9dd13a01542d7a524e61b0e8011ac",
      "placeholder": "​",
      "style": "IPY_MODEL_247cb6c76e16448082cbfc637e8c9ea2",
      "value": "Downloading: 100%"
     }
    },
    "c840f231e6884b7d89802cd060bc5961": {
     "model_module": "@jupyter-widgets/controls",
     "model_module_version": "1.5.0",
     "model_name": "DescriptionStyleModel",
     "state": {
      "_model_module": "@jupyter-widgets/controls",
      "_model_module_version": "1.5.0",
      "_model_name": "DescriptionStyleModel",
      "_view_count": null,
      "_view_module": "@jupyter-widgets/base",
      "_view_module_version": "1.2.0",
      "_view_name": "StyleView",
      "description_width": ""
     }
    },
    "c99b9fdcc70e41c6ab2a04caaff42a8c": {
     "model_module": "@jupyter-widgets/controls",
     "model_module_version": "1.5.0",
     "model_name": "DescriptionStyleModel",
     "state": {
      "_model_module": "@jupyter-widgets/controls",
      "_model_module_version": "1.5.0",
      "_model_name": "DescriptionStyleModel",
      "_view_count": null,
      "_view_module": "@jupyter-widgets/base",
      "_view_module_version": "1.2.0",
      "_view_name": "StyleView",
      "description_width": ""
     }
    },
    "cc355e47736140fc8b1ae3c65d073c88": {
     "model_module": "@jupyter-widgets/controls",
     "model_module_version": "1.5.0",
     "model_name": "HTMLModel",
     "state": {
      "_dom_classes": [],
      "_model_module": "@jupyter-widgets/controls",
      "_model_module_version": "1.5.0",
      "_model_name": "HTMLModel",
      "_view_count": null,
      "_view_module": "@jupyter-widgets/controls",
      "_view_module_version": "1.5.0",
      "_view_name": "HTMLView",
      "description": "",
      "description_tooltip": null,
      "layout": "IPY_MODEL_84e23fe60d8347feab973b5c3d99f165",
      "placeholder": "​",
      "style": "IPY_MODEL_59dd5919a6d84f5d97caaf7cb0874236",
      "value": " 527M/527M [00:09&lt;00:00, 60.0MB/s]"
     }
    },
    "d249ad43ba3146e3a05eb2a02caa34fc": {
     "model_module": "@jupyter-widgets/controls",
     "model_module_version": "1.5.0",
     "model_name": "HTMLModel",
     "state": {
      "_dom_classes": [],
      "_model_module": "@jupyter-widgets/controls",
      "_model_module_version": "1.5.0",
      "_model_name": "HTMLModel",
      "_view_count": null,
      "_view_module": "@jupyter-widgets/controls",
      "_view_module_version": "1.5.0",
      "_view_name": "HTMLView",
      "description": "",
      "description_tooltip": null,
      "layout": "IPY_MODEL_0e0e46fc31764e9199df1afd00fc173c",
      "placeholder": "​",
      "style": "IPY_MODEL_5433de634cf2483080887c36c2f200a3",
      "value": "Downloading: 100%"
     }
    },
    "d6ba716c6af04a3ea79eca2798a0670c": {
     "model_module": "@jupyter-widgets/controls",
     "model_module_version": "1.5.0",
     "model_name": "FloatProgressModel",
     "state": {
      "_dom_classes": [],
      "_model_module": "@jupyter-widgets/controls",
      "_model_module_version": "1.5.0",
      "_model_name": "FloatProgressModel",
      "_view_count": null,
      "_view_module": "@jupyter-widgets/controls",
      "_view_module_version": "1.5.0",
      "_view_name": "ProgressView",
      "bar_style": "success",
      "description": "",
      "description_tooltip": null,
      "layout": "IPY_MODEL_09f61e6095c64cfdadbfc9a0d0888164",
      "max": 570,
      "min": 0,
      "orientation": "horizontal",
      "style": "IPY_MODEL_a082300f9c474763b1c4308e74576885",
      "value": 570
     }
    },
    "d85fb17ddd88417fa00142d57d2094b6": {
     "model_module": "@jupyter-widgets/base",
     "model_module_version": "1.2.0",
     "model_name": "LayoutModel",
     "state": {
      "_model_module": "@jupyter-widgets/base",
      "_model_module_version": "1.2.0",
      "_model_name": "LayoutModel",
      "_view_count": null,
      "_view_module": "@jupyter-widgets/base",
      "_view_module_version": "1.2.0",
      "_view_name": "LayoutView",
      "align_content": null,
      "align_items": null,
      "align_self": null,
      "border": null,
      "bottom": null,
      "display": null,
      "flex": null,
      "flex_flow": null,
      "grid_area": null,
      "grid_auto_columns": null,
      "grid_auto_flow": null,
      "grid_auto_rows": null,
      "grid_column": null,
      "grid_gap": null,
      "grid_row": null,
      "grid_template_areas": null,
      "grid_template_columns": null,
      "grid_template_rows": null,
      "height": null,
      "justify_content": null,
      "justify_items": null,
      "left": null,
      "margin": null,
      "max_height": null,
      "max_width": null,
      "min_height": null,
      "min_width": null,
      "object_fit": null,
      "object_position": null,
      "order": null,
      "overflow": null,
      "overflow_x": null,
      "overflow_y": null,
      "padding": null,
      "right": null,
      "top": null,
      "visibility": null,
      "width": null
     }
    },
    "dad38b84c7234078b978e86d875e8822": {
     "model_module": "@jupyter-widgets/base",
     "model_module_version": "1.2.0",
     "model_name": "LayoutModel",
     "state": {
      "_model_module": "@jupyter-widgets/base",
      "_model_module_version": "1.2.0",
      "_model_name": "LayoutModel",
      "_view_count": null,
      "_view_module": "@jupyter-widgets/base",
      "_view_module_version": "1.2.0",
      "_view_name": "LayoutView",
      "align_content": null,
      "align_items": null,
      "align_self": null,
      "border": null,
      "bottom": null,
      "display": null,
      "flex": null,
      "flex_flow": null,
      "grid_area": null,
      "grid_auto_columns": null,
      "grid_auto_flow": null,
      "grid_auto_rows": null,
      "grid_column": null,
      "grid_gap": null,
      "grid_row": null,
      "grid_template_areas": null,
      "grid_template_columns": null,
      "grid_template_rows": null,
      "height": null,
      "justify_content": null,
      "justify_items": null,
      "left": null,
      "margin": null,
      "max_height": null,
      "max_width": null,
      "min_height": null,
      "min_width": null,
      "object_fit": null,
      "object_position": null,
      "order": null,
      "overflow": null,
      "overflow_x": null,
      "overflow_y": null,
      "padding": null,
      "right": null,
      "top": null,
      "visibility": null,
      "width": null
     }
    },
    "dc2521343ed14f19b5b4f54a426dc0b2": {
     "model_module": "@jupyter-widgets/controls",
     "model_module_version": "1.5.0",
     "model_name": "HBoxModel",
     "state": {
      "_dom_classes": [],
      "_model_module": "@jupyter-widgets/controls",
      "_model_module_version": "1.5.0",
      "_model_name": "HBoxModel",
      "_view_count": null,
      "_view_module": "@jupyter-widgets/controls",
      "_view_module_version": "1.5.0",
      "_view_name": "HBoxView",
      "box_style": "",
      "children": [
       "IPY_MODEL_ba4f0cebe58a4d0488f3304eb29b88f0",
       "IPY_MODEL_08fec05149c447e1a6bd3e4c960b2952",
       "IPY_MODEL_892baf415b3b43899246d02531daa9d6"
      ],
      "layout": "IPY_MODEL_5e8787c495604337a1921a534ff23f6a"
     }
    },
    "e411b1732ebf4e0e891f513149235898": {
     "model_module": "@jupyter-widgets/base",
     "model_module_version": "1.2.0",
     "model_name": "LayoutModel",
     "state": {
      "_model_module": "@jupyter-widgets/base",
      "_model_module_version": "1.2.0",
      "_model_name": "LayoutModel",
      "_view_count": null,
      "_view_module": "@jupyter-widgets/base",
      "_view_module_version": "1.2.0",
      "_view_name": "LayoutView",
      "align_content": null,
      "align_items": null,
      "align_self": null,
      "border": null,
      "bottom": null,
      "display": null,
      "flex": null,
      "flex_flow": null,
      "grid_area": null,
      "grid_auto_columns": null,
      "grid_auto_flow": null,
      "grid_auto_rows": null,
      "grid_column": null,
      "grid_gap": null,
      "grid_row": null,
      "grid_template_areas": null,
      "grid_template_columns": null,
      "grid_template_rows": null,
      "height": null,
      "justify_content": null,
      "justify_items": null,
      "left": null,
      "margin": null,
      "max_height": null,
      "max_width": null,
      "min_height": null,
      "min_width": null,
      "object_fit": null,
      "object_position": null,
      "order": null,
      "overflow": null,
      "overflow_x": null,
      "overflow_y": null,
      "padding": null,
      "right": null,
      "top": null,
      "visibility": null,
      "width": null
     }
    },
    "e4f8e078dd97449fb6601143be8ef484": {
     "model_module": "@jupyter-widgets/base",
     "model_module_version": "1.2.0",
     "model_name": "LayoutModel",
     "state": {
      "_model_module": "@jupyter-widgets/base",
      "_model_module_version": "1.2.0",
      "_model_name": "LayoutModel",
      "_view_count": null,
      "_view_module": "@jupyter-widgets/base",
      "_view_module_version": "1.2.0",
      "_view_name": "LayoutView",
      "align_content": null,
      "align_items": null,
      "align_self": null,
      "border": null,
      "bottom": null,
      "display": null,
      "flex": null,
      "flex_flow": null,
      "grid_area": null,
      "grid_auto_columns": null,
      "grid_auto_flow": null,
      "grid_auto_rows": null,
      "grid_column": null,
      "grid_gap": null,
      "grid_row": null,
      "grid_template_areas": null,
      "grid_template_columns": null,
      "grid_template_rows": null,
      "height": null,
      "justify_content": null,
      "justify_items": null,
      "left": null,
      "margin": null,
      "max_height": null,
      "max_width": null,
      "min_height": null,
      "min_width": null,
      "object_fit": null,
      "object_position": null,
      "order": null,
      "overflow": null,
      "overflow_x": null,
      "overflow_y": null,
      "padding": null,
      "right": null,
      "top": null,
      "visibility": null,
      "width": null
     }
    },
    "e7e8c017439e4d53b27886f69c5bfc5d": {
     "model_module": "@jupyter-widgets/controls",
     "model_module_version": "1.5.0",
     "model_name": "DescriptionStyleModel",
     "state": {
      "_model_module": "@jupyter-widgets/controls",
      "_model_module_version": "1.5.0",
      "_model_name": "DescriptionStyleModel",
      "_view_count": null,
      "_view_module": "@jupyter-widgets/base",
      "_view_module_version": "1.2.0",
      "_view_name": "StyleView",
      "description_width": ""
     }
    },
    "e9f7ee8463ba4a47a7c7c91e20287a3a": {
     "model_module": "@jupyter-widgets/controls",
     "model_module_version": "1.5.0",
     "model_name": "DescriptionStyleModel",
     "state": {
      "_model_module": "@jupyter-widgets/controls",
      "_model_module_version": "1.5.0",
      "_model_name": "DescriptionStyleModel",
      "_view_count": null,
      "_view_module": "@jupyter-widgets/base",
      "_view_module_version": "1.2.0",
      "_view_name": "StyleView",
      "description_width": ""
     }
    },
    "ea2ac9987548441dbfa4b0179ba961ec": {
     "model_module": "@jupyter-widgets/controls",
     "model_module_version": "1.5.0",
     "model_name": "HTMLModel",
     "state": {
      "_dom_classes": [],
      "_model_module": "@jupyter-widgets/controls",
      "_model_module_version": "1.5.0",
      "_model_name": "HTMLModel",
      "_view_count": null,
      "_view_module": "@jupyter-widgets/controls",
      "_view_module_version": "1.5.0",
      "_view_name": "HTMLView",
      "description": "",
      "description_tooltip": null,
      "layout": "IPY_MODEL_855e4cc0e6fa4555a8d51a7b4948c0d0",
      "placeholder": "​",
      "style": "IPY_MODEL_41d9f7c5c2674664939d66ffce647073",
      "value": " 570/570 [00:00&lt;00:00, 21.0kB/s]"
     }
    },
    "f6e9c14ded7a4210a9c993c6d9bab819": {
     "model_module": "@jupyter-widgets/base",
     "model_module_version": "1.2.0",
     "model_name": "LayoutModel",
     "state": {
      "_model_module": "@jupyter-widgets/base",
      "_model_module_version": "1.2.0",
      "_model_name": "LayoutModel",
      "_view_count": null,
      "_view_module": "@jupyter-widgets/base",
      "_view_module_version": "1.2.0",
      "_view_name": "LayoutView",
      "align_content": null,
      "align_items": null,
      "align_self": null,
      "border": null,
      "bottom": null,
      "display": null,
      "flex": null,
      "flex_flow": null,
      "grid_area": null,
      "grid_auto_columns": null,
      "grid_auto_flow": null,
      "grid_auto_rows": null,
      "grid_column": null,
      "grid_gap": null,
      "grid_row": null,
      "grid_template_areas": null,
      "grid_template_columns": null,
      "grid_template_rows": null,
      "height": null,
      "justify_content": null,
      "justify_items": null,
      "left": null,
      "margin": null,
      "max_height": null,
      "max_width": null,
      "min_height": null,
      "min_width": null,
      "object_fit": null,
      "object_position": null,
      "order": null,
      "overflow": null,
      "overflow_x": null,
      "overflow_y": null,
      "padding": null,
      "right": null,
      "top": null,
      "visibility": null,
      "width": null
     }
    },
    "fc96ef0213804fe3aa27662f70280c7a": {
     "model_module": "@jupyter-widgets/controls",
     "model_module_version": "1.5.0",
     "model_name": "FloatProgressModel",
     "state": {
      "_dom_classes": [],
      "_model_module": "@jupyter-widgets/controls",
      "_model_module_version": "1.5.0",
      "_model_name": "FloatProgressModel",
      "_view_count": null,
      "_view_module": "@jupyter-widgets/controls",
      "_view_module_version": "1.5.0",
      "_view_name": "ProgressView",
      "bar_style": "success",
      "description": "",
      "description_tooltip": null,
      "layout": "IPY_MODEL_ac7afb3da22a43469ccc2ef9ed9f9902",
      "max": 570,
      "min": 0,
      "orientation": "horizontal",
      "style": "IPY_MODEL_0dd90cebee4143a88b7f2ab53fd47010",
      "value": 570
     }
    },
    "ffee5eff74a34bfbbd00db6295044c16": {
     "model_module": "@jupyter-widgets/controls",
     "model_module_version": "1.5.0",
     "model_name": "FloatProgressModel",
     "state": {
      "_dom_classes": [],
      "_model_module": "@jupyter-widgets/controls",
      "_model_module_version": "1.5.0",
      "_model_name": "FloatProgressModel",
      "_view_count": null,
      "_view_module": "@jupyter-widgets/controls",
      "_view_module_version": "1.5.0",
      "_view_name": "ProgressView",
      "bar_style": "success",
      "description": "",
      "description_tooltip": null,
      "layout": "IPY_MODEL_d85fb17ddd88417fa00142d57d2094b6",
      "max": 526681800,
      "min": 0,
      "orientation": "horizontal",
      "style": "IPY_MODEL_050ae2d544cc481aad283f7aa014d4af",
      "value": 526681800
     }
    }
   }
  }
 },
 "nbformat": 4,
 "nbformat_minor": 1
}
