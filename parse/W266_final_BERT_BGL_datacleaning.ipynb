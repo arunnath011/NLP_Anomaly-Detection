{
  "nbformat": 4,
  "nbformat_minor": 0,
  "metadata": {
    "colab": {
      "provenance": [],
      "machine_shape": "hm"
    },
    "kernelspec": {
      "name": "python3",
      "display_name": "Python 3"
    },
    "language_info": {
      "name": "python"
    },
    "gpuClass": "standard"
  },
  "cells": [
    {
      "cell_type": "markdown",
      "source": [
        "This notebook will be used to clean the parser log dataset"
      ],
      "metadata": {
        "id": "2mr5tBWprJhy"
      }
    },
    {
      "cell_type": "code",
      "execution_count": null,
      "metadata": {
        "colab": {
          "base_uri": "https://localhost:8080/"
        },
        "id": "XUrE2LbrHx7t",
        "outputId": "9fc2e54d-a248-4693-83e2-8b3b0e34b642"
      },
      "outputs": [
        {
          "output_type": "stream",
          "name": "stdout",
          "text": [
            "Drive already mounted at /content/gdrive/; to attempt to forcibly remount, call drive.mount(\"/content/gdrive/\", force_remount=True).\n"
          ]
        }
      ],
      "source": [
        "#loading the gdrive\n",
        "from google.colab import drive \n",
        "drive.mount('/content/gdrive/')"
      ]
    },
    {
      "cell_type": "code",
      "source": [
        "#loading the packages\n",
        "!pip install pydot --quiet\n",
        "!pip install gensim==3.8.3 --quiet\n",
        "!pip install tensorflow-datasets --quiet\n",
        "!pip install -U tensorflow-text==2.8.2 --quiet\n",
        "!pip install transformers --quiet"
      ],
      "metadata": {
        "id": "KzFACcPVU5WI"
      },
      "execution_count": null,
      "outputs": []
    },
    {
      "cell_type": "code",
      "source": [
        "#loading the packages\n",
        "import pandas as pd\n",
        "import numpy as np\n",
        "import sys\n",
        "import os\n",
        "import re\n",
        "\n",
        "import tensorflow as tf\n",
        "from tensorflow import keras\n",
        "\n",
        "from tensorflow.keras.layers import Embedding, Input, Dense, Lambda\n",
        "from tensorflow.keras.models import Model\n",
        "import tensorflow.keras.backend as K\n",
        "import tensorflow_datasets as tfds\n",
        "import tensorflow_text as tf_text\n",
        "\n",
        "from transformers import BertTokenizer, TFBertModel\n",
        "\n",
        "\n",
        "import sklearn as sk\n",
        "\n",
        "import nltk\n",
        "from nltk.data import find\n",
        "\n",
        "import matplotlib.pyplot as plt\n",
        "\n",
        "from collections import Counter\n",
        "from sklearn.datasets import make_classification\n",
        "from imblearn.over_sampling import SMOTE\n",
        "from imblearn.under_sampling import RandomUnderSampler\n",
        "from imblearn.pipeline import Pipeline\n",
        "from matplotlib import pyplot\n",
        "from numpy import where\n",
        "\n",
        "#This continues to work with gensim 3.8.3.  It doesn't yet work with 4.x.  \n",
        "#Make sure your pip install command specifies gensim==3.8.3\n",
        "import gensim"
      ],
      "metadata": {
        "id": "tre6rpCNH00X"
      },
      "execution_count": null,
      "outputs": []
    },
    {
      "cell_type": "code",
      "source": [
        "os.chdir('/content/gdrive/MyDrive/bgl/')"
      ],
      "metadata": {
        "id": "pUbQ7JfRH-KE"
      },
      "execution_count": null,
      "outputs": []
    },
    {
      "cell_type": "code",
      "source": [
        "#downloading the BGL structured dataset\n",
        "df=pd.read_csv('bgl2_structured.csv')"
      ],
      "metadata": {
        "id": "AUx4gK_dH_6N"
      },
      "execution_count": null,
      "outputs": []
    },
    {
      "cell_type": "markdown",
      "source": [
        "Cleaning the content, which has the log information in english language, we will clean the content off all the special characters, period etc."
      ],
      "metadata": {
        "id": "lYvYKptormwG"
      }
    },
    {
      "cell_type": "code",
      "source": [
        "#copying the content file for cleaning purpose\n",
        "df['Content1']=df['Content']"
      ],
      "metadata": {
        "id": "k44McKTeIw8b"
      },
      "execution_count": null,
      "outputs": []
    },
    {
      "cell_type": "markdown",
      "source": [
        "creating the label using the label column, the label is labelled as '-', we convert it into 0 for no events and 1 for severe events."
      ],
      "metadata": {
        "id": "nk43CPx_rxJG"
      }
    },
    {
      "cell_type": "code",
      "source": [
        "df['Label1'] = df['Label'].map(lambda x: 0 if (x == '-') else 1) \n",
        "df.head()"
      ],
      "metadata": {
        "colab": {
          "base_uri": "https://localhost:8080/",
          "height": 424
        },
        "id": "RROSNXBuTDBv",
        "outputId": "e0448c13-38f5-4619-ca26-1b80fcd0a08b"
      },
      "execution_count": null,
      "outputs": [
        {
          "output_type": "execute_result",
          "data": {
            "text/plain": [
              "   LineId Label          Id        Date                Code1  \\\n",
              "0       1     -  1117838570  2005.06.03  R02-M1-N0-C:J12-U11   \n",
              "1       2     -  1117838570  2005.06.03  R02-M1-N0-C:J12-U11   \n",
              "2       3     -  1117838570  2005.06.03  R02-M1-N0-C:J12-U11   \n",
              "3       4     -  1117838570  2005.06.03  R02-M1-N0-C:J12-U11   \n",
              "4       5     -  1117838570  2005.06.03  R02-M1-N0-C:J12-U11   \n",
              "\n",
              "                         Time                Code2 Component1 Component2  \\\n",
              "0  2005-06-03-15.42.50.363779  R02-M1-N0-C:J12-U11        RAS     KERNEL   \n",
              "1  2005-06-03-15.42.50.527847  R02-M1-N0-C:J12-U11        RAS     KERNEL   \n",
              "2  2005-06-03-15.42.50.675872  R02-M1-N0-C:J12-U11        RAS     KERNEL   \n",
              "3  2005-06-03-15.42.50.823719  R02-M1-N0-C:J12-U11        RAS     KERNEL   \n",
              "4  2005-06-03-15.42.50.982731  R02-M1-N0-C:J12-U11        RAS     KERNEL   \n",
              "\n",
              "  Level                                   Content   EventId  \\\n",
              "0  INFO  instruction cache parity error corrected  3aa50e45   \n",
              "1  INFO  instruction cache parity error corrected  3aa50e45   \n",
              "2  INFO  instruction cache parity error corrected  3aa50e45   \n",
              "3  INFO  instruction cache parity error corrected  3aa50e45   \n",
              "4  INFO  instruction cache parity error corrected  3aa50e45   \n",
              "\n",
              "                              EventTemplate  \\\n",
              "0  instruction cache parity error corrected   \n",
              "1  instruction cache parity error corrected   \n",
              "2  instruction cache parity error corrected   \n",
              "3  instruction cache parity error corrected   \n",
              "4  instruction cache parity error corrected   \n",
              "\n",
              "                                   Content1  Label1  \n",
              "0  instruction cache parity error corrected       0  \n",
              "1  instruction cache parity error corrected       0  \n",
              "2  instruction cache parity error corrected       0  \n",
              "3  instruction cache parity error corrected       0  \n",
              "4  instruction cache parity error corrected       0  "
            ],
            "text/html": [
              "\n",
              "  <div id=\"df-891a87d1-6d36-4b4f-8fd0-4bef5d69565a\">\n",
              "    <div class=\"colab-df-container\">\n",
              "      <div>\n",
              "<style scoped>\n",
              "    .dataframe tbody tr th:only-of-type {\n",
              "        vertical-align: middle;\n",
              "    }\n",
              "\n",
              "    .dataframe tbody tr th {\n",
              "        vertical-align: top;\n",
              "    }\n",
              "\n",
              "    .dataframe thead th {\n",
              "        text-align: right;\n",
              "    }\n",
              "</style>\n",
              "<table border=\"1\" class=\"dataframe\">\n",
              "  <thead>\n",
              "    <tr style=\"text-align: right;\">\n",
              "      <th></th>\n",
              "      <th>LineId</th>\n",
              "      <th>Label</th>\n",
              "      <th>Id</th>\n",
              "      <th>Date</th>\n",
              "      <th>Code1</th>\n",
              "      <th>Time</th>\n",
              "      <th>Code2</th>\n",
              "      <th>Component1</th>\n",
              "      <th>Component2</th>\n",
              "      <th>Level</th>\n",
              "      <th>Content</th>\n",
              "      <th>EventId</th>\n",
              "      <th>EventTemplate</th>\n",
              "      <th>Content1</th>\n",
              "      <th>Label1</th>\n",
              "    </tr>\n",
              "  </thead>\n",
              "  <tbody>\n",
              "    <tr>\n",
              "      <th>0</th>\n",
              "      <td>1</td>\n",
              "      <td>-</td>\n",
              "      <td>1117838570</td>\n",
              "      <td>2005.06.03</td>\n",
              "      <td>R02-M1-N0-C:J12-U11</td>\n",
              "      <td>2005-06-03-15.42.50.363779</td>\n",
              "      <td>R02-M1-N0-C:J12-U11</td>\n",
              "      <td>RAS</td>\n",
              "      <td>KERNEL</td>\n",
              "      <td>INFO</td>\n",
              "      <td>instruction cache parity error corrected</td>\n",
              "      <td>3aa50e45</td>\n",
              "      <td>instruction cache parity error corrected</td>\n",
              "      <td>instruction cache parity error corrected</td>\n",
              "      <td>0</td>\n",
              "    </tr>\n",
              "    <tr>\n",
              "      <th>1</th>\n",
              "      <td>2</td>\n",
              "      <td>-</td>\n",
              "      <td>1117838570</td>\n",
              "      <td>2005.06.03</td>\n",
              "      <td>R02-M1-N0-C:J12-U11</td>\n",
              "      <td>2005-06-03-15.42.50.527847</td>\n",
              "      <td>R02-M1-N0-C:J12-U11</td>\n",
              "      <td>RAS</td>\n",
              "      <td>KERNEL</td>\n",
              "      <td>INFO</td>\n",
              "      <td>instruction cache parity error corrected</td>\n",
              "      <td>3aa50e45</td>\n",
              "      <td>instruction cache parity error corrected</td>\n",
              "      <td>instruction cache parity error corrected</td>\n",
              "      <td>0</td>\n",
              "    </tr>\n",
              "    <tr>\n",
              "      <th>2</th>\n",
              "      <td>3</td>\n",
              "      <td>-</td>\n",
              "      <td>1117838570</td>\n",
              "      <td>2005.06.03</td>\n",
              "      <td>R02-M1-N0-C:J12-U11</td>\n",
              "      <td>2005-06-03-15.42.50.675872</td>\n",
              "      <td>R02-M1-N0-C:J12-U11</td>\n",
              "      <td>RAS</td>\n",
              "      <td>KERNEL</td>\n",
              "      <td>INFO</td>\n",
              "      <td>instruction cache parity error corrected</td>\n",
              "      <td>3aa50e45</td>\n",
              "      <td>instruction cache parity error corrected</td>\n",
              "      <td>instruction cache parity error corrected</td>\n",
              "      <td>0</td>\n",
              "    </tr>\n",
              "    <tr>\n",
              "      <th>3</th>\n",
              "      <td>4</td>\n",
              "      <td>-</td>\n",
              "      <td>1117838570</td>\n",
              "      <td>2005.06.03</td>\n",
              "      <td>R02-M1-N0-C:J12-U11</td>\n",
              "      <td>2005-06-03-15.42.50.823719</td>\n",
              "      <td>R02-M1-N0-C:J12-U11</td>\n",
              "      <td>RAS</td>\n",
              "      <td>KERNEL</td>\n",
              "      <td>INFO</td>\n",
              "      <td>instruction cache parity error corrected</td>\n",
              "      <td>3aa50e45</td>\n",
              "      <td>instruction cache parity error corrected</td>\n",
              "      <td>instruction cache parity error corrected</td>\n",
              "      <td>0</td>\n",
              "    </tr>\n",
              "    <tr>\n",
              "      <th>4</th>\n",
              "      <td>5</td>\n",
              "      <td>-</td>\n",
              "      <td>1117838570</td>\n",
              "      <td>2005.06.03</td>\n",
              "      <td>R02-M1-N0-C:J12-U11</td>\n",
              "      <td>2005-06-03-15.42.50.982731</td>\n",
              "      <td>R02-M1-N0-C:J12-U11</td>\n",
              "      <td>RAS</td>\n",
              "      <td>KERNEL</td>\n",
              "      <td>INFO</td>\n",
              "      <td>instruction cache parity error corrected</td>\n",
              "      <td>3aa50e45</td>\n",
              "      <td>instruction cache parity error corrected</td>\n",
              "      <td>instruction cache parity error corrected</td>\n",
              "      <td>0</td>\n",
              "    </tr>\n",
              "  </tbody>\n",
              "</table>\n",
              "</div>\n",
              "      <button class=\"colab-df-convert\" onclick=\"convertToInteractive('df-891a87d1-6d36-4b4f-8fd0-4bef5d69565a')\"\n",
              "              title=\"Convert this dataframe to an interactive table.\"\n",
              "              style=\"display:none;\">\n",
              "        \n",
              "  <svg xmlns=\"http://www.w3.org/2000/svg\" height=\"24px\"viewBox=\"0 0 24 24\"\n",
              "       width=\"24px\">\n",
              "    <path d=\"M0 0h24v24H0V0z\" fill=\"none\"/>\n",
              "    <path d=\"M18.56 5.44l.94 2.06.94-2.06 2.06-.94-2.06-.94-.94-2.06-.94 2.06-2.06.94zm-11 1L8.5 8.5l.94-2.06 2.06-.94-2.06-.94L8.5 2.5l-.94 2.06-2.06.94zm10 10l.94 2.06.94-2.06 2.06-.94-2.06-.94-.94-2.06-.94 2.06-2.06.94z\"/><path d=\"M17.41 7.96l-1.37-1.37c-.4-.4-.92-.59-1.43-.59-.52 0-1.04.2-1.43.59L10.3 9.45l-7.72 7.72c-.78.78-.78 2.05 0 2.83L4 21.41c.39.39.9.59 1.41.59.51 0 1.02-.2 1.41-.59l7.78-7.78 2.81-2.81c.8-.78.8-2.07 0-2.86zM5.41 20L4 18.59l7.72-7.72 1.47 1.35L5.41 20z\"/>\n",
              "  </svg>\n",
              "      </button>\n",
              "      \n",
              "  <style>\n",
              "    .colab-df-container {\n",
              "      display:flex;\n",
              "      flex-wrap:wrap;\n",
              "      gap: 12px;\n",
              "    }\n",
              "\n",
              "    .colab-df-convert {\n",
              "      background-color: #E8F0FE;\n",
              "      border: none;\n",
              "      border-radius: 50%;\n",
              "      cursor: pointer;\n",
              "      display: none;\n",
              "      fill: #1967D2;\n",
              "      height: 32px;\n",
              "      padding: 0 0 0 0;\n",
              "      width: 32px;\n",
              "    }\n",
              "\n",
              "    .colab-df-convert:hover {\n",
              "      background-color: #E2EBFA;\n",
              "      box-shadow: 0px 1px 2px rgba(60, 64, 67, 0.3), 0px 1px 3px 1px rgba(60, 64, 67, 0.15);\n",
              "      fill: #174EA6;\n",
              "    }\n",
              "\n",
              "    [theme=dark] .colab-df-convert {\n",
              "      background-color: #3B4455;\n",
              "      fill: #D2E3FC;\n",
              "    }\n",
              "\n",
              "    [theme=dark] .colab-df-convert:hover {\n",
              "      background-color: #434B5C;\n",
              "      box-shadow: 0px 1px 3px 1px rgba(0, 0, 0, 0.15);\n",
              "      filter: drop-shadow(0px 1px 2px rgba(0, 0, 0, 0.3));\n",
              "      fill: #FFFFFF;\n",
              "    }\n",
              "  </style>\n",
              "\n",
              "      <script>\n",
              "        const buttonEl =\n",
              "          document.querySelector('#df-891a87d1-6d36-4b4f-8fd0-4bef5d69565a button.colab-df-convert');\n",
              "        buttonEl.style.display =\n",
              "          google.colab.kernel.accessAllowed ? 'block' : 'none';\n",
              "\n",
              "        async function convertToInteractive(key) {\n",
              "          const element = document.querySelector('#df-891a87d1-6d36-4b4f-8fd0-4bef5d69565a');\n",
              "          const dataTable =\n",
              "            await google.colab.kernel.invokeFunction('convertToInteractive',\n",
              "                                                     [key], {});\n",
              "          if (!dataTable) return;\n",
              "\n",
              "          const docLinkHtml = 'Like what you see? Visit the ' +\n",
              "            '<a target=\"_blank\" href=https://colab.research.google.com/notebooks/data_table.ipynb>data table notebook</a>'\n",
              "            + ' to learn more about interactive tables.';\n",
              "          element.innerHTML = '';\n",
              "          dataTable['output_type'] = 'display_data';\n",
              "          await google.colab.output.renderOutput(dataTable, element);\n",
              "          const docLink = document.createElement('div');\n",
              "          docLink.innerHTML = docLinkHtml;\n",
              "          element.appendChild(docLink);\n",
              "        }\n",
              "      </script>\n",
              "    </div>\n",
              "  </div>\n",
              "  "
            ]
          },
          "metadata": {},
          "execution_count": 7
        }
      ]
    },
    {
      "cell_type": "markdown",
      "source": [
        "Cleaining all the log content data of all the special characters"
      ],
      "metadata": {
        "id": "uzTlOAiAr-mw"
      }
    },
    {
      "cell_type": "code",
      "source": [
        "df['Content1'].replace( { r'(0x)[0-9a-fA-F]+' : '' }, inplace= True, regex = True)\n",
        "df['Content1'].replace( { r'\\d+\\.\\d+\\.\\d+\\.\\d+' : '' }, inplace= True, regex = True)\n",
        "df['Content1'].replace( { r'(?<=Warning: we failed to resolve data source name )[\\w\\s]+' : '' }, inplace= True, regex = True)\n",
        "df['Content1'].replace( { r'\\d+' : '' }, inplace= True, regex = True)\n",
        "df['Content1'].replace( { r':' : '' }, inplace= True, regex = True)\n",
        "df['Content1'].replace( { r'|' : '' }, inplace= True, regex = True)\n",
        "df['Content1'].replace( { r'=' : '' }, inplace= True, regex = True)\n",
        "df['Content1'].replace( { r'/' : ' ' }, inplace= True, regex = True)\n",
        "df['Content1'].replace( { r'()' : '' }, inplace= True, regex = True)\n",
        "df['Content1'].replace( { r'_' : ' ' }, inplace= True, regex = True)\n",
        "df['Content1'].replace( { r',' : '' }, inplace= True, regex = True)\n"
      ],
      "metadata": {
        "id": "P6UTBsFUZSKg"
      },
      "execution_count": null,
      "outputs": []
    },
    {
      "cell_type": "code",
      "source": [
        "g = df.groupby('Label1')['EventId'].unique()"
      ],
      "metadata": {
        "id": "g3NzUXyRrm6l"
      },
      "execution_count": null,
      "outputs": []
    },
    {
      "cell_type": "markdown",
      "source": [
        "Looking at the balance of the label parameter"
      ],
      "metadata": {
        "id": "FLmYGp7SsEW9"
      }
    },
    {
      "cell_type": "code",
      "source": [
        "df[\"Label1\"].hist()"
      ],
      "metadata": {
        "colab": {
          "base_uri": "https://localhost:8080/",
          "height": 294
        },
        "id": "ot31x19YezAW",
        "outputId": "2a11c5af-f290-4ae0-f4fa-2a5c22b31d44"
      },
      "execution_count": null,
      "outputs": [
        {
          "output_type": "execute_result",
          "data": {
            "text/plain": [
              "<matplotlib.axes._subplots.AxesSubplot at 0x7f1ef5bd57f0>"
            ]
          },
          "metadata": {},
          "execution_count": 9
        },
        {
          "output_type": "display_data",
          "data": {
            "text/plain": [
              "<Figure size 432x288 with 1 Axes>"
            ],
            "image/png": "[encoded data removed]"
          },
          "metadata": {
            "needs_background": "light"
          }
        }
      ]
    },
    {
      "cell_type": "code",
      "source": [
        "df['Label1'].value_counts()"
      ],
      "metadata": {
        "colab": {
          "base_uri": "https://localhost:8080/"
        },
        "id": "CdPbHU5OYowq",
        "outputId": "3d7172df-8f00-420b-854d-7c9ec64a2b44"
      },
      "execution_count": null,
      "outputs": [
        {
          "output_type": "execute_result",
          "data": {
            "text/plain": [
              "0    4364795\n",
              "1     348698\n",
              "Name: Label1, dtype: int64"
            ]
          },
          "metadata": {},
          "execution_count": 10
        }
      ]
    },
    {
      "cell_type": "code",
      "source": [
        "df['Label1'].hist()"
      ],
      "metadata": {
        "colab": {
          "base_uri": "https://localhost:8080/",
          "height": 294
        },
        "id": "ES9AfNq3rxzP",
        "outputId": "6bf70450-bc7a-484e-ca10-4791e2a21f51"
      },
      "execution_count": null,
      "outputs": [
        {
          "output_type": "execute_result",
          "data": {
            "text/plain": [
              "<matplotlib.axes._subplots.AxesSubplot at 0x7f1f1351a100>"
            ]
          },
          "metadata": {},
          "execution_count": 11
        },
        {
          "output_type": "display_data",
          "data": {
            "text/plain": [
              "<Figure size 432x288 with 1 Axes>"
            ],
            "image/png": "[encoded data removed]"
          },
          "metadata": {
            "needs_background": "light"
          }
        }
      ]
    },
    {
      "cell_type": "code",
      "source": [
        "df.head()"
      ],
      "metadata": {
        "colab": {
          "base_uri": "https://localhost:8080/",
          "height": 424
        },
        "id": "5g6w41eg1Dss",
        "outputId": "1fca5776-854c-4178-b923-fe024c81e53c"
      },
      "execution_count": null,
      "outputs": [
        {
          "output_type": "execute_result",
          "data": {
            "text/plain": [
              "   LineId Label          Id        Date                Code1  \\\n",
              "0       1     -  1117838570  2005.06.03  R02-M1-N0-C:J12-U11   \n",
              "1       2     -  1117838570  2005.06.03  R02-M1-N0-C:J12-U11   \n",
              "2       3     -  1117838570  2005.06.03  R02-M1-N0-C:J12-U11   \n",
              "3       4     -  1117838570  2005.06.03  R02-M1-N0-C:J12-U11   \n",
              "4       5     -  1117838570  2005.06.03  R02-M1-N0-C:J12-U11   \n",
              "\n",
              "                         Time                Code2 Component1 Component2  \\\n",
              "0  2005-06-03-15.42.50.363779  R02-M1-N0-C:J12-U11        RAS     KERNEL   \n",
              "1  2005-06-03-15.42.50.527847  R02-M1-N0-C:J12-U11        RAS     KERNEL   \n",
              "2  2005-06-03-15.42.50.675872  R02-M1-N0-C:J12-U11        RAS     KERNEL   \n",
              "3  2005-06-03-15.42.50.823719  R02-M1-N0-C:J12-U11        RAS     KERNEL   \n",
              "4  2005-06-03-15.42.50.982731  R02-M1-N0-C:J12-U11        RAS     KERNEL   \n",
              "\n",
              "  Level                                   Content   EventId  \\\n",
              "0  INFO  instruction cache parity error corrected  3aa50e45   \n",
              "1  INFO  instruction cache parity error corrected  3aa50e45   \n",
              "2  INFO  instruction cache parity error corrected  3aa50e45   \n",
              "3  INFO  instruction cache parity error corrected  3aa50e45   \n",
              "4  INFO  instruction cache parity error corrected  3aa50e45   \n",
              "\n",
              "                              EventTemplate  \\\n",
              "0  instruction cache parity error corrected   \n",
              "1  instruction cache parity error corrected   \n",
              "2  instruction cache parity error corrected   \n",
              "3  instruction cache parity error corrected   \n",
              "4  instruction cache parity error corrected   \n",
              "\n",
              "                                   Content1  Label1  \n",
              "0  instruction cache parity error corrected       0  \n",
              "1  instruction cache parity error corrected       0  \n",
              "2  instruction cache parity error corrected       0  \n",
              "3  instruction cache parity error corrected       0  \n",
              "4  instruction cache parity error corrected       0  "
            ],
            "text/html": [
              "\n",
              "  <div id=\"df-667da986-b3fa-4cae-ba48-bd0bdbe926c1\">\n",
              "    <div class=\"colab-df-container\">\n",
              "      <div>\n",
              "<style scoped>\n",
              "    .dataframe tbody tr th:only-of-type {\n",
              "        vertical-align: middle;\n",
              "    }\n",
              "\n",
              "    .dataframe tbody tr th {\n",
              "        vertical-align: top;\n",
              "    }\n",
              "\n",
              "    .dataframe thead th {\n",
              "        text-align: right;\n",
              "    }\n",
              "</style>\n",
              "<table border=\"1\" class=\"dataframe\">\n",
              "  <thead>\n",
              "    <tr style=\"text-align: right;\">\n",
              "      <th></th>\n",
              "      <th>LineId</th>\n",
              "      <th>Label</th>\n",
              "      <th>Id</th>\n",
              "      <th>Date</th>\n",
              "      <th>Code1</th>\n",
              "      <th>Time</th>\n",
              "      <th>Code2</th>\n",
              "      <th>Component1</th>\n",
              "      <th>Component2</th>\n",
              "      <th>Level</th>\n",
              "      <th>Content</th>\n",
              "      <th>EventId</th>\n",
              "      <th>EventTemplate</th>\n",
              "      <th>Content1</th>\n",
              "      <th>Label1</th>\n",
              "    </tr>\n",
              "  </thead>\n",
              "  <tbody>\n",
              "    <tr>\n",
              "      <th>0</th>\n",
              "      <td>1</td>\n",
              "      <td>-</td>\n",
              "      <td>1117838570</td>\n",
              "      <td>2005.06.03</td>\n",
              "      <td>R02-M1-N0-C:J12-U11</td>\n",
              "      <td>2005-06-03-15.42.50.363779</td>\n",
              "      <td>R02-M1-N0-C:J12-U11</td>\n",
              "      <td>RAS</td>\n",
              "      <td>KERNEL</td>\n",
              "      <td>INFO</td>\n",
              "      <td>instruction cache parity error corrected</td>\n",
              "      <td>3aa50e45</td>\n",
              "      <td>instruction cache parity error corrected</td>\n",
              "      <td>instruction cache parity error corrected</td>\n",
              "      <td>0</td>\n",
              "    </tr>\n",
              "    <tr>\n",
              "      <th>1</th>\n",
              "      <td>2</td>\n",
              "      <td>-</td>\n",
              "      <td>1117838570</td>\n",
              "      <td>2005.06.03</td>\n",
              "      <td>R02-M1-N0-C:J12-U11</td>\n",
              "      <td>2005-06-03-15.42.50.527847</td>\n",
              "      <td>R02-M1-N0-C:J12-U11</td>\n",
              "      <td>RAS</td>\n",
              "      <td>KERNEL</td>\n",
              "      <td>INFO</td>\n",
              "      <td>instruction cache parity error corrected</td>\n",
              "      <td>3aa50e45</td>\n",
              "      <td>instruction cache parity error corrected</td>\n",
              "      <td>instruction cache parity error corrected</td>\n",
              "      <td>0</td>\n",
              "    </tr>\n",
              "    <tr>\n",
              "      <th>2</th>\n",
              "      <td>3</td>\n",
              "      <td>-</td>\n",
              "      <td>1117838570</td>\n",
              "      <td>2005.06.03</td>\n",
              "      <td>R02-M1-N0-C:J12-U11</td>\n",
              "      <td>2005-06-03-15.42.50.675872</td>\n",
              "      <td>R02-M1-N0-C:J12-U11</td>\n",
              "      <td>RAS</td>\n",
              "      <td>KERNEL</td>\n",
              "      <td>INFO</td>\n",
              "      <td>instruction cache parity error corrected</td>\n",
              "      <td>3aa50e45</td>\n",
              "      <td>instruction cache parity error corrected</td>\n",
              "      <td>instruction cache parity error corrected</td>\n",
              "      <td>0</td>\n",
              "    </tr>\n",
              "    <tr>\n",
              "      <th>3</th>\n",
              "      <td>4</td>\n",
              "      <td>-</td>\n",
              "      <td>1117838570</td>\n",
              "      <td>2005.06.03</td>\n",
              "      <td>R02-M1-N0-C:J12-U11</td>\n",
              "      <td>2005-06-03-15.42.50.823719</td>\n",
              "      <td>R02-M1-N0-C:J12-U11</td>\n",
              "      <td>RAS</td>\n",
              "      <td>KERNEL</td>\n",
              "      <td>INFO</td>\n",
              "      <td>instruction cache parity error corrected</td>\n",
              "      <td>3aa50e45</td>\n",
              "      <td>instruction cache parity error corrected</td>\n",
              "      <td>instruction cache parity error corrected</td>\n",
              "      <td>0</td>\n",
              "    </tr>\n",
              "    <tr>\n",
              "      <th>4</th>\n",
              "      <td>5</td>\n",
              "      <td>-</td>\n",
              "      <td>1117838570</td>\n",
              "      <td>2005.06.03</td>\n",
              "      <td>R02-M1-N0-C:J12-U11</td>\n",
              "      <td>2005-06-03-15.42.50.982731</td>\n",
              "      <td>R02-M1-N0-C:J12-U11</td>\n",
              "      <td>RAS</td>\n",
              "      <td>KERNEL</td>\n",
              "      <td>INFO</td>\n",
              "      <td>instruction cache parity error corrected</td>\n",
              "      <td>3aa50e45</td>\n",
              "      <td>instruction cache parity error corrected</td>\n",
              "      <td>instruction cache parity error corrected</td>\n",
              "      <td>0</td>\n",
              "    </tr>\n",
              "  </tbody>\n",
              "</table>\n",
              "</div>\n",
              "      <button class=\"colab-df-convert\" onclick=\"convertToInteractive('df-667da986-b3fa-4cae-ba48-bd0bdbe926c1')\"\n",
              "              title=\"Convert this dataframe to an interactive table.\"\n",
              "              style=\"display:none;\">\n",
              "        \n",
              "  <svg xmlns=\"http://www.w3.org/2000/svg\" height=\"24px\"viewBox=\"0 0 24 24\"\n",
              "       width=\"24px\">\n",
              "    <path d=\"M0 0h24v24H0V0z\" fill=\"none\"/>\n",
              "    <path d=\"M18.56 5.44l.94 2.06.94-2.06 2.06-.94-2.06-.94-.94-2.06-.94 2.06-2.06.94zm-11 1L8.5 8.5l.94-2.06 2.06-.94-2.06-.94L8.5 2.5l-.94 2.06-2.06.94zm10 10l.94 2.06.94-2.06 2.06-.94-2.06-.94-.94-2.06-.94 2.06-2.06.94z\"/><path d=\"M17.41 7.96l-1.37-1.37c-.4-.4-.92-.59-1.43-.59-.52 0-1.04.2-1.43.59L10.3 9.45l-7.72 7.72c-.78.78-.78 2.05 0 2.83L4 21.41c.39.39.9.59 1.41.59.51 0 1.02-.2 1.41-.59l7.78-7.78 2.81-2.81c.8-.78.8-2.07 0-2.86zM5.41 20L4 18.59l7.72-7.72 1.47 1.35L5.41 20z\"/>\n",
              "  </svg>\n",
              "      </button>\n",
              "      \n",
              "  <style>\n",
              "    .colab-df-container {\n",
              "      display:flex;\n",
              "      flex-wrap:wrap;\n",
              "      gap: 12px;\n",
              "    }\n",
              "\n",
              "    .colab-df-convert {\n",
              "      background-color: #E8F0FE;\n",
              "      border: none;\n",
              "      border-radius: 50%;\n",
              "      cursor: pointer;\n",
              "      display: none;\n",
              "      fill: #1967D2;\n",
              "      height: 32px;\n",
              "      padding: 0 0 0 0;\n",
              "      width: 32px;\n",
              "    }\n",
              "\n",
              "    .colab-df-convert:hover {\n",
              "      background-color: #E2EBFA;\n",
              "      box-shadow: 0px 1px 2px rgba(60, 64, 67, 0.3), 0px 1px 3px 1px rgba(60, 64, 67, 0.15);\n",
              "      fill: #174EA6;\n",
              "    }\n",
              "\n",
              "    [theme=dark] .colab-df-convert {\n",
              "      background-color: #3B4455;\n",
              "      fill: #D2E3FC;\n",
              "    }\n",
              "\n",
              "    [theme=dark] .colab-df-convert:hover {\n",
              "      background-color: #434B5C;\n",
              "      box-shadow: 0px 1px 3px 1px rgba(0, 0, 0, 0.15);\n",
              "      filter: drop-shadow(0px 1px 2px rgba(0, 0, 0, 0.3));\n",
              "      fill: #FFFFFF;\n",
              "    }\n",
              "  </style>\n",
              "\n",
              "      <script>\n",
              "        const buttonEl =\n",
              "          document.querySelector('#df-667da986-b3fa-4cae-ba48-bd0bdbe926c1 button.colab-df-convert');\n",
              "        buttonEl.style.display =\n",
              "          google.colab.kernel.accessAllowed ? 'block' : 'none';\n",
              "\n",
              "        async function convertToInteractive(key) {\n",
              "          const element = document.querySelector('#df-667da986-b3fa-4cae-ba48-bd0bdbe926c1');\n",
              "          const dataTable =\n",
              "            await google.colab.kernel.invokeFunction('convertToInteractive',\n",
              "                                                     [key], {});\n",
              "          if (!dataTable) return;\n",
              "\n",
              "          const docLinkHtml = 'Like what you see? Visit the ' +\n",
              "            '<a target=\"_blank\" href=https://colab.research.google.com/notebooks/data_table.ipynb>data table notebook</a>'\n",
              "            + ' to learn more about interactive tables.';\n",
              "          element.innerHTML = '';\n",
              "          dataTable['output_type'] = 'display_data';\n",
              "          await google.colab.output.renderOutput(dataTable, element);\n",
              "          const docLink = document.createElement('div');\n",
              "          docLink.innerHTML = docLinkHtml;\n",
              "          element.appendChild(docLink);\n",
              "        }\n",
              "      </script>\n",
              "    </div>\n",
              "  </div>\n",
              "  "
            ]
          },
          "metadata": {},
          "execution_count": 12
        }
      ]
    },
    {
      "cell_type": "markdown",
      "source": [
        "Creating a field which is combination of the component 1, component2 and level infront of the content to create more context for the content field and also help with the BERT model later on"
      ],
      "metadata": {
        "id": "MquXSP0VsS0O"
      }
    },
    {
      "cell_type": "code",
      "source": [
        "df['combined'] = df['Component1'].astype(str)+' '+df['Component2'].astype(str)+' '+df['Level'].astype(str)+' '+df['Content1'].astype(str)+' '+df['EventId'].astype(str)"
      ],
      "metadata": {
        "id": "w6JY9vykV0CY"
      },
      "execution_count": null,
      "outputs": []
    },
    {
      "cell_type": "code",
      "source": [
        "df.head()"
      ],
      "metadata": {
        "colab": {
          "base_uri": "https://localhost:8080/",
          "height": 597
        },
        "id": "v5uEnFCyX4pI",
        "outputId": "b3d1e4b3-2f33-4bea-c2bf-eb2f1169ac76"
      },
      "execution_count": null,
      "outputs": [
        {
          "output_type": "execute_result",
          "data": {
            "text/plain": [
              "   LineId Label          Id        Date                Code1  \\\n",
              "0       1     -  1117838570  2005.06.03  R02-M1-N0-C:J12-U11   \n",
              "1       2     -  1117838570  2005.06.03  R02-M1-N0-C:J12-U11   \n",
              "2       3     -  1117838570  2005.06.03  R02-M1-N0-C:J12-U11   \n",
              "3       4     -  1117838570  2005.06.03  R02-M1-N0-C:J12-U11   \n",
              "4       5     -  1117838570  2005.06.03  R02-M1-N0-C:J12-U11   \n",
              "\n",
              "                         Time                Code2 Component1 Component2  \\\n",
              "0  2005-06-03-15.42.50.363779  R02-M1-N0-C:J12-U11        RAS     KERNEL   \n",
              "1  2005-06-03-15.42.50.527847  R02-M1-N0-C:J12-U11        RAS     KERNEL   \n",
              "2  2005-06-03-15.42.50.675872  R02-M1-N0-C:J12-U11        RAS     KERNEL   \n",
              "3  2005-06-03-15.42.50.823719  R02-M1-N0-C:J12-U11        RAS     KERNEL   \n",
              "4  2005-06-03-15.42.50.982731  R02-M1-N0-C:J12-U11        RAS     KERNEL   \n",
              "\n",
              "  Level                                   Content   EventId  \\\n",
              "0  INFO  instruction cache parity error corrected  3aa50e45   \n",
              "1  INFO  instruction cache parity error corrected  3aa50e45   \n",
              "2  INFO  instruction cache parity error corrected  3aa50e45   \n",
              "3  INFO  instruction cache parity error corrected  3aa50e45   \n",
              "4  INFO  instruction cache parity error corrected  3aa50e45   \n",
              "\n",
              "                              EventTemplate  \\\n",
              "0  instruction cache parity error corrected   \n",
              "1  instruction cache parity error corrected   \n",
              "2  instruction cache parity error corrected   \n",
              "3  instruction cache parity error corrected   \n",
              "4  instruction cache parity error corrected   \n",
              "\n",
              "                                   Content1  Label1  \\\n",
              "0  instruction cache parity error corrected       0   \n",
              "1  instruction cache parity error corrected       0   \n",
              "2  instruction cache parity error corrected       0   \n",
              "3  instruction cache parity error corrected       0   \n",
              "4  instruction cache parity error corrected       0   \n",
              "\n",
              "                                            combined  \n",
              "0  RAS KERNEL INFO instruction cache parity error...  \n",
              "1  RAS KERNEL INFO instruction cache parity error...  \n",
              "2  RAS KERNEL INFO instruction cache parity error...  \n",
              "3  RAS KERNEL INFO instruction cache parity error...  \n",
              "4  RAS KERNEL INFO instruction cache parity error...  "
            ],
            "text/html": [
              "\n",
              "  <div id=\"df-9ed1adc9-6e47-47af-be24-e633b615c655\">\n",
              "    <div class=\"colab-df-container\">\n",
              "      <div>\n",
              "<style scoped>\n",
              "    .dataframe tbody tr th:only-of-type {\n",
              "        vertical-align: middle;\n",
              "    }\n",
              "\n",
              "    .dataframe tbody tr th {\n",
              "        vertical-align: top;\n",
              "    }\n",
              "\n",
              "    .dataframe thead th {\n",
              "        text-align: right;\n",
              "    }\n",
              "</style>\n",
              "<table border=\"1\" class=\"dataframe\">\n",
              "  <thead>\n",
              "    <tr style=\"text-align: right;\">\n",
              "      <th></th>\n",
              "      <th>LineId</th>\n",
              "      <th>Label</th>\n",
              "      <th>Id</th>\n",
              "      <th>Date</th>\n",
              "      <th>Code1</th>\n",
              "      <th>Time</th>\n",
              "      <th>Code2</th>\n",
              "      <th>Component1</th>\n",
              "      <th>Component2</th>\n",
              "      <th>Level</th>\n",
              "      <th>Content</th>\n",
              "      <th>EventId</th>\n",
              "      <th>EventTemplate</th>\n",
              "      <th>Content1</th>\n",
              "      <th>Label1</th>\n",
              "      <th>combined</th>\n",
              "    </tr>\n",
              "  </thead>\n",
              "  <tbody>\n",
              "    <tr>\n",
              "      <th>0</th>\n",
              "      <td>1</td>\n",
              "      <td>-</td>\n",
              "      <td>1117838570</td>\n",
              "      <td>2005.06.03</td>\n",
              "      <td>R02-M1-N0-C:J12-U11</td>\n",
              "      <td>2005-06-03-15.42.50.363779</td>\n",
              "      <td>R02-M1-N0-C:J12-U11</td>\n",
              "      <td>RAS</td>\n",
              "      <td>KERNEL</td>\n",
              "      <td>INFO</td>\n",
              "      <td>instruction cache parity error corrected</td>\n",
              "      <td>3aa50e45</td>\n",
              "      <td>instruction cache parity error corrected</td>\n",
              "      <td>instruction cache parity error corrected</td>\n",
              "      <td>0</td>\n",
              "      <td>RAS KERNEL INFO instruction cache parity error...</td>\n",
              "    </tr>\n",
              "    <tr>\n",
              "      <th>1</th>\n",
              "      <td>2</td>\n",
              "      <td>-</td>\n",
              "      <td>1117838570</td>\n",
              "      <td>2005.06.03</td>\n",
              "      <td>R02-M1-N0-C:J12-U11</td>\n",
              "      <td>2005-06-03-15.42.50.527847</td>\n",
              "      <td>R02-M1-N0-C:J12-U11</td>\n",
              "      <td>RAS</td>\n",
              "      <td>KERNEL</td>\n",
              "      <td>INFO</td>\n",
              "      <td>instruction cache parity error corrected</td>\n",
              "      <td>3aa50e45</td>\n",
              "      <td>instruction cache parity error corrected</td>\n",
              "      <td>instruction cache parity error corrected</td>\n",
              "      <td>0</td>\n",
              "      <td>RAS KERNEL INFO instruction cache parity error...</td>\n",
              "    </tr>\n",
              "    <tr>\n",
              "      <th>2</th>\n",
              "      <td>3</td>\n",
              "      <td>-</td>\n",
              "      <td>1117838570</td>\n",
              "      <td>2005.06.03</td>\n",
              "      <td>R02-M1-N0-C:J12-U11</td>\n",
              "      <td>2005-06-03-15.42.50.675872</td>\n",
              "      <td>R02-M1-N0-C:J12-U11</td>\n",
              "      <td>RAS</td>\n",
              "      <td>KERNEL</td>\n",
              "      <td>INFO</td>\n",
              "      <td>instruction cache parity error corrected</td>\n",
              "      <td>3aa50e45</td>\n",
              "      <td>instruction cache parity error corrected</td>\n",
              "      <td>instruction cache parity error corrected</td>\n",
              "      <td>0</td>\n",
              "      <td>RAS KERNEL INFO instruction cache parity error...</td>\n",
              "    </tr>\n",
              "    <tr>\n",
              "      <th>3</th>\n",
              "      <td>4</td>\n",
              "      <td>-</td>\n",
              "      <td>1117838570</td>\n",
              "      <td>2005.06.03</td>\n",
              "      <td>R02-M1-N0-C:J12-U11</td>\n",
              "      <td>2005-06-03-15.42.50.823719</td>\n",
              "      <td>R02-M1-N0-C:J12-U11</td>\n",
              "      <td>RAS</td>\n",
              "      <td>KERNEL</td>\n",
              "      <td>INFO</td>\n",
              "      <td>instruction cache parity error corrected</td>\n",
              "      <td>3aa50e45</td>\n",
              "      <td>instruction cache parity error corrected</td>\n",
              "      <td>instruction cache parity error corrected</td>\n",
              "      <td>0</td>\n",
              "      <td>RAS KERNEL INFO instruction cache parity error...</td>\n",
              "    </tr>\n",
              "    <tr>\n",
              "      <th>4</th>\n",
              "      <td>5</td>\n",
              "      <td>-</td>\n",
              "      <td>1117838570</td>\n",
              "      <td>2005.06.03</td>\n",
              "      <td>R02-M1-N0-C:J12-U11</td>\n",
              "      <td>2005-06-03-15.42.50.982731</td>\n",
              "      <td>R02-M1-N0-C:J12-U11</td>\n",
              "      <td>RAS</td>\n",
              "      <td>KERNEL</td>\n",
              "      <td>INFO</td>\n",
              "      <td>instruction cache parity error corrected</td>\n",
              "      <td>3aa50e45</td>\n",
              "      <td>instruction cache parity error corrected</td>\n",
              "      <td>instruction cache parity error corrected</td>\n",
              "      <td>0</td>\n",
              "      <td>RAS KERNEL INFO instruction cache parity error...</td>\n",
              "    </tr>\n",
              "  </tbody>\n",
              "</table>\n",
              "</div>\n",
              "      <button class=\"colab-df-convert\" onclick=\"convertToInteractive('df-9ed1adc9-6e47-47af-be24-e633b615c655')\"\n",
              "              title=\"Convert this dataframe to an interactive table.\"\n",
              "              style=\"display:none;\">\n",
              "        \n",
              "  <svg xmlns=\"http://www.w3.org/2000/svg\" height=\"24px\"viewBox=\"0 0 24 24\"\n",
              "       width=\"24px\">\n",
              "    <path d=\"M0 0h24v24H0V0z\" fill=\"none\"/>\n",
              "    <path d=\"M18.56 5.44l.94 2.06.94-2.06 2.06-.94-2.06-.94-.94-2.06-.94 2.06-2.06.94zm-11 1L8.5 8.5l.94-2.06 2.06-.94-2.06-.94L8.5 2.5l-.94 2.06-2.06.94zm10 10l.94 2.06.94-2.06 2.06-.94-2.06-.94-.94-2.06-.94 2.06-2.06.94z\"/><path d=\"M17.41 7.96l-1.37-1.37c-.4-.4-.92-.59-1.43-.59-.52 0-1.04.2-1.43.59L10.3 9.45l-7.72 7.72c-.78.78-.78 2.05 0 2.83L4 21.41c.39.39.9.59 1.41.59.51 0 1.02-.2 1.41-.59l7.78-7.78 2.81-2.81c.8-.78.8-2.07 0-2.86zM5.41 20L4 18.59l7.72-7.72 1.47 1.35L5.41 20z\"/>\n",
              "  </svg>\n",
              "      </button>\n",
              "      \n",
              "  <style>\n",
              "    .colab-df-container {\n",
              "      display:flex;\n",
              "      flex-wrap:wrap;\n",
              "      gap: 12px;\n",
              "    }\n",
              "\n",
              "    .colab-df-convert {\n",
              "      background-color: #E8F0FE;\n",
              "      border: none;\n",
              "      border-radius: 50%;\n",
              "      cursor: pointer;\n",
              "      display: none;\n",
              "      fill: #1967D2;\n",
              "      height: 32px;\n",
              "      padding: 0 0 0 0;\n",
              "      width: 32px;\n",
              "    }\n",
              "\n",
              "    .colab-df-convert:hover {\n",
              "      background-color: #E2EBFA;\n",
              "      box-shadow: 0px 1px 2px rgba(60, 64, 67, 0.3), 0px 1px 3px 1px rgba(60, 64, 67, 0.15);\n",
              "      fill: #174EA6;\n",
              "    }\n",
              "\n",
              "    [theme=dark] .colab-df-convert {\n",
              "      background-color: #3B4455;\n",
              "      fill: #D2E3FC;\n",
              "    }\n",
              "\n",
              "    [theme=dark] .colab-df-convert:hover {\n",
              "      background-color: #434B5C;\n",
              "      box-shadow: 0px 1px 3px 1px rgba(0, 0, 0, 0.15);\n",
              "      filter: drop-shadow(0px 1px 2px rgba(0, 0, 0, 0.3));\n",
              "      fill: #FFFFFF;\n",
              "    }\n",
              "  </style>\n",
              "\n",
              "      <script>\n",
              "        const buttonEl =\n",
              "          document.querySelector('#df-9ed1adc9-6e47-47af-be24-e633b615c655 button.colab-df-convert');\n",
              "        buttonEl.style.display =\n",
              "          google.colab.kernel.accessAllowed ? 'block' : 'none';\n",
              "\n",
              "        async function convertToInteractive(key) {\n",
              "          const element = document.querySelector('#df-9ed1adc9-6e47-47af-be24-e633b615c655');\n",
              "          const dataTable =\n",
              "            await google.colab.kernel.invokeFunction('convertToInteractive',\n",
              "                                                     [key], {});\n",
              "          if (!dataTable) return;\n",
              "\n",
              "          const docLinkHtml = 'Like what you see? Visit the ' +\n",
              "            '<a target=\"_blank\" href=https://colab.research.google.com/notebooks/data_table.ipynb>data table notebook</a>'\n",
              "            + ' to learn more about interactive tables.';\n",
              "          element.innerHTML = '';\n",
              "          dataTable['output_type'] = 'display_data';\n",
              "          await google.colab.output.renderOutput(dataTable, element);\n",
              "          const docLink = document.createElement('div');\n",
              "          docLink.innerHTML = docLinkHtml;\n",
              "          element.appendChild(docLink);\n",
              "        }\n",
              "      </script>\n",
              "    </div>\n",
              "  </div>\n",
              "  "
            ]
          },
          "metadata": {},
          "execution_count": 15
        }
      ]
    },
    {
      "cell_type": "markdown",
      "source": [
        "Creating a smaller dataframe from the big database to be used for modelling"
      ],
      "metadata": {
        "id": "oZZQoJIFsfsM"
      }
    },
    {
      "cell_type": "code",
      "source": [
        "df2 = df[['Component1', 'Component2','Level','Content1','EventId','Label1','combined']].copy()"
      ],
      "metadata": {
        "id": "HgiXFBZEs2WD"
      },
      "execution_count": null,
      "outputs": []
    },
    {
      "cell_type": "markdown",
      "source": [
        "Saving the dataset into a csv file"
      ],
      "metadata": {
        "id": "d35NNqecslRf"
      }
    },
    {
      "cell_type": "code",
      "source": [
        "df2.to_csv('clean_log_bgl.csv', encoding='utf-8')"
      ],
      "metadata": {
        "id": "EoDbTMbxtyXM"
      },
      "execution_count": null,
      "outputs": []
    },
    {
      "cell_type": "code",
      "source": [
        "\n",
        "whole_data_emb= df2[\"Content1\"]\n",
        "whole_data_label=df2[\"Label1\"]"
      ],
      "metadata": {
        "id": "HcFBiunYoxLe"
      },
      "execution_count": null,
      "outputs": []
    }
  ]
}