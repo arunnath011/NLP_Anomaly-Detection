{
  "nbformat": 4,
  "nbformat_minor": 0,
  "metadata": {
    "colab": {
      "provenance": []
    },
    "kernelspec": {
      "name": "python3",
      "display_name": "Python 3"
    },
    "language_info": {
      "name": "python"
    }
  },
  "cells": [
    {
      "cell_type": "code",
      "execution_count": null,
      "metadata": {
        "colab": {
          "base_uri": "https://localhost:8080/"
        },
        "id": "gy1hA1l8YlTb",
        "outputId": "b1da6727-1e37-4af1-dfb1-44e4f70980ec"
      },
      "outputs": [
        {
          "output_type": "stream",
          "name": "stdout",
          "text": [
            "os.environ=environ({'NV_LIBCUBLAS_DEV_VERSION': '11.4.1.1043-1', 'NV_CUDA_COMPAT_PACKAGE': 'cuda-compat-11-2', 'NV_CUDNN_PACKAGE_DEV': 'libcudnn8-dev=8.1.1.33-1+cuda11.2', 'LD_LIBRARY_PATH': '/usr/local/nvidia/lib:/usr/local/nvidia/lib64', 'NV_LIBNCCL_DEV_PACKAGE': 'libnccl-dev=2.8.4-1+cuda11.2', 'TCLLIBPATH': '/usr/share/tcltk/tcllib1.19', 'CLOUDSDK_PYTHON': 'python3', 'LANG': 'en_US.UTF-8', 'NV_LIBNPP_DEV_PACKAGE': 'libnpp-dev-11-2=11.3.2.152-1', 'HOSTNAME': '5b1ede0dbb00', 'OLDPWD': '/', 'CLOUDSDK_CONFIG': '/content/.config', 'NV_LIBNPP_VERSION': '11.3.2.152-1', 'NV_NVPROF_DEV_PACKAGE': 'cuda-nvprof-11-2=11.2.152-1', 'NVIDIA_VISIBLE_DEVICES': 'all', 'NV_NVPROF_VERSION': '11.2.152-1', 'NV_LIBCUSPARSE_VERSION': '11.4.1.1152-1', 'DATALAB_SETTINGS_OVERRIDES': '{\"kernelManagerProxyPort\":6000,\"kernelManagerProxyHost\":\"172.28.0.3\",\"jupyterArgs\":[\"--ip=172.28.0.2\"],\"debugAdapterMultiplexerPath\":\"/usr/local/bin/dap_multiplexer\",\"enableLsp\":true}', 'NV_LIBCUBLAS_DEV_PACKAGE': 'libcublas-dev-11-2=11.4.1.1043-1', 'ENV': '/root/.bashrc', 'NCCL_VERSION': '2.8.4-1', 'TF_FORCE_GPU_ALLOW_GROWTH': 'true', 'NO_GCE_CHECK': 'False', 'PWD': '/', 'NVARCH': 'x86_64', 'HOME': '/root', 'NV_LIBCUSPARSE_DEV_VERSION': '11.4.1.1152-1', 'KMP_LISTEN_PORT': '6000', 'LAST_FORCED_REBUILD': '20221107', 'NV_LIBNCCL_PACKAGE_VERSION': '2.8.4-1', 'NV_LIBNCCL_PACKAGE': 'libnccl2=2.8.4-1+cuda11.2', 'DEBIAN_FRONTEND': 'noninteractive', 'NV_LIBNCCL_DEV_PACKAGE_NAME': 'libnccl-dev', 'NV_CUDA_LIB_VERSION': '11.2.2-1', 'NV_LIBNPP_PACKAGE': 'libnpp-11-2=11.3.2.152-1', 'NV_LIBNCCL_PACKAGE_NAME': 'libnccl2', 'LIBRARY_PATH': '/usr/local/cuda/lib64/stubs', 'NV_NVTX_VERSION': '11.2.152-1', 'NV_LIBCUBLAS_VERSION': '11.4.1.1043-1', 'NV_LIBCUBLAS_PACKAGE': 'libcublas-11-2=11.4.1.1043-1', 'GCE_METADATA_TIMEOUT': '3', 'NV_CUDNN_VERSION': '8.1.1.33', 'VM_GCE_METADATA_HOST': '169.254.169.254', 'NV_CUDA_CUDART_DEV_VERSION': '11.2.152-1', 'KMP_TARGET_PORT': '9000', 'GLIBCPP_FORCE_NEW': '1', 'TBE_CREDS_ADDR': '172.28.0.1:8008', 'SHELL': '/bin/bash', 'GCS_READ_CACHE_BLOCK_SIZE_MB': '16', 'NV_NVML_DEV_VERSION': '11.2.152-1', 'PYTHONWARNINGS': 'ignore:::pip._internal.cli.base_command', 'CUDA_VERSION': '11.2.2', 'NV_LIBCUBLAS_PACKAGE_NAME': 'libcublas-11-2', 'NVIDIA_DRIVER_CAPABILITIES': 'compute,utility', 'TBE_RUNTIME_ADDR': '172.28.0.1:8011', 'SHLVL': '0', 'PYTHONPATH': '/env/python', 'NV_LIBCUBLAS_DEV_PACKAGE_NAME': 'libcublas-dev-11-2', 'NVIDIA_REQUIRE_CUDA': 'cuda>=11.2 brand=tesla,driver>=418,driver<419 brand=tesla,driver>=450,driver<451', 'NV_LIBNPP_DEV_VERSION': '11.3.2.152-1', 'TBE_EPHEM_CREDS_ADDR': '172.28.0.1:8009', 'NV_CUDA_CUDART_VERSION': '11.2.152-1', 'NV_CUDNN_PACKAGE_NAME': 'libcudnn8', 'GLIBCXX_FORCE_NEW': '1', 'PATH': '/opt/bin:/usr/local/nvidia/bin:/usr/local/cuda/bin:/usr/local/sbin:/usr/local/bin:/usr/sbin:/usr/bin:/sbin:/bin:/tools/node/bin:/tools/google-cloud-sdk/bin', 'NV_LIBNCCL_DEV_PACKAGE_VERSION': '2.8.4-1', 'LD_PRELOAD': '/usr/lib/x86_64-linux-gnu/libtcmalloc.so.4', 'NV_CUDNN_PACKAGE': 'libcudnn8=8.1.1.33-1+cuda11.2', 'JPY_PARENT_PID': '60', 'TERM': 'xterm-color', 'CLICOLOR': '1', 'PAGER': 'cat', 'GIT_PAGER': 'cat', 'MPLBACKEND': 'module://ipykernel.pylab.backend_inline', 'ENABLE_DIRECTORYPREFETCHER': '1', 'USE_AUTH_EPHEM': '1', 'PYDEVD_USE_FRAME_EVAL': 'NO'})\n",
            "sys.argv=['/usr/local/lib/python3.7/dist-packages/ipykernel_launcher.py', '-f', '/root/.local/share/jupyter/runtime/kernel-8ea91e9b-9f8b-4a68-89f1-03806d3a5a50.json']\n",
            "MLFLOW_TRACKING_URINone\n",
            "sys.executable=/usr/bin/python3\n",
            "sys.path=['/content', '/env/python', '/usr/lib/python37.zip', '/usr/lib/python3.7', '/usr/lib/python3.7/lib-dynload', '', '/usr/local/lib/python3.7/dist-packages', '/usr/lib/python3/dist-packages', '/usr/local/lib/python3.7/dist-packages/IPython/extensions', '/root/.ipython']\n"
          ]
        }
      ],
      "source": [
        "#getting all the packages\n",
        "import os\n",
        "import sys\n",
        "\n",
        "print(f'os.environ={os.environ}')\n",
        "print(f'sys.argv={sys.argv}')\n",
        "print(f\"MLFLOW_TRACKING_URI{os.environ.get('MLFLOW_TRACKING_URI')}\")\n",
        "print(f\"sys.executable={sys.executable}\")\n",
        "print(f\"sys.path={sys.path}\")"
      ]
    },
    {
      "cell_type": "code",
      "source": [
        "from google.colab import drive \n",
        "drive.mount('/content/gdrive/')"
      ],
      "metadata": {
        "colab": {
          "base_uri": "https://localhost:8080/"
        },
        "id": "vScCBsIesEyQ",
        "outputId": "d9b61101-e100-43a6-9fb7-3a10cb8bc764"
      },
      "execution_count": null,
      "outputs": [
        {
          "output_type": "stream",
          "name": "stdout",
          "text": [
            "Mounted at /content/gdrive/\n"
          ]
        }
      ]
    },
    {
      "cell_type": "code",
      "source": [
        "import os\n",
        "! git clone https://github.com/HelenGuohx/logbert.git\n"
      ],
      "metadata": {
        "colab": {
          "base_uri": "https://localhost:8080/"
        },
        "id": "ZIPeNCBGY4J6",
        "outputId": "33bc7917-0492-42e9-d809-1313dc554fee"
      },
      "execution_count": null,
      "outputs": [
        {
          "output_type": "stream",
          "name": "stdout",
          "text": [
            "Cloning into 'logbert'...\n",
            "remote: Enumerating objects: 130, done.\u001b[K\n",
            "remote: Counting objects: 100% (40/40), done.\u001b[K\n",
            "remote: Compressing objects: 100% (35/35), done.\u001b[K\n",
            "remote: Total 130 (delta 9), reused 5 (delta 5), pack-reused 90\u001b[K\n",
            "Receiving objects: 100% (130/130), 210.44 KiB | 3.09 MiB/s, done.\n",
            "Resolving deltas: 100% (21/21), done.\n"
          ]
        }
      ]
    },
    {
      "cell_type": "code",
      "source": [
        "import sys\n",
        "sys.path.append('/content/logbert/')\n",
        "from loglizer.models import InvariantsMiner, PCA, IsolationForest, OneClassSVM, LogClustering, LR, SVM\n",
        "from loglizer import dataloader, preprocessing\n",
        "from loglizer.utils import metrics\n",
        "from logdeep.dataset.session import sliding_window"
      ],
      "metadata": {
        "id": "Sbdol8j31Eiy"
      },
      "execution_count": null,
      "outputs": []
    },
    {
      "cell_type": "code",
      "source": [
        "#%cd logbert\n",
        "import os\n",
        "import gc\n",
        "import pandas as pd\n",
        "import numpy as np\n",
        "import argparse\n",
        "from tqdm import tqdm\n",
        "import argparse\n",
        "import numpy as np\n",
        "import random\n",
        "from sklearn.model_selection import GridSearchCV\n",
        "from sklearn import svm\n",
        "from sklearn.utils import shuffle"
      ],
      "metadata": {
        "id": "AOwXFIGfaWsA"
      },
      "execution_count": null,
      "outputs": []
    },
    {
      "cell_type": "code",
      "source": [
        "#train test split \n",
        "ouput_dir = \"/content/gdrive/MyDrive/bgl/\"\n",
        "middle_dir = \"\"\n",
        "log_file = \"bgl2\"\n",
        "\n",
        "(x_train, y_train), (x_test, y_test) = dataloader.load_data(ouput_dir, middle_dir, log_file, is_mapping=True)\n",
        "feature_extractor = preprocessing.FeatureExtractor()\n",
        "x_train = feature_extractor.fit_transform(x_train)\n",
        "x_test = feature_extractor.transform(x_test)"
      ],
      "metadata": {
        "colab": {
          "base_uri": "https://localhost:8080/"
        },
        "id": "eBLquuj31w1M",
        "outputId": "71e7ae40-054b-4995-facd-3481216b8cf5"
      },
      "execution_count": null,
      "outputs": [
        {
          "output_type": "stream",
          "name": "stdout",
          "text": [
            "Train normal size: 13527\n",
            "Train abnormal size: 1398\n",
            "Total logkey(exclude 0:UNK) 1000\n",
            "Test normal size: 20291\n",
            "Test abnormal size: 2099\n",
            "num_unk_event in test data: 0\n",
            "====== Transformed train data summary ======\n",
            "Train data shape: 14925-by-830\n",
            "\n",
            "====== Transformed test data summary ======\n",
            "Test data shape: 22390-by-830\n",
            "\n"
          ]
        }
      ]
    },
    {
      "cell_type": "code",
      "source": [
        "x_train[3]"
      ],
      "metadata": {
        "colab": {
          "base_uri": "https://localhost:8080/"
        },
        "id": "6IrcMixOTAyD",
        "outputId": "0fb77252-2129-46b2-b0d5-ea2348c83bfa"
      },
      "execution_count": null,
      "outputs": [
        {
          "output_type": "execute_result",
          "data": {
            "text/plain": [
              "array([0., 0., 0., 0., 1., 1., 0., 0., 0., 0., 0., 0., 0., 0., 0., 0., 0.,\n",
              "       0., 0., 0., 0., 0., 0., 0., 0., 0., 0., 0., 0., 0., 0., 0., 0., 0.,\n",
              "       0., 0., 0., 0., 0., 0., 0., 0., 0., 0., 0., 0., 0., 0., 0., 0., 0.,\n",
              "       0., 0., 0., 0., 0., 0., 0., 0., 0., 0., 0., 0., 0., 0., 0., 0., 0.,\n",
              "       0., 0., 0., 0., 0., 0., 0., 0., 0., 0., 0., 0., 0., 0., 0., 0., 0.,\n",
              "       0., 0., 0., 0., 0., 0., 0., 0., 0., 0., 0., 0., 0., 0., 0., 0., 0.,\n",
              "       0., 0., 0., 0., 0., 0., 0., 0., 0., 0., 0., 0., 0., 0., 0., 0., 0.,\n",
              "       0., 0., 0., 0., 0., 0., 0., 0., 0., 0., 0., 0., 0., 0., 0., 0., 0.,\n",
              "       0., 0., 0., 0., 0., 0., 0., 0., 0., 0., 0., 0., 0., 0., 0., 0., 0.,\n",
              "       0., 0., 0., 0., 0., 0., 0., 0., 0., 0., 0., 0., 0., 0., 0., 0., 0.,\n",
              "       0., 0., 0., 0., 0., 0., 0., 0., 0., 0., 0., 0., 0., 0., 0., 0., 0.,\n",
              "       0., 0., 0., 0., 0., 0., 0., 0., 0., 0., 0., 0., 0., 0., 0., 0., 0.,\n",
              "       0., 0., 0., 0., 0., 0., 0., 0., 0., 0., 0., 0., 0., 0., 0., 0., 0.,\n",
              "       0., 0., 0., 0., 0., 0., 0., 0., 0., 0., 0., 0., 0., 0., 0., 0., 0.,\n",
              "       0., 0., 0., 0., 0., 0., 0., 0., 0., 0., 0., 0., 0., 0., 0., 0., 0.,\n",
              "       0., 0., 0., 0., 0., 0., 0., 0., 0., 0., 0., 0., 0., 0., 0., 0., 0.,\n",
              "       0., 0., 0., 0., 0., 0., 0., 0., 0., 0., 0., 0., 0., 0., 0., 0., 0.,\n",
              "       0., 0., 0., 0., 0., 0., 0., 0., 0., 0., 0., 0., 0., 0., 0., 0., 0.,\n",
              "       0., 0., 0., 0., 0., 0., 0., 0., 0., 0., 0., 0., 0., 0., 0., 0., 0.,\n",
              "       0., 0., 0., 0., 0., 0., 0., 0., 0., 0., 0., 0., 0., 0., 0., 0., 0.,\n",
              "       0., 0., 0., 0., 0., 0., 0., 0., 0., 0., 0., 0., 0., 0., 0., 0., 0.,\n",
              "       0., 0., 0., 0., 0., 0., 0., 0., 0., 0., 0., 0., 0., 0., 0., 0., 0.,\n",
              "       0., 0., 0., 0., 0., 0., 0., 0., 0., 0., 0., 0., 0., 0., 0., 0., 0.,\n",
              "       0., 0., 0., 0., 0., 0., 0., 0., 0., 0., 0., 0., 0., 0., 0., 0., 0.,\n",
              "       0., 0., 0., 0., 0., 0., 0., 0., 0., 0., 0., 0., 0., 0., 0., 0., 0.,\n",
              "       0., 0., 0., 0., 0., 0., 0., 0., 0., 0., 0., 0., 0., 0., 0., 0., 0.,\n",
              "       0., 0., 0., 0., 0., 0., 0., 0., 0., 0., 0., 0., 0., 0., 0., 0., 0.,\n",
              "       0., 0., 0., 0., 0., 0., 0., 0., 0., 0., 0., 0., 0., 0., 0., 0., 0.,\n",
              "       0., 0., 0., 0., 0., 0., 0., 0., 0., 0., 0., 0., 0., 0., 0., 0., 0.,\n",
              "       0., 0., 0., 0., 0., 0., 0., 0., 0., 0., 0., 0., 0., 0., 0., 0., 0.,\n",
              "       0., 0., 0., 0., 0., 0., 0., 0., 0., 0., 0., 0., 0., 0., 0., 0., 0.,\n",
              "       0., 0., 0., 0., 0., 0., 0., 0., 0., 0., 0., 0., 0., 0., 0., 0., 0.,\n",
              "       0., 0., 0., 0., 0., 0., 0., 0., 0., 0., 0., 0., 0., 0., 0., 0., 0.,\n",
              "       0., 0., 0., 0., 0., 0., 0., 0., 0., 0., 0., 0., 0., 0., 0., 0., 0.,\n",
              "       0., 0., 0., 0., 0., 0., 0., 0., 0., 0., 0., 0., 0., 0., 0., 0., 0.,\n",
              "       0., 0., 0., 0., 0., 0., 0., 0., 0., 0., 0., 0., 0., 0., 0., 0., 0.,\n",
              "       0., 0., 0., 0., 0., 0., 0., 0., 0., 0., 0., 0., 0., 0., 0., 0., 0.,\n",
              "       0., 0., 0., 0., 0., 0., 0., 0., 0., 0., 0., 0., 0., 0., 0., 0., 0.,\n",
              "       0., 0., 0., 0., 0., 0., 0., 0., 0., 0., 0., 0., 0., 0., 0., 0., 0.,\n",
              "       0., 0., 0., 0., 0., 0., 0., 0., 0., 0., 0., 0., 0., 0., 0., 0., 0.,\n",
              "       0., 0., 0., 0., 0., 0., 0., 0., 0., 0., 0., 0., 0., 0., 0., 0., 0.,\n",
              "       0., 0., 0., 0., 0., 0., 0., 0., 0., 0., 0., 0., 0., 0., 0., 0., 0.,\n",
              "       0., 0., 0., 0., 0., 0., 0., 0., 0., 0., 0., 0., 0., 0., 0., 0., 0.,\n",
              "       0., 0., 0., 0., 0., 0., 0., 0., 0., 0., 0., 0., 0., 0., 0., 0., 0.,\n",
              "       0., 0., 0., 0., 0., 0., 0., 0., 0., 0., 0., 0., 0., 0., 0., 0., 0.,\n",
              "       0., 0., 0., 0., 0., 0., 0., 0., 0., 0., 0., 0., 0., 0., 0., 0., 0.,\n",
              "       0., 0., 0., 0., 0., 0., 0., 0., 0., 0., 0., 0., 0., 0., 0., 0., 0.,\n",
              "       0., 0., 0., 0., 0., 0., 0., 0., 0., 0., 0., 0., 0., 0., 0., 0., 0.,\n",
              "       0., 0., 0., 0., 0., 0., 0., 0., 0., 0., 0., 0., 0., 0.])"
            ]
          },
          "metadata": {},
          "execution_count": 8
        }
      ]
    },
    {
      "cell_type": "code",
      "source": [
        "#PCA analysis\n",
        "%%time\n",
        "print(\"=\"*20 + \" Model: PCA \" + \"=\"*20)\n",
        "for th in np.arange(1):\n",
        "    print(\"theshold\", th)\n",
        "    model = PCA(n_components=0.8, threshold=1, c_alpha = 1.9600)\n",
        "    model.fit(x_train)\n",
        "    print('Train validation:')\n",
        "    precision, recall, f1 = model.evaluate(x_train, y_train)\n",
        "    print('Test validation:')\n",
        "    precision, recall, f1 = model.evaluate(x_test, y_test)"
      ],
      "metadata": {
        "colab": {
          "base_uri": "https://localhost:8080/"
        },
        "id": "Ry2qklzm3qvu",
        "outputId": "a7d61b1c-b62e-4303-e77f-1a1b648ea567"
      },
      "execution_count": null,
      "outputs": [
        {
          "output_type": "stream",
          "name": "stdout",
          "text": [
            "==================== Model: PCA ====================\n",
            "theshold 0\n",
            "====== Model summary ======\n",
            "n_components: 4\n",
            "Project matrix shape: 830-by-830\n",
            "SPE threshold: 1\n",
            "\n",
            "Train validation:\n",
            "====== Evaluation summary ======\n",
            "Confusion Matrix: TP: 1325, FP: 11730, TN: 1797, FN: 73\n",
            "Precision: 10.149%, recall: 94.778%, F1-measure: 18.335%\n",
            "\n",
            "Test validation:\n",
            "====== Evaluation summary ======\n",
            "Confusion Matrix: TP: 1971, FP: 17700, TN: 2591, FN: 128\n",
            "Precision: 10.020%, recall: 93.902%, F1-measure: 18.108%\n",
            "\n",
            "CPU times: user 18.8 s, sys: 2.93 s, total: 21.8 s\n",
            "Wall time: 12.6 s\n"
          ]
        }
      ]
    },
    {
      "cell_type": "code",
      "source": [
        "#isolation forest\n",
        "%%time\n",
        "print(\"=\"*20 + \" Model: IsolationForest \" + \"=\"*20)\n",
        "model = IsolationForest(n_estimators=100, max_samples='auto', contamination='auto', random_state=19)\n",
        "model.fit(x_train)\n",
        "print('Train validation:')\n",
        "precision, recall, f1 = model.evaluate(x_train, y_train)\n",
        "print('Test validation:')\n",
        "precision, recall, f1 = model.evaluate(x_test, y_test)"
      ],
      "metadata": {
        "colab": {
          "base_uri": "https://localhost:8080/"
        },
        "id": "VqE3usbo5XAI",
        "outputId": "55eb1a31-e33e-41ee-a77e-7e88db172cc9"
      },
      "execution_count": null,
      "outputs": [
        {
          "output_type": "stream",
          "name": "stdout",
          "text": [
            "==================== Model: IsolationForest ====================\n",
            "====== Model summary ======\n",
            "Train validation:\n",
            "====== Evaluation summary ======\n",
            "Confusion Matrix: TP: 183, FP: 0, TN: 13527, FN: 1215\n",
            "Precision: 100.000, recall: 13.090, F1-measure: 23.150\n",
            "\n",
            "Test validation:\n",
            "====== Evaluation summary ======\n",
            "Confusion Matrix: TP: 292, FP: 0, TN: 20291, FN: 1807\n",
            "Precision: 100.000, recall: 13.911, F1-measure: 24.425\n",
            "\n",
            "CPU times: user 21.2 s, sys: 1.05 s, total: 22.3 s\n",
            "Wall time: 22.3 s\n"
          ]
        }
      ]
    },
    {
      "cell_type": "code",
      "source": [
        "#SVM\n",
        "%%time\n",
        "print(\"=\"*20 + \" Model: one class SVM \" + \"=\"*20)\n",
        "model = OneClassSVM(kernel='rbf')\n",
        "model.fit(x_train, y_train)\n",
        "\n",
        "print('Train validation:')\n",
        "precision, recall, f1 = model.evaluate(x_train, y_train)\n",
        "print('Test validation:')\n",
        "precision, recall, f1 = model.evaluate(x_test, y_test)"
      ],
      "metadata": {
        "colab": {
          "base_uri": "https://localhost:8080/"
        },
        "id": "0_Ey_Foh5nXd",
        "outputId": "2d745c9d-ba95-4d3a-a0b0-2cb74c2aa8d8"
      },
      "execution_count": null,
      "outputs": [
        {
          "output_type": "stream",
          "name": "stdout",
          "text": [
            "==================== Model: one class SVM ====================\n",
            "====== Model summary ======\n",
            "Train validation:\n",
            "====== Evaluation summary ======\n",
            "Confusion Matrix: TP: 214, FP: 13527, TN: 0, FN: 1184\n",
            "Precision: 1.557, recall: 15.308, F1-measure: 2.827\n",
            "\n",
            "Test validation:\n",
            "====== Evaluation summary ======\n",
            "Confusion Matrix: TP: 324, FP: 20291, TN: 0, FN: 1775\n",
            "Precision: 1.572, recall: 15.436, F1-measure: 2.853\n",
            "\n",
            "CPU times: user 6min 55s, sys: 435 ms, total: 6min 56s\n",
            "Wall time: 6min 55s\n"
          ]
        }
      ]
    },
    {
      "cell_type": "code",
      "source": [
        "#Clustering\n",
        "%%time\n",
        "print(\"=\"*20 + \" Model: LogClustering \" + \"=\"*20)\n",
        "max_dist = 0.3  # the threshold to stop the clustering process\n",
        "anomaly_threshold = 0.3  # the threshold for anomaly detection\n",
        "model = LogClustering(max_dist=max_dist, anomaly_threshold=anomaly_threshold)\n",
        "model.fit(x_train[y_train == 0, :])  # Use only normal samples for training\n",
        "print('Train validation:')\n",
        "precision, recall, f1 = model.evaluate(x_train, y_train)\n",
        "print('Test validation:')\n",
        "precision, recall, f1 = model.evaluate(x_test, y_test)"
      ],
      "metadata": {
        "colab": {
          "base_uri": "https://localhost:8080/"
        },
        "id": "sbqm67Ti7rlJ",
        "outputId": "f090a12d-ed1f-444b-81ff-b5b26b6cc204"
      },
      "execution_count": null,
      "outputs": [
        {
          "output_type": "stream",
          "name": "stdout",
          "text": [
            "==================== Model: LogClustering ====================\n",
            "====== Model summary ======\n",
            "Starting offline clustering...\n",
            "Processed 1000 instances.\n",
            "Found 86 clusters offline.\n",
            "\n",
            "Starting online clustering...\n",
            "Processed 2000 instances.\n",
            "Processed 4000 instances.\n",
            "Processed 6000 instances.\n",
            "Processed 8000 instances.\n",
            "Processed 10000 instances.\n",
            "Processed 12000 instances.\n",
            "Processed 13527 instances.\n",
            "Found 166 clusters online.\n",
            "\n",
            "Train validation:\n",
            "====== Evaluation summary ======\n",
            "Confusion Matrix: TP: 847, FP: 8, TN: 13519, FN: 551\n",
            "Precision: 99.064, recall: 60.587, F1-measure: 75.189\n",
            "\n",
            "Test validation:\n",
            "====== Evaluation summary ======\n",
            "Confusion Matrix: TP: 1269, FP: 56, TN: 20235, FN: 830\n",
            "Precision: 95.774, recall: 60.457, F1-measure: 74.124\n",
            "\n",
            "CPU times: user 2min 30s, sys: 1.59 s, total: 2min 31s\n",
            "Wall time: 2min 31s\n"
          ]
        }
      ]
    }
  ]
}