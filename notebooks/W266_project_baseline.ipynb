{
  "nbformat": 4,
  "nbformat_minor": 0,
  "metadata": {
    "colab": {
      "provenance": [],
      "collapsed_sections": []
    },
    "kernelspec": {
      "name": "python3",
      "display_name": "Python 3"
    },
    "language_info": {
      "name": "python"
    }
  },
  "cells": [
    {
      "cell_type": "code",
      "execution_count": null,
      "metadata": {
        "colab": {
          "base_uri": "https://localhost:8080/"
        },
        "id": "gy1hA1l8YlTb",
        "outputId": "ede8f501-541a-4fee-958e-8a93f2b4ead4"
      },
      "outputs": [
        {
          "output_type": "stream",
          "name": "stdout",
          "text": [
            "os.environ=environ({'NV_LIBCUBLAS_DEV_VERSION': '11.4.1.1043-1', 'NV_CUDA_COMPAT_PACKAGE': 'cuda-compat-11-2', 'NV_CUDNN_PACKAGE_DEV': 'libcudnn8-dev=8.1.1.33-1+cuda11.2', 'LD_LIBRARY_PATH': '/usr/local/nvidia/lib:/usr/local/nvidia/lib64', 'NV_LIBNCCL_DEV_PACKAGE': 'libnccl-dev=2.8.4-1+cuda11.2', 'TCLLIBPATH': '/usr/share/tcltk/tcllib1.19', 'CLOUDSDK_PYTHON': 'python3', 'LANG': 'en_US.UTF-8', 'NV_LIBNPP_DEV_PACKAGE': 'libnpp-dev-11-2=11.3.2.152-1', 'HOSTNAME': '0ce8d0f26c8c', 'OLDPWD': '/', 'CLOUDSDK_CONFIG': '/content/.config', 'NV_LIBNPP_VERSION': '11.3.2.152-1', 'NV_NVPROF_DEV_PACKAGE': 'cuda-nvprof-11-2=11.2.152-1', 'NVIDIA_VISIBLE_DEVICES': 'all', 'NV_NVPROF_VERSION': '11.2.152-1', 'NV_LIBCUSPARSE_VERSION': '11.4.1.1152-1', 'DATALAB_SETTINGS_OVERRIDES': '{\"kernelManagerProxyPort\":6000,\"kernelManagerProxyHost\":\"172.28.0.3\",\"jupyterArgs\":[\"--ip=172.28.0.2\"],\"debugAdapterMultiplexerPath\":\"/usr/local/bin/dap_multiplexer\",\"enableLsp\":true}', 'NV_LIBCUBLAS_DEV_PACKAGE': 'libcublas-dev-11-2=11.4.1.1043-1', 'ENV': '/root/.bashrc', 'NCCL_VERSION': '2.8.4-1', 'TF_FORCE_GPU_ALLOW_GROWTH': 'true', 'NO_GCE_CHECK': 'False', 'PWD': '/', 'NVARCH': 'x86_64', 'HOME': '/root', 'NV_LIBCUSPARSE_DEV_VERSION': '11.4.1.1152-1', 'KMP_LISTEN_PORT': '6000', 'LAST_FORCED_REBUILD': '20221006', 'NV_LIBNCCL_PACKAGE_VERSION': '2.8.4-1', 'NV_LIBNCCL_PACKAGE': 'libnccl2=2.8.4-1+cuda11.2', 'DEBIAN_FRONTEND': 'noninteractive', 'NV_LIBNCCL_DEV_PACKAGE_NAME': 'libnccl-dev', 'NV_CUDA_LIB_VERSION': '11.2.2-1', 'NV_LIBNPP_PACKAGE': 'libnpp-11-2=11.3.2.152-1', 'NV_LIBNCCL_PACKAGE_NAME': 'libnccl2', 'LIBRARY_PATH': '/usr/local/cuda/lib64/stubs', 'NV_NVTX_VERSION': '11.2.152-1', 'NV_LIBCUBLAS_VERSION': '11.4.1.1043-1', 'NV_LIBCUBLAS_PACKAGE': 'libcublas-11-2=11.4.1.1043-1', 'GCE_METADATA_TIMEOUT': '3', 'NV_CUDNN_VERSION': '8.1.1.33', 'VM_GCE_METADATA_HOST': '169.254.169.254', 'NV_CUDA_CUDART_DEV_VERSION': '11.2.152-1', 'KMP_TARGET_PORT': '9000', 'GLIBCPP_FORCE_NEW': '1', 'TBE_CREDS_ADDR': '172.28.0.1:8008', 'SHELL': '/bin/bash', 'GCS_READ_CACHE_BLOCK_SIZE_MB': '16', 'NV_NVML_DEV_VERSION': '11.2.152-1', 'PYTHONWARNINGS': 'ignore:::pip._internal.cli.base_command', 'CUDA_VERSION': '11.2.2', 'NV_LIBCUBLAS_PACKAGE_NAME': 'libcublas-11-2', 'NVIDIA_DRIVER_CAPABILITIES': 'compute,utility', 'TBE_RUNTIME_ADDR': '172.28.0.1:8011', 'SHLVL': '0', 'PYTHONPATH': '/env/python', 'NV_LIBCUBLAS_DEV_PACKAGE_NAME': 'libcublas-dev-11-2', 'NVIDIA_REQUIRE_CUDA': 'cuda>=11.2 brand=tesla,driver>=418,driver<419 brand=tesla,driver>=450,driver<451', 'NV_LIBNPP_DEV_VERSION': '11.3.2.152-1', 'TBE_EPHEM_CREDS_ADDR': '172.28.0.1:8009', 'NV_CUDA_CUDART_VERSION': '11.2.152-1', 'COLAB_GPU': '0', 'NV_CUDNN_PACKAGE_NAME': 'libcudnn8', 'GLIBCXX_FORCE_NEW': '1', 'PATH': '/opt/bin:/usr/local/nvidia/bin:/usr/local/cuda/bin:/usr/local/sbin:/usr/local/bin:/usr/sbin:/usr/bin:/sbin:/bin:/tools/node/bin:/tools/google-cloud-sdk/bin', 'NV_LIBNCCL_DEV_PACKAGE_VERSION': '2.8.4-1', 'LD_PRELOAD': '/usr/lib/x86_64-linux-gnu/libtcmalloc.so.4', 'NV_CUDNN_PACKAGE': 'libcudnn8=8.1.1.33-1+cuda11.2', 'JPY_PARENT_PID': '48', 'TERM': 'xterm-color', 'CLICOLOR': '1', 'PAGER': 'cat', 'GIT_PAGER': 'cat', 'MPLBACKEND': 'module://ipykernel.pylab.backend_inline', 'ENABLE_DIRECTORYPREFETCHER': '1', 'USE_AUTH_EPHEM': '1', 'PYDEVD_USE_FRAME_EVAL': 'NO', 'KMP_DUPLICATE_LIB_OK': 'True', 'KMP_INIT_AT_FORK': 'FALSE'})\n",
            "sys.argv=['/usr/local/lib/python3.7/dist-packages/ipykernel_launcher.py', '-f', '/root/.local/share/jupyter/runtime/kernel-a6c3c8e7-695c-4fb0-8feb-f88a03b11615.json']\n",
            "MLFLOW_TRACKING_URINone\n",
            "sys.executable=/usr/bin/python3\n",
            "sys.path=['/content', '/env/python', '/usr/lib/python37.zip', '/usr/lib/python3.7', '/usr/lib/python3.7/lib-dynload', '', '/usr/local/lib/python3.7/dist-packages', '/usr/lib/python3/dist-packages', '/usr/local/lib/python3.7/dist-packages/IPython/extensions', '/root/.ipython']\n"
          ]
        }
      ],
      "source": [
        "#getting all the packages\n",
        "import os\n",
        "import sys\n",
        "\n",
        "print(f'os.environ={os.environ}')\n",
        "print(f'sys.argv={sys.argv}')\n",
        "print(f\"MLFLOW_TRACKING_URI{os.environ.get('MLFLOW_TRACKING_URI')}\")\n",
        "print(f\"sys.executable={sys.executable}\")\n",
        "print(f\"sys.path={sys.path}\")"
      ]
    },
    {
      "cell_type": "code",
      "source": [
        "from google.colab import drive \n",
        "drive.mount('/content/gdrive/')"
      ],
      "metadata": {
        "colab": {
          "base_uri": "https://localhost:8080/"
        },
        "id": "vScCBsIesEyQ",
        "outputId": "86927b06-fea2-48df-fafe-d51b456f5932"
      },
      "execution_count": null,
      "outputs": [
        {
          "output_type": "stream",
          "name": "stdout",
          "text": [
            "Mounted at /content/gdrive/\n"
          ]
        }
      ]
    },
    {
      "cell_type": "code",
      "source": [
        "import os\n",
        "! git clone https://github.com/HelenGuohx/logbert.git\n"
      ],
      "metadata": {
        "colab": {
          "base_uri": "https://localhost:8080/"
        },
        "id": "ZIPeNCBGY4J6",
        "outputId": "554a0424-e1c8-4eb2-9e6e-07ee4df07b48"
      },
      "execution_count": null,
      "outputs": [
        {
          "output_type": "stream",
          "name": "stdout",
          "text": [
            "Cloning into 'logbert'...\n",
            "remote: Enumerating objects: 130, done.\u001b[K\n",
            "remote: Counting objects:   2% (1/40)\u001b[K\rremote: Counting objects:   5% (2/40)\u001b[K\rremote: Counting objects:   7% (3/40)\u001b[K\rremote: Counting objects:  10% (4/40)\u001b[K\rremote: Counting objects:  12% (5/40)\u001b[K\rremote: Counting objects:  15% (6/40)\u001b[K\rremote: Counting objects:  17% (7/40)\u001b[K\rremote: Counting objects:  20% (8/40)\u001b[K\rremote: Counting objects:  22% (9/40)\u001b[K\rremote: Counting objects:  25% (10/40)\u001b[K\rremote: Counting objects:  27% (11/40)\u001b[K\rremote: Counting objects:  30% (12/40)\u001b[K\rremote: Counting objects:  32% (13/40)\u001b[K\rremote: Counting objects:  35% (14/40)\u001b[K\rremote: Counting objects:  37% (15/40)\u001b[K\rremote: Counting objects:  40% (16/40)\u001b[K\rremote: Counting objects:  42% (17/40)\u001b[K\rremote: Counting objects:  45% (18/40)\u001b[K\rremote: Counting objects:  47% (19/40)\u001b[K\rremote: Counting objects:  50% (20/40)\u001b[K\rremote: Counting objects:  52% (21/40)\u001b[K\rremote: Counting objects:  55% (22/40)\u001b[K\rremote: Counting objects:  57% (23/40)\u001b[K\rremote: Counting objects:  60% (24/40)\u001b[K\rremote: Counting objects:  62% (25/40)\u001b[K\rremote: Counting objects:  65% (26/40)\u001b[K\rremote: Counting objects:  67% (27/40)\u001b[K\rremote: Counting objects:  70% (28/40)\u001b[K\rremote: Counting objects:  72% (29/40)\u001b[K\rremote: Counting objects:  75% (30/40)\u001b[K\rremote: Counting objects:  77% (31/40)\u001b[K\rremote: Counting objects:  80% (32/40)\u001b[K\rremote: Counting objects:  82% (33/40)\u001b[K\rremote: Counting objects:  85% (34/40)\u001b[K\rremote: Counting objects:  87% (35/40)\u001b[K\rremote: Counting objects:  90% (36/40)\u001b[K\rremote: Counting objects:  92% (37/40)\u001b[K\rremote: Counting objects:  95% (38/40)\u001b[K\rremote: Counting objects:  97% (39/40)\u001b[K\rremote: Counting objects: 100% (40/40)\u001b[K\rremote: Counting objects: 100% (40/40), done.\u001b[K\n",
            "remote: Compressing objects:   2% (1/35)\u001b[K\rremote: Compressing objects:   5% (2/35)\u001b[K\rremote: Compressing objects:   8% (3/35)\u001b[K\rremote: Compressing objects:  11% (4/35)\u001b[K\rremote: Compressing objects:  14% (5/35)\u001b[K\rremote: Compressing objects:  17% (6/35)\u001b[K\rremote: Compressing objects:  20% (7/35)\u001b[K\rremote: Compressing objects:  22% (8/35)\u001b[K\rremote: Compressing objects:  25% (9/35)\u001b[K\rremote: Compressing objects:  28% (10/35)\u001b[K\rremote: Compressing objects:  31% (11/35)\u001b[K\rremote: Compressing objects:  34% (12/35)\u001b[K\rremote: Compressing objects:  37% (13/35)\u001b[K\rremote: Compressing objects:  40% (14/35)\u001b[K\rremote: Compressing objects:  42% (15/35)\u001b[K\rremote: Compressing objects:  45% (16/35)\u001b[K\rremote: Compressing objects:  48% (17/35)\u001b[K\rremote: Compressing objects:  51% (18/35)\u001b[K\rremote: Compressing objects:  54% (19/35)\u001b[K\rremote: Compressing objects:  57% (20/35)\u001b[K\rremote: Compressing objects:  60% (21/35)\u001b[K\rremote: Compressing objects:  62% (22/35)\u001b[K\rremote: Compressing objects:  65% (23/35)\u001b[K\rremote: Compressing objects:  68% (24/35)\u001b[K\rremote: Compressing objects:  71% (25/35)\u001b[K\rremote: Compressing objects:  74% (26/35)\u001b[K\rremote: Compressing objects:  77% (27/35)\u001b[K\rremote: Compressing objects:  80% (28/35)\u001b[K\rremote: Compressing objects:  82% (29/35)\u001b[K\rremote: Compressing objects:  85% (30/35)\u001b[K\rremote: Compressing objects:  88% (31/35)\u001b[K\rremote: Compressing objects:  91% (32/35)\u001b[K\rremote: Compressing objects:  94% (33/35)\u001b[K\rremote: Compressing objects:  97% (34/35)\u001b[K\rremote: Compressing objects: 100% (35/35)\u001b[K\rremote: Compressing objects: 100% (35/35), done.\u001b[K\n",
            "Receiving objects:   0% (1/130)   \rReceiving objects:   1% (2/130)   \rReceiving objects:   2% (3/130)   \rReceiving objects:   3% (4/130)   \rReceiving objects:   4% (6/130)   \rReceiving objects:   5% (7/130)   \rReceiving objects:   6% (8/130)   \rReceiving objects:   7% (10/130)   \rReceiving objects:   8% (11/130)   \rReceiving objects:   9% (12/130)   \rReceiving objects:  10% (13/130)   \rReceiving objects:  11% (15/130)   \rReceiving objects:  12% (16/130)   \rReceiving objects:  13% (17/130)   \rReceiving objects:  14% (19/130)   \rReceiving objects:  15% (20/130)   \rReceiving objects:  16% (21/130)   \rReceiving objects:  17% (23/130)   \rReceiving objects:  18% (24/130)   \rReceiving objects:  19% (25/130)   \rReceiving objects:  20% (26/130)   \rReceiving objects:  21% (28/130)   \rReceiving objects:  22% (29/130)   \rReceiving objects:  23% (30/130)   \rReceiving objects:  24% (32/130)   \rReceiving objects:  25% (33/130)   \rReceiving objects:  26% (34/130)   \rReceiving objects:  27% (36/130)   \rReceiving objects:  28% (37/130)   \rReceiving objects:  29% (38/130)   \rReceiving objects:  30% (39/130)   \rReceiving objects:  31% (41/130)   \rReceiving objects:  32% (42/130)   \rReceiving objects:  33% (43/130)   \rReceiving objects:  34% (45/130)   \rReceiving objects:  35% (46/130)   \rReceiving objects:  36% (47/130)   \rReceiving objects:  37% (49/130)   \rReceiving objects:  38% (50/130)   \rReceiving objects:  39% (51/130)   \rReceiving objects:  40% (52/130)   \rReceiving objects:  41% (54/130)   \rReceiving objects:  42% (55/130)   \rReceiving objects:  43% (56/130)   \rReceiving objects:  44% (58/130)   \rReceiving objects:  45% (59/130)   \rReceiving objects:  46% (60/130)   \rReceiving objects:  47% (62/130)   \rReceiving objects:  48% (63/130)   \rReceiving objects:  49% (64/130)   \rReceiving objects:  50% (65/130)   \rReceiving objects:  51% (67/130)   \rReceiving objects:  52% (68/130)   \rReceiving objects:  53% (69/130)   \rReceiving objects:  54% (71/130)   \rReceiving objects:  55% (72/130)   \rReceiving objects:  56% (73/130)   \rReceiving objects:  57% (75/130)   \rReceiving objects:  58% (76/130)   \rReceiving objects:  59% (77/130)   \rReceiving objects:  60% (78/130)   \rReceiving objects:  61% (80/130)   \rReceiving objects:  62% (81/130)   \rReceiving objects:  63% (82/130)   \rReceiving objects:  64% (84/130)   \rReceiving objects:  65% (85/130)   \rReceiving objects:  66% (86/130)   \rReceiving objects:  67% (88/130)   \rReceiving objects:  68% (89/130)   \rReceiving objects:  69% (90/130)   \rReceiving objects:  70% (91/130)   \rReceiving objects:  71% (93/130)   \rReceiving objects:  72% (94/130)   \rReceiving objects:  73% (95/130)   \rReceiving objects:  74% (97/130)   \rReceiving objects:  75% (98/130)   \rReceiving objects:  76% (99/130)   \rReceiving objects:  77% (101/130)   \rReceiving objects:  78% (102/130)   \rReceiving objects:  79% (103/130)   \rReceiving objects:  80% (104/130)   \rReceiving objects:  81% (106/130)   \rReceiving objects:  82% (107/130)   \rReceiving objects:  83% (108/130)   \rReceiving objects:  84% (110/130)   \rReceiving objects:  85% (111/130)   \rReceiving objects:  86% (112/130)   \rReceiving objects:  87% (114/130)   \rReceiving objects:  88% (115/130)   \rReceiving objects:  89% (116/130)   \rReceiving objects:  90% (117/130)   \rReceiving objects:  91% (119/130)   \rReceiving objects:  92% (120/130)   \rReceiving objects:  93% (121/130)   \rReceiving objects:  94% (123/130)   \rremote: Total 130 (delta 9), reused 5 (delta 5), pack-reused 90\u001b[K\n",
            "Receiving objects:  95% (124/130)   \rReceiving objects:  96% (125/130)   \rReceiving objects:  97% (127/130)   \rReceiving objects:  98% (128/130)   \rReceiving objects:  99% (129/130)   \rReceiving objects: 100% (130/130)   \rReceiving objects: 100% (130/130), 210.44 KiB | 12.38 MiB/s, done.\n",
            "Resolving deltas:   0% (0/21)   \rResolving deltas:   4% (1/21)   \rResolving deltas:   9% (2/21)   \rResolving deltas:  14% (3/21)   \rResolving deltas:  23% (5/21)   \rResolving deltas:  38% (8/21)   \rResolving deltas:  42% (9/21)   \rResolving deltas:  47% (10/21)   \rResolving deltas:  61% (13/21)   \rResolving deltas:  71% (15/21)   \rResolving deltas:  76% (16/21)   \rResolving deltas:  80% (17/21)   \rResolving deltas:  85% (18/21)   \rResolving deltas:  95% (20/21)   \rResolving deltas: 100% (21/21)   \rResolving deltas: 100% (21/21), done.\n"
          ]
        }
      ]
    },
    {
      "cell_type": "code",
      "source": [
        "import sys\n",
        "sys.path.append('/content/logbert/')\n",
        "from loglizer.models import InvariantsMiner, PCA, IsolationForest, OneClassSVM, LogClustering, LR, SVM\n",
        "from loglizer import dataloader, preprocessing\n",
        "from loglizer.utils import metrics\n",
        "from logdeep.dataset.session import sliding_window"
      ],
      "metadata": {
        "id": "Sbdol8j31Eiy"
      },
      "execution_count": null,
      "outputs": []
    },
    {
      "cell_type": "code",
      "source": [
        "#%cd logbert\n",
        "\n",
        "import os\n",
        "import gc\n",
        "import pandas as pd\n",
        "import numpy as np\n",
        "\n",
        "import argparse\n",
        "from tqdm import tqdm\n",
        "import argparse\n",
        "import numpy as np\n",
        "import random\n",
        "from sklearn.model_selection import GridSearchCV\n",
        "from sklearn import svm\n",
        "from sklearn.utils import shuffle\n",
        "\n"
      ],
      "metadata": {
        "id": "AOwXFIGfaWsA"
      },
      "execution_count": null,
      "outputs": []
    },
    {
      "cell_type": "code",
      "source": [
        "#train test split \n",
        "ouput_dir = \"/content/gdrive/MyDrive/W266_Final_Project/Tbird parsed/\"\n",
        "middle_dir = \"\"\n",
        "log_file = \"Thunderbird_20M.log\"\n",
        "\n",
        "(x_train, y_train), (x_test, y_test) = dataloader.load_data(ouput_dir, middle_dir, log_file, is_mapping=True)\n",
        "feature_extractor = preprocessing.FeatureExtractor()\n",
        "x_train = feature_extractor.fit_transform(x_train)\n",
        "x_test = feature_extractor.transform(x_test)"
      ],
      "metadata": {
        "colab": {
          "base_uri": "https://localhost:8080/"
        },
        "id": "eBLquuj31w1M",
        "outputId": "694f82fe-4798-4ecd-8a90-5a3460079403"
      },
      "execution_count": null,
      "outputs": [
        {
          "output_type": "stream",
          "name": "stderr",
          "text": [
            "/content/logbert/loglizer/dataloader.py:286: VisibleDeprecationWarning: Creating an ndarray from ragged nested sequences (which is a list-or-tuple of lists-or-tuples-or ndarrays with different lengths or shapes) is deprecated. If you meant to do this, you must specify 'dtype=object' when creating the ndarray.\n",
            "  train = np.array(train).reshape(-1,1)\n",
            "/content/logbert/loglizer/dataloader.py:292: VisibleDeprecationWarning: Creating an ndarray from ragged nested sequences (which is a list-or-tuple of lists-or-tuples-or ndarrays with different lengths or shapes) is deprecated. If you meant to do this, you must specify 'dtype=object' when creating the ndarray.\n",
            "  test_normal = np.array(test_normal).reshape(-1,1)\n",
            "/content/logbert/loglizer/dataloader.py:298: VisibleDeprecationWarning: Creating an ndarray from ragged nested sequences (which is a list-or-tuple of lists-or-tuples-or ndarrays with different lengths or shapes) is deprecated. If you meant to do this, you must specify 'dtype=object' when creating the ndarray.\n",
            "  abnormal = np.array(abnormal).reshape(-1,1)\n"
          ]
        },
        {
          "output_type": "stream",
          "name": "stdout",
          "text": [
            "Train normal size: 6000\n",
            "Train abnormal size: 3000\n",
            "Total logkey(exclude 0:UNK) 1206\n",
            "Test normal size: 71155\n",
            "Test abnormal size: 42385\n",
            "num_unk_event in test data: 0\n",
            "====== Transformed train data summary ======\n",
            "Train data shape: 9000-by-921\n",
            "\n",
            "====== Transformed test data summary ======\n",
            "Test data shape: 113540-by-921\n",
            "\n"
          ]
        }
      ]
    },
    {
      "cell_type": "code",
      "source": [
        "#PCA analysis\n",
        "%%time\n",
        "print(\"=\"*20 + \" Model: PCA \" + \"=\"*20)\n",
        "for th in np.arange(1):\n",
        "    print(\"theshold\", th)\n",
        "    model = PCA(n_components=0.8, threshold=1, c_alpha = 1.9600)\n",
        "    model.fit(x_train)\n",
        "    print('Train validation:')\n",
        "    precision, recall, f1 = model.evaluate(x_train, y_train)\n",
        "    print('Test validation:')\n",
        "    precision, recall, f1 = model.evaluate(x_test, y_test)"
      ],
      "metadata": {
        "colab": {
          "base_uri": "https://localhost:8080/"
        },
        "id": "Ry2qklzm3qvu",
        "outputId": "e71cdef5-fb18-43cb-c7a4-807073c49d44"
      },
      "execution_count": null,
      "outputs": [
        {
          "output_type": "stream",
          "name": "stdout",
          "text": [
            "==================== Model: PCA ====================\n",
            "theshold 0\n",
            "====== Model summary ======\n",
            "n_components: 5\n",
            "Project matrix shape: 921-by-921\n",
            "SPE threshold: 1\n",
            "\n",
            "Train validation:\n",
            "====== Evaluation summary ======\n",
            "Confusion Matrix: TP: 3000, FP: 5996, TN: 4, FN: 0\n",
            "Precision: 33.348%, recall: 100.000%, F1-measure: 50.017%\n",
            "\n",
            "Test validation:\n",
            "====== Evaluation summary ======\n",
            "Confusion Matrix: TP: 42385, FP: 71091, TN: 64, FN: 0\n",
            "Precision: 37.352%, recall: 100.000%, F1-measure: 54.388%\n",
            "\n",
            "CPU times: user 34.4 s, sys: 2.75 s, total: 37.1 s\n",
            "Wall time: 19.1 s\n"
          ]
        }
      ]
    },
    {
      "cell_type": "code",
      "source": [
        "#isolation forest\n",
        "%%time\n",
        "print(\"=\"*20 + \" Model: IsolationForest \" + \"=\"*20)\n",
        "model = IsolationForest(n_estimators=100, max_samples='auto', contamination='auto', random_state=19)\n",
        "model.fit(x_train)\n",
        "print('Train validation:')\n",
        "precision, recall, f1 = model.evaluate(x_train, y_train)\n",
        "print('Test validation:')\n",
        "precision, recall, f1 = model.evaluate(x_test, y_test)"
      ],
      "metadata": {
        "colab": {
          "base_uri": "https://localhost:8080/"
        },
        "id": "VqE3usbo5XAI",
        "outputId": "a51f5822-b1af-4dcc-ce41-0e81cc48f350"
      },
      "execution_count": null,
      "outputs": [
        {
          "output_type": "stream",
          "name": "stdout",
          "text": [
            "==================== Model: IsolationForest ====================\n",
            "====== Model summary ======\n",
            "Train validation:\n",
            "====== Evaluation summary ======\n",
            "Confusion Matrix: TP: 49, FP: 104, TN: 5896, FN: 2951\n",
            "Precision: 32.026, recall: 1.633, F1-measure: 3.108\n",
            "\n",
            "Test validation:\n",
            "====== Evaluation summary ======\n",
            "Confusion Matrix: TP: 686, FP: 1297, TN: 69858, FN: 41699\n",
            "Precision: 34.594, recall: 1.619, F1-measure: 3.092\n",
            "\n",
            "CPU times: user 35.7 s, sys: 8.31 s, total: 44 s\n",
            "Wall time: 44 s\n"
          ]
        }
      ]
    },
    {
      "cell_type": "code",
      "source": [
        "#SVM\n",
        "%%time\n",
        "print(\"=\"*20 + \" Model: one class SVM \" + \"=\"*20)\n",
        "model = OneClassSVM(kernel='rbf')\n",
        "model.fit(x_train, y_train)\n",
        "\n",
        "print('Train validation:')\n",
        "precision, recall, f1 = model.evaluate(x_train, y_train)\n",
        "print('Test validation:')\n",
        "precision, recall, f1 = model.evaluate(x_test, y_test)"
      ],
      "metadata": {
        "colab": {
          "base_uri": "https://localhost:8080/"
        },
        "id": "0_Ey_Foh5nXd",
        "outputId": "76c6e0b0-b20b-4b8b-d53d-46f7935642ac"
      },
      "execution_count": null,
      "outputs": [
        {
          "output_type": "stream",
          "name": "stdout",
          "text": [
            "==================== Model: one class SVM ====================\n",
            "====== Model summary ======\n",
            "Train validation:\n",
            "====== Evaluation summary ======\n",
            "Confusion Matrix: TP: 976, FP: 6000, TN: 0, FN: 2024\n",
            "Precision: 13.991, recall: 32.533, F1-measure: 19.567\n",
            "\n",
            "Test validation:\n",
            "====== Evaluation summary ======\n",
            "Confusion Matrix: TP: 14728, FP: 71155, TN: 0, FN: 27657\n",
            "Precision: 17.149, recall: 34.748, F1-measure: 22.964\n",
            "\n",
            "CPU times: user 8min 38s, sys: 631 ms, total: 8min 39s\n",
            "Wall time: 8min 37s\n"
          ]
        }
      ]
    },
    {
      "cell_type": "code",
      "source": [
        "#Clustering\n",
        "%%time\n",
        "print(\"=\"*20 + \" Model: LogClustering \" + \"=\"*20)\n",
        "max_dist = 0.3  # the threshold to stop the clustering process\n",
        "anomaly_threshold = 0.3  # the threshold for anomaly detection\n",
        "model = LogClustering(max_dist=max_dist, anomaly_threshold=anomaly_threshold)\n",
        "model.fit(x_train[y_train == 0, :])  # Use only normal samples for training\n",
        "print('Train validation:')\n",
        "precision, recall, f1 = model.evaluate(x_train, y_train)\n",
        "print('Test validation:')\n",
        "precision, recall, f1 = model.evaluate(x_test, y_test)"
      ],
      "metadata": {
        "colab": {
          "base_uri": "https://localhost:8080/"
        },
        "id": "sbqm67Ti7rlJ",
        "outputId": "47132595-b6f7-4543-fcca-5cecb48b32cf"
      },
      "execution_count": null,
      "outputs": [
        {
          "output_type": "stream",
          "name": "stdout",
          "text": [
            "==================== Model: LogClustering ====================\n",
            "====== Model summary ======\n",
            "Starting offline clustering...\n",
            "Processed 1000 instances.\n",
            "Found 75 clusters offline.\n",
            "\n",
            "Starting online clustering...\n",
            "Processed 2000 instances.\n",
            "Processed 4000 instances.\n",
            "Processed 6000 instances.\n",
            "Processed 6000 instances.\n",
            "Found 110 clusters online.\n",
            "\n",
            "Train validation:\n",
            "====== Evaluation summary ======\n",
            "Confusion Matrix: TP: 1348, FP: 1, TN: 5999, FN: 1652\n",
            "Precision: 99.926, recall: 44.933, F1-measure: 61.991\n",
            "\n",
            "Test validation:\n",
            "====== Evaluation summary ======\n",
            "Confusion Matrix: TP: 19242, FP: 376, TN: 70779, FN: 23143\n",
            "Precision: 98.083, recall: 45.398, F1-measure: 62.068\n",
            "\n",
            "CPU times: user 2min 53s, sys: 713 ms, total: 2min 54s\n",
            "Wall time: 2min 54s\n"
          ]
        }
      ]
    }
  ]
}